{
 "cells": [
  {
   "cell_type": "code",
   "execution_count": 2,
   "id": "primary-enterprise",
   "metadata": {},
   "outputs": [],
   "source": [
    "import numpy as np\n",
    "import pandas as pd\n",
    "from sklearn.metrics import mean_squared_error,r2_score\n",
    "from sklearn.model_selection import train_test_split,GridSearchCV\n",
    "from sklearn import model_selection\n",
    "import matplotlib.pyplot as plt\n",
    "from sklearn.preprocessing import scale\n",
    "from sklearn.preprocessing import StandardScaler\n",
    "from sklearn.linear_model import LinearRegression\n",
    "from sklearn.tree import DecisionTreeRegressor\n",
    "from sklearn.neighbors import KNeighborsRegressor\n",
    "from sklearn.neural_network import MLPRegressor\n",
    "from sklearn.ensemble import RandomForestRegressor\n",
    "from sklearn.ensemble import GradientBoostingRegressor\n",
    "from sklearn import neighbors\n",
    "from sklearn.svm import SVR\n",
    "\n"
   ]
  },
  {
   "cell_type": "code",
   "execution_count": 7,
   "id": "engaging-potato",
   "metadata": {},
   "outputs": [],
   "source": [
    "df=pd.read_csv(\"Hitters.csv\")\n",
    "df=df.dropna()\n",
    "dms=pd.get_dummies(df[[\"League\",\"Division\",\"NewLeague\"]])\n",
    "y=df[\"Salary\"]\n",
    "X_=df.drop([\"Salary\",\"League\",\"Division\",\"NewLeague\"],axis=1).astype(\"float64\")\n",
    "X=pd.concat([X_,dms[[\"League_N\",\"Division_W\",\"NewLeague_N\"]]],axis=1)\n",
    "X_train,X_test,y_train,y_test=train_test_split(X,\n",
    "                                               y,\n",
    "                                              test_size=0.25,\n",
    "                                              random_state=42)"
   ]
  },
  {
   "cell_type": "code",
   "execution_count": 15,
   "id": "numerous-attitude",
   "metadata": {
    "collapsed": true,
    "jupyter": {
     "outputs_hidden": true
    }
   },
   "outputs": [
    {
     "data": {
      "text/html": [
       "<div>\n",
       "<style scoped>\n",
       "    .dataframe tbody tr th:only-of-type {\n",
       "        vertical-align: middle;\n",
       "    }\n",
       "\n",
       "    .dataframe tbody tr th {\n",
       "        vertical-align: top;\n",
       "    }\n",
       "\n",
       "    .dataframe thead th {\n",
       "        text-align: right;\n",
       "    }\n",
       "</style>\n",
       "<table border=\"1\" class=\"dataframe\">\n",
       "  <thead>\n",
       "    <tr style=\"text-align: right;\">\n",
       "      <th></th>\n",
       "      <th>AtBat</th>\n",
       "      <th>Hits</th>\n",
       "      <th>HmRun</th>\n",
       "      <th>Runs</th>\n",
       "      <th>RBI</th>\n",
       "      <th>Walks</th>\n",
       "      <th>Years</th>\n",
       "      <th>CAtBat</th>\n",
       "      <th>CHits</th>\n",
       "      <th>CHmRun</th>\n",
       "      <th>CRuns</th>\n",
       "      <th>CRBI</th>\n",
       "      <th>CWalks</th>\n",
       "      <th>League</th>\n",
       "      <th>Division</th>\n",
       "      <th>PutOuts</th>\n",
       "      <th>Assists</th>\n",
       "      <th>Errors</th>\n",
       "      <th>Salary</th>\n",
       "      <th>NewLeague</th>\n",
       "    </tr>\n",
       "  </thead>\n",
       "  <tbody>\n",
       "    <tr>\n",
       "      <th>1</th>\n",
       "      <td>315</td>\n",
       "      <td>81</td>\n",
       "      <td>7</td>\n",
       "      <td>24</td>\n",
       "      <td>38</td>\n",
       "      <td>39</td>\n",
       "      <td>14</td>\n",
       "      <td>3449</td>\n",
       "      <td>835</td>\n",
       "      <td>69</td>\n",
       "      <td>321</td>\n",
       "      <td>414</td>\n",
       "      <td>375</td>\n",
       "      <td>N</td>\n",
       "      <td>W</td>\n",
       "      <td>632</td>\n",
       "      <td>43</td>\n",
       "      <td>10</td>\n",
       "      <td>475.0</td>\n",
       "      <td>N</td>\n",
       "    </tr>\n",
       "    <tr>\n",
       "      <th>2</th>\n",
       "      <td>479</td>\n",
       "      <td>130</td>\n",
       "      <td>18</td>\n",
       "      <td>66</td>\n",
       "      <td>72</td>\n",
       "      <td>76</td>\n",
       "      <td>3</td>\n",
       "      <td>1624</td>\n",
       "      <td>457</td>\n",
       "      <td>63</td>\n",
       "      <td>224</td>\n",
       "      <td>266</td>\n",
       "      <td>263</td>\n",
       "      <td>A</td>\n",
       "      <td>W</td>\n",
       "      <td>880</td>\n",
       "      <td>82</td>\n",
       "      <td>14</td>\n",
       "      <td>480.0</td>\n",
       "      <td>A</td>\n",
       "    </tr>\n",
       "    <tr>\n",
       "      <th>3</th>\n",
       "      <td>496</td>\n",
       "      <td>141</td>\n",
       "      <td>20</td>\n",
       "      <td>65</td>\n",
       "      <td>78</td>\n",
       "      <td>37</td>\n",
       "      <td>11</td>\n",
       "      <td>5628</td>\n",
       "      <td>1575</td>\n",
       "      <td>225</td>\n",
       "      <td>828</td>\n",
       "      <td>838</td>\n",
       "      <td>354</td>\n",
       "      <td>N</td>\n",
       "      <td>E</td>\n",
       "      <td>200</td>\n",
       "      <td>11</td>\n",
       "      <td>3</td>\n",
       "      <td>500.0</td>\n",
       "      <td>N</td>\n",
       "    </tr>\n",
       "    <tr>\n",
       "      <th>4</th>\n",
       "      <td>321</td>\n",
       "      <td>87</td>\n",
       "      <td>10</td>\n",
       "      <td>39</td>\n",
       "      <td>42</td>\n",
       "      <td>30</td>\n",
       "      <td>2</td>\n",
       "      <td>396</td>\n",
       "      <td>101</td>\n",
       "      <td>12</td>\n",
       "      <td>48</td>\n",
       "      <td>46</td>\n",
       "      <td>33</td>\n",
       "      <td>N</td>\n",
       "      <td>E</td>\n",
       "      <td>805</td>\n",
       "      <td>40</td>\n",
       "      <td>4</td>\n",
       "      <td>91.5</td>\n",
       "      <td>N</td>\n",
       "    </tr>\n",
       "    <tr>\n",
       "      <th>5</th>\n",
       "      <td>594</td>\n",
       "      <td>169</td>\n",
       "      <td>4</td>\n",
       "      <td>74</td>\n",
       "      <td>51</td>\n",
       "      <td>35</td>\n",
       "      <td>11</td>\n",
       "      <td>4408</td>\n",
       "      <td>1133</td>\n",
       "      <td>19</td>\n",
       "      <td>501</td>\n",
       "      <td>336</td>\n",
       "      <td>194</td>\n",
       "      <td>A</td>\n",
       "      <td>W</td>\n",
       "      <td>282</td>\n",
       "      <td>421</td>\n",
       "      <td>25</td>\n",
       "      <td>750.0</td>\n",
       "      <td>A</td>\n",
       "    </tr>\n",
       "  </tbody>\n",
       "</table>\n",
       "</div>"
      ],
      "text/plain": [
       "   AtBat  Hits  HmRun  Runs  RBI  Walks  Years  CAtBat  CHits  CHmRun  CRuns  \\\n",
       "1    315    81      7    24   38     39     14    3449    835      69    321   \n",
       "2    479   130     18    66   72     76      3    1624    457      63    224   \n",
       "3    496   141     20    65   78     37     11    5628   1575     225    828   \n",
       "4    321    87     10    39   42     30      2     396    101      12     48   \n",
       "5    594   169      4    74   51     35     11    4408   1133      19    501   \n",
       "\n",
       "   CRBI  CWalks League Division  PutOuts  Assists  Errors  Salary NewLeague  \n",
       "1   414     375      N        W      632       43      10   475.0         N  \n",
       "2   266     263      A        W      880       82      14   480.0         A  \n",
       "3   838     354      N        E      200       11       3   500.0         N  \n",
       "4    46      33      N        E      805       40       4    91.5         N  \n",
       "5   336     194      A        W      282      421      25   750.0         A  "
      ]
     },
     "execution_count": 15,
     "metadata": {},
     "output_type": "execute_result"
    }
   ],
   "source": [
    "df.head()"
   ]
  },
  {
   "cell_type": "code",
   "execution_count": 8,
   "id": "meaningful-holocaust",
   "metadata": {
    "collapsed": true,
    "jupyter": {
     "outputs_hidden": true
    }
   },
   "outputs": [
    {
     "data": {
      "text/html": [
       "<div>\n",
       "<style scoped>\n",
       "    .dataframe tbody tr th:only-of-type {\n",
       "        vertical-align: middle;\n",
       "    }\n",
       "\n",
       "    .dataframe tbody tr th {\n",
       "        vertical-align: top;\n",
       "    }\n",
       "\n",
       "    .dataframe thead th {\n",
       "        text-align: right;\n",
       "    }\n",
       "</style>\n",
       "<table border=\"1\" class=\"dataframe\">\n",
       "  <thead>\n",
       "    <tr style=\"text-align: right;\">\n",
       "      <th></th>\n",
       "      <th>AtBat</th>\n",
       "      <th>Hits</th>\n",
       "      <th>HmRun</th>\n",
       "      <th>Runs</th>\n",
       "      <th>RBI</th>\n",
       "      <th>Walks</th>\n",
       "      <th>Years</th>\n",
       "      <th>CAtBat</th>\n",
       "      <th>CHits</th>\n",
       "      <th>CHmRun</th>\n",
       "      <th>CRuns</th>\n",
       "      <th>CRBI</th>\n",
       "      <th>CWalks</th>\n",
       "      <th>PutOuts</th>\n",
       "      <th>Assists</th>\n",
       "      <th>Errors</th>\n",
       "      <th>League_N</th>\n",
       "      <th>Division_W</th>\n",
       "      <th>NewLeague_N</th>\n",
       "    </tr>\n",
       "  </thead>\n",
       "  <tbody>\n",
       "    <tr>\n",
       "      <th>183</th>\n",
       "      <td>328.0</td>\n",
       "      <td>91.0</td>\n",
       "      <td>12.0</td>\n",
       "      <td>51.0</td>\n",
       "      <td>43.0</td>\n",
       "      <td>33.0</td>\n",
       "      <td>2.0</td>\n",
       "      <td>342.0</td>\n",
       "      <td>94.0</td>\n",
       "      <td>12.0</td>\n",
       "      <td>51.0</td>\n",
       "      <td>44.0</td>\n",
       "      <td>33.0</td>\n",
       "      <td>145.0</td>\n",
       "      <td>59.0</td>\n",
       "      <td>8.0</td>\n",
       "      <td>1</td>\n",
       "      <td>0</td>\n",
       "      <td>1</td>\n",
       "    </tr>\n",
       "    <tr>\n",
       "      <th>229</th>\n",
       "      <td>514.0</td>\n",
       "      <td>144.0</td>\n",
       "      <td>0.0</td>\n",
       "      <td>67.0</td>\n",
       "      <td>54.0</td>\n",
       "      <td>79.0</td>\n",
       "      <td>9.0</td>\n",
       "      <td>4739.0</td>\n",
       "      <td>1169.0</td>\n",
       "      <td>13.0</td>\n",
       "      <td>583.0</td>\n",
       "      <td>374.0</td>\n",
       "      <td>528.0</td>\n",
       "      <td>229.0</td>\n",
       "      <td>453.0</td>\n",
       "      <td>15.0</td>\n",
       "      <td>1</td>\n",
       "      <td>0</td>\n",
       "      <td>1</td>\n",
       "    </tr>\n",
       "    <tr>\n",
       "      <th>286</th>\n",
       "      <td>593.0</td>\n",
       "      <td>152.0</td>\n",
       "      <td>23.0</td>\n",
       "      <td>69.0</td>\n",
       "      <td>75.0</td>\n",
       "      <td>53.0</td>\n",
       "      <td>6.0</td>\n",
       "      <td>2765.0</td>\n",
       "      <td>686.0</td>\n",
       "      <td>133.0</td>\n",
       "      <td>369.0</td>\n",
       "      <td>384.0</td>\n",
       "      <td>321.0</td>\n",
       "      <td>315.0</td>\n",
       "      <td>10.0</td>\n",
       "      <td>6.0</td>\n",
       "      <td>0</td>\n",
       "      <td>1</td>\n",
       "      <td>0</td>\n",
       "    </tr>\n",
       "    <tr>\n",
       "      <th>102</th>\n",
       "      <td>233.0</td>\n",
       "      <td>49.0</td>\n",
       "      <td>2.0</td>\n",
       "      <td>41.0</td>\n",
       "      <td>23.0</td>\n",
       "      <td>18.0</td>\n",
       "      <td>8.0</td>\n",
       "      <td>1350.0</td>\n",
       "      <td>336.0</td>\n",
       "      <td>7.0</td>\n",
       "      <td>166.0</td>\n",
       "      <td>122.0</td>\n",
       "      <td>106.0</td>\n",
       "      <td>102.0</td>\n",
       "      <td>132.0</td>\n",
       "      <td>10.0</td>\n",
       "      <td>0</td>\n",
       "      <td>0</td>\n",
       "      <td>0</td>\n",
       "    </tr>\n",
       "    <tr>\n",
       "      <th>153</th>\n",
       "      <td>341.0</td>\n",
       "      <td>95.0</td>\n",
       "      <td>6.0</td>\n",
       "      <td>48.0</td>\n",
       "      <td>42.0</td>\n",
       "      <td>20.0</td>\n",
       "      <td>10.0</td>\n",
       "      <td>2964.0</td>\n",
       "      <td>808.0</td>\n",
       "      <td>81.0</td>\n",
       "      <td>379.0</td>\n",
       "      <td>428.0</td>\n",
       "      <td>221.0</td>\n",
       "      <td>158.0</td>\n",
       "      <td>4.0</td>\n",
       "      <td>5.0</td>\n",
       "      <td>1</td>\n",
       "      <td>1</td>\n",
       "      <td>1</td>\n",
       "    </tr>\n",
       "  </tbody>\n",
       "</table>\n",
       "</div>"
      ],
      "text/plain": [
       "     AtBat   Hits  HmRun  Runs   RBI  Walks  Years  CAtBat   CHits  CHmRun  \\\n",
       "183  328.0   91.0   12.0  51.0  43.0   33.0    2.0   342.0    94.0    12.0   \n",
       "229  514.0  144.0    0.0  67.0  54.0   79.0    9.0  4739.0  1169.0    13.0   \n",
       "286  593.0  152.0   23.0  69.0  75.0   53.0    6.0  2765.0   686.0   133.0   \n",
       "102  233.0   49.0    2.0  41.0  23.0   18.0    8.0  1350.0   336.0     7.0   \n",
       "153  341.0   95.0    6.0  48.0  42.0   20.0   10.0  2964.0   808.0    81.0   \n",
       "\n",
       "     CRuns   CRBI  CWalks  PutOuts  Assists  Errors  League_N  Division_W  \\\n",
       "183   51.0   44.0    33.0    145.0     59.0     8.0         1           0   \n",
       "229  583.0  374.0   528.0    229.0    453.0    15.0         1           0   \n",
       "286  369.0  384.0   321.0    315.0     10.0     6.0         0           1   \n",
       "102  166.0  122.0   106.0    102.0    132.0    10.0         0           0   \n",
       "153  379.0  428.0   221.0    158.0      4.0     5.0         1           1   \n",
       "\n",
       "     NewLeague_N  \n",
       "183            1  \n",
       "229            1  \n",
       "286            0  \n",
       "102            0  \n",
       "153            1  "
      ]
     },
     "execution_count": 8,
     "metadata": {},
     "output_type": "execute_result"
    }
   ],
   "source": [
    "X_train.head()"
   ]
  },
  {
   "cell_type": "markdown",
   "id": "parallel-necklace",
   "metadata": {},
   "source": [
    "# KNN\n",
    "# Model & Tahmin"
   ]
  },
  {
   "cell_type": "code",
   "execution_count": 9,
   "id": "southwest-cookbook",
   "metadata": {},
   "outputs": [],
   "source": [
    "knn_model=KNeighborsRegressor().fit(X_train, y_train)"
   ]
  },
  {
   "cell_type": "code",
   "execution_count": 10,
   "id": "economic-baseball",
   "metadata": {},
   "outputs": [
    {
     "data": {
      "text/plain": [
       "KNeighborsRegressor()"
      ]
     },
     "execution_count": 10,
     "metadata": {},
     "output_type": "execute_result"
    }
   ],
   "source": [
    "knn_model"
   ]
  },
  {
   "cell_type": "code",
   "execution_count": 11,
   "id": "dressed-bulletin",
   "metadata": {
    "collapsed": true,
    "jupyter": {
     "outputs_hidden": true
    }
   },
   "outputs": [
    {
     "data": {
      "text/plain": [
       "\u001b[1;31mType:\u001b[0m        KNeighborsRegressor\n",
       "\u001b[1;31mString form:\u001b[0m KNeighborsRegressor()\n",
       "\u001b[1;31mFile:\u001b[0m        c:\\users\\aslisesli\\anaconda3\\envs\\python\\lib\\site-packages\\sklearn\\neighbors\\_regression.py\n",
       "\u001b[1;31mDocstring:\u001b[0m  \n",
       "Regression based on k-nearest neighbors.\n",
       "\n",
       "The target is predicted by local interpolation of the targets\n",
       "associated of the nearest neighbors in the training set.\n",
       "\n",
       "Read more in the :ref:`User Guide <regression>`.\n",
       "\n",
       ".. versionadded:: 0.9\n",
       "\n",
       "Parameters\n",
       "----------\n",
       "n_neighbors : int, default=5\n",
       "    Number of neighbors to use by default for :meth:`kneighbors` queries.\n",
       "\n",
       "weights : {'uniform', 'distance'} or callable, default='uniform'\n",
       "    weight function used in prediction.  Possible values:\n",
       "\n",
       "    - 'uniform' : uniform weights.  All points in each neighborhood\n",
       "      are weighted equally.\n",
       "    - 'distance' : weight points by the inverse of their distance.\n",
       "      in this case, closer neighbors of a query point will have a\n",
       "      greater influence than neighbors which are further away.\n",
       "    - [callable] : a user-defined function which accepts an\n",
       "      array of distances, and returns an array of the same shape\n",
       "      containing the weights.\n",
       "\n",
       "    Uniform weights are used by default.\n",
       "\n",
       "algorithm : {'auto', 'ball_tree', 'kd_tree', 'brute'}, default='auto'\n",
       "    Algorithm used to compute the nearest neighbors:\n",
       "\n",
       "    - 'ball_tree' will use :class:`BallTree`\n",
       "    - 'kd_tree' will use :class:`KDTree`\n",
       "    - 'brute' will use a brute-force search.\n",
       "    - 'auto' will attempt to decide the most appropriate algorithm\n",
       "      based on the values passed to :meth:`fit` method.\n",
       "\n",
       "    Note: fitting on sparse input will override the setting of\n",
       "    this parameter, using brute force.\n",
       "\n",
       "leaf_size : int, default=30\n",
       "    Leaf size passed to BallTree or KDTree.  This can affect the\n",
       "    speed of the construction and query, as well as the memory\n",
       "    required to store the tree.  The optimal value depends on the\n",
       "    nature of the problem.\n",
       "\n",
       "p : int, default=2\n",
       "    Power parameter for the Minkowski metric. When p = 1, this is\n",
       "    equivalent to using manhattan_distance (l1), and euclidean_distance\n",
       "    (l2) for p = 2. For arbitrary p, minkowski_distance (l_p) is used.\n",
       "\n",
       "metric : str or callable, default='minkowski'\n",
       "    the distance metric to use for the tree.  The default metric is\n",
       "    minkowski, and with p=2 is equivalent to the standard Euclidean\n",
       "    metric. See the documentation of :class:`DistanceMetric` for a\n",
       "    list of available metrics.\n",
       "    If metric is \"precomputed\", X is assumed to be a distance matrix and\n",
       "    must be square during fit. X may be a :term:`sparse graph`,\n",
       "    in which case only \"nonzero\" elements may be considered neighbors.\n",
       "\n",
       "metric_params : dict, default=None\n",
       "    Additional keyword arguments for the metric function.\n",
       "\n",
       "n_jobs : int, default=None\n",
       "    The number of parallel jobs to run for neighbors search.\n",
       "    ``None`` means 1 unless in a :obj:`joblib.parallel_backend` context.\n",
       "    ``-1`` means using all processors. See :term:`Glossary <n_jobs>`\n",
       "    for more details.\n",
       "    Doesn't affect :meth:`fit` method.\n",
       "\n",
       "Attributes\n",
       "----------\n",
       "effective_metric_ : str or callable\n",
       "    The distance metric to use. It will be same as the `metric` parameter\n",
       "    or a synonym of it, e.g. 'euclidean' if the `metric` parameter set to\n",
       "    'minkowski' and `p` parameter set to 2.\n",
       "\n",
       "effective_metric_params_ : dict\n",
       "    Additional keyword arguments for the metric function. For most metrics\n",
       "    will be same with `metric_params` parameter, but may also contain the\n",
       "    `p` parameter value if the `effective_metric_` attribute is set to\n",
       "    'minkowski'.\n",
       "\n",
       "n_samples_fit_ : int\n",
       "    Number of samples in the fitted data.\n",
       "\n",
       "Examples\n",
       "--------\n",
       ">>> X = [[0], [1], [2], [3]]\n",
       ">>> y = [0, 0, 1, 1]\n",
       ">>> from sklearn.neighbors import KNeighborsRegressor\n",
       ">>> neigh = KNeighborsRegressor(n_neighbors=2)\n",
       ">>> neigh.fit(X, y)\n",
       "KNeighborsRegressor(...)\n",
       ">>> print(neigh.predict([[1.5]]))\n",
       "[0.5]\n",
       "\n",
       "See Also\n",
       "--------\n",
       "NearestNeighbors\n",
       "RadiusNeighborsRegressor\n",
       "KNeighborsClassifier\n",
       "RadiusNeighborsClassifier\n",
       "\n",
       "Notes\n",
       "-----\n",
       "See :ref:`Nearest Neighbors <neighbors>` in the online documentation\n",
       "for a discussion of the choice of ``algorithm`` and ``leaf_size``.\n",
       "\n",
       ".. warning::\n",
       "\n",
       "   Regarding the Nearest Neighbors algorithms, if it is found that two\n",
       "   neighbors, neighbor `k+1` and `k`, have identical distances but\n",
       "   different labels, the results will depend on the ordering of the\n",
       "   training data.\n",
       "\n",
       "https://en.wikipedia.org/wiki/K-nearest_neighbor_algorithm\n"
      ]
     },
     "metadata": {},
     "output_type": "display_data"
    }
   ],
   "source": [
    "?knn_model"
   ]
  },
  {
   "cell_type": "code",
   "execution_count": 13,
   "id": "waiting-roberts",
   "metadata": {},
   "outputs": [
    {
     "data": {
      "text/plain": [
       "5"
      ]
     },
     "execution_count": 13,
     "metadata": {},
     "output_type": "execute_result"
    }
   ],
   "source": [
    "knn_model.n_neighbors"
   ]
  },
  {
   "cell_type": "code",
   "execution_count": 14,
   "id": "sophisticated-wayne",
   "metadata": {},
   "outputs": [
    {
     "data": {
      "text/plain": [
       "array([ 510.3334,  808.3334,  772.5   ,  125.5   , 1005.    ])"
      ]
     },
     "execution_count": 14,
     "metadata": {},
     "output_type": "execute_result"
    }
   ],
   "source": [
    "knn_model.predict(X_test)[0:5]"
   ]
  },
  {
   "cell_type": "code",
   "execution_count": 16,
   "id": "advance-emperor",
   "metadata": {},
   "outputs": [],
   "source": [
    "y_pred=knn_model.predict(X_test)"
   ]
  },
  {
   "cell_type": "code",
   "execution_count": 17,
   "id": "destroyed-contribution",
   "metadata": {},
   "outputs": [
    {
     "data": {
      "text/plain": [
       "426.6570764525201"
      ]
     },
     "execution_count": 17,
     "metadata": {},
     "output_type": "execute_result"
    }
   ],
   "source": [
    "np.sqrt(mean_squared_error(y_test,y_pred))"
   ]
  },
  {
   "cell_type": "markdown",
   "id": "genetic-indonesian",
   "metadata": {},
   "source": [
    "# Model Tuning"
   ]
  },
  {
   "cell_type": "code",
   "execution_count": 18,
   "id": "color-reaction",
   "metadata": {},
   "outputs": [],
   "source": [
    "#el yordamı ile k ya farklı degerler atayıp tahmin yapacagız"
   ]
  },
  {
   "cell_type": "code",
   "execution_count": 22,
   "id": "smart-parcel",
   "metadata": {},
   "outputs": [
    {
     "name": "stdout",
     "output_type": "stream",
     "text": [
      "k= 1 için RMSE degeri: 455.03925390751965\n",
      "k= 2 için RMSE degeri: 415.99629571490965\n",
      "k= 3 için RMSE degeri: 420.6765370082348\n",
      "k= 4 için RMSE degeri: 428.8564674588792\n",
      "k= 5 için RMSE degeri: 426.6570764525201\n",
      "k= 6 için RMSE degeri: 423.5071669008732\n",
      "k= 7 için RMSE degeri: 414.9361222421057\n",
      "k= 8 için RMSE degeri: 413.7094731463598\n",
      "k= 9 için RMSE degeri: 417.84419990871265\n",
      "k= 10 için RMSE degeri: 421.6252180741266\n"
     ]
    }
   ],
   "source": [
    "RMSE=[]\n",
    "for k in range(10):\n",
    "    k=k+1\n",
    "    knn_model=KNeighborsRegressor(n_neighbors=k).fit(X_train, y_train)\n",
    "    y_pred=knn_model.predict(X_test)\n",
    "    rmse=np.sqrt(mean_squared_error(y_test,y_pred))\n",
    "    RMSE.append(rmse)\n",
    "    print(\"k=\", k, \"için RMSE degeri:\", rmse)"
   ]
  },
  {
   "cell_type": "code",
   "execution_count": 23,
   "id": "shaped-split",
   "metadata": {},
   "outputs": [],
   "source": [
    "#GridSearchCV   #otomotik bir şekilde k ya 1 den 30 a kadar degerler atayıp en iyi k degerini bulduk"
   ]
  },
  {
   "cell_type": "code",
   "execution_count": 24,
   "id": "automotive-length",
   "metadata": {},
   "outputs": [],
   "source": [
    "knn_params={\"n_neighbors\":np.arange(1,30,1)}"
   ]
  },
  {
   "cell_type": "code",
   "execution_count": 25,
   "id": "classical-findings",
   "metadata": {},
   "outputs": [],
   "source": [
    "knn=KNeighborsRegressor()"
   ]
  },
  {
   "cell_type": "code",
   "execution_count": 26,
   "id": "paperback-serve",
   "metadata": {},
   "outputs": [],
   "source": [
    "knn_cv_model=GridSearchCV(knn,knn_params,cv=10).fit(X_train, y_train)"
   ]
  },
  {
   "cell_type": "code",
   "execution_count": 28,
   "id": "genuine-implement",
   "metadata": {},
   "outputs": [
    {
     "data": {
      "text/plain": [
       "{'n_neighbors': 8}"
      ]
     },
     "execution_count": 28,
     "metadata": {},
     "output_type": "execute_result"
    }
   ],
   "source": [
    "knn_cv_model.best_params_"
   ]
  },
  {
   "cell_type": "code",
   "execution_count": 29,
   "id": "literary-insight",
   "metadata": {},
   "outputs": [],
   "source": [
    "# final model"
   ]
  },
  {
   "cell_type": "code",
   "execution_count": 30,
   "id": "dress-theta",
   "metadata": {},
   "outputs": [],
   "source": [
    "knn_tuned=KNeighborsRegressor(n_neighbors=knn_cv_model.best_params_[\"n_neighbors\"]).fit(X_train,y_train)"
   ]
  },
  {
   "cell_type": "code",
   "execution_count": 31,
   "id": "shared-level",
   "metadata": {},
   "outputs": [],
   "source": [
    "y_pred=knn_tuned.predict(X_test)"
   ]
  },
  {
   "cell_type": "code",
   "execution_count": 32,
   "id": "connected-coverage",
   "metadata": {},
   "outputs": [
    {
     "data": {
      "text/plain": [
       "413.7094731463598"
      ]
     },
     "execution_count": 32,
     "metadata": {},
     "output_type": "execute_result"
    }
   ],
   "source": [
    "np.sqrt(mean_squared_error(y_test,y_pred))"
   ]
  },
  {
   "cell_type": "markdown",
   "id": "altered-workplace",
   "metadata": {},
   "source": [
    "# DESTEK VEKTÖR REGRESYONU\n",
    "# Model & Tahmin"
   ]
  },
  {
   "cell_type": "code",
   "execution_count": 33,
   "id": "eight-bruce",
   "metadata": {},
   "outputs": [],
   "source": [
    "df=pd.read_csv(\"Hitters.csv\")\n",
    "df=df.dropna()\n",
    "dms=pd.get_dummies(df[[\"League\",\"Division\",\"NewLeague\"]])\n",
    "y=df[\"Salary\"]\n",
    "X_=df.drop([\"Salary\",\"League\",\"Division\",\"NewLeague\"],axis=1).astype(\"float64\")\n",
    "X=pd.concat([X_,dms[[\"League_N\",\"Division_W\",\"NewLeague_N\"]]],axis=1)\n",
    "X_train,X_test,y_train,y_test=train_test_split(X,\n",
    "                                               y,\n",
    "                                              test_size=0.25,\n",
    "                                              random_state=42)"
   ]
  },
  {
   "cell_type": "code",
   "execution_count": 58,
   "id": "known-probe",
   "metadata": {
    "collapsed": true,
    "jupyter": {
     "outputs_hidden": true
    }
   },
   "outputs": [
    {
     "name": "stderr",
     "output_type": "stream",
     "text": [
      "C:\\Users\\aslisesli\\anaconda3\\envs\\python\\lib\\site-packages\\sklearn\\utils\\validation.py:72: FutureWarning: Pass kernel=linear as keyword args. From version 1.0 (renaming of 0.25) passing these as positional arguments will result in an error\n",
      "  \"will result in an error\", FutureWarning)\n"
     ]
    }
   ],
   "source": [
    "svr_model=SVR(\"linear\").fit(X_train,y_train)"
   ]
  },
  {
   "cell_type": "code",
   "execution_count": 60,
   "id": "august-lottery",
   "metadata": {},
   "outputs": [
    {
     "data": {
      "text/plain": [
       "370.04084185624924"
      ]
     },
     "execution_count": 60,
     "metadata": {},
     "output_type": "execute_result"
    }
   ],
   "source": [
    "y_pred=svr_model.predict(X_test)\n",
    "np.sqrt(mean_squared_error(y_test,y_pred))"
   ]
  },
  {
   "cell_type": "code",
   "execution_count": 42,
   "id": "worthy-disclosure",
   "metadata": {
    "collapsed": true,
    "jupyter": {
     "outputs_hidden": true
    }
   },
   "outputs": [
    {
     "data": {
      "text/plain": [
       "'\"svr_model=SVR(\"rbf\").fit(X_train,y_train)\\ny_pred=svr_model.predict(X_test)\\nnp.sqrt(mean_squared_error(y_test,y_pred))'"
      ]
     },
     "execution_count": 42,
     "metadata": {},
     "output_type": "execute_result"
    }
   ],
   "source": [
    "\"\"\"\"svr_model=SVR(\"rbf\").fit(X_train,y_train)   (linear olmayan kernel ile) (dogrusal omayan)\n",
    "y_pred=svr_model.predict(X_test)\n",
    "np.sqrt(mean_squared_error(y_test,y_pred))\"\"\""
   ]
  },
  {
   "cell_type": "markdown",
   "id": "magnetic-supplement",
   "metadata": {},
   "source": [
    "# Model Tuning"
   ]
  },
  {
   "cell_type": "code",
   "execution_count": 61,
   "id": "personal-particular",
   "metadata": {},
   "outputs": [],
   "source": [
    "svr_params={\"C\":[0.1,0.5,1,3]}"
   ]
  },
  {
   "cell_type": "code",
   "execution_count": 65,
   "id": "first-change",
   "metadata": {},
   "outputs": [
    {
     "name": "stdout",
     "output_type": "stream",
     "text": [
      "Fitting 5 folds for each of 4 candidates, totalling 20 fits\n"
     ]
    }
   ],
   "source": [
    "svr_cv_model=GridSearchCV(svr_model,svr_params,verbose=2,n_jobs=-1,cv=5).fit(X_train, y_train) #n_jobs işlemcinin max \n",
    "                                                                                             #performansda olmasını sağlar"
   ]
  },
  {
   "cell_type": "code",
   "execution_count": 66,
   "id": "automatic-basis",
   "metadata": {},
   "outputs": [
    {
     "data": {
      "text/plain": [
       "{'C': 0.5}"
      ]
     },
     "execution_count": 66,
     "metadata": {},
     "output_type": "execute_result"
    }
   ],
   "source": [
    "svr_cv_model.best_params_"
   ]
  },
  {
   "cell_type": "code",
   "execution_count": 67,
   "id": "fantastic-birthday",
   "metadata": {},
   "outputs": [],
   "source": [
    "# final model"
   ]
  },
  {
   "cell_type": "code",
   "execution_count": 68,
   "id": "orange-meaning",
   "metadata": {
    "collapsed": true,
    "jupyter": {
     "outputs_hidden": true
    }
   },
   "outputs": [
    {
     "name": "stderr",
     "output_type": "stream",
     "text": [
      "C:\\Users\\aslisesli\\anaconda3\\envs\\python\\lib\\site-packages\\sklearn\\utils\\validation.py:72: FutureWarning: Pass kernel=linear as keyword args. From version 1.0 (renaming of 0.25) passing these as positional arguments will result in an error\n",
      "  \"will result in an error\", FutureWarning)\n"
     ]
    }
   ],
   "source": [
    "svr_tuned=SVR(\"linear\",C=0.5).fit(X_train,y_train)"
   ]
  },
  {
   "cell_type": "code",
   "execution_count": 69,
   "id": "retained-chair",
   "metadata": {},
   "outputs": [],
   "source": [
    "y_pred=svr_tuned.predict(X_test)"
   ]
  },
  {
   "cell_type": "code",
   "execution_count": 70,
   "id": "fossil-writer",
   "metadata": {},
   "outputs": [
    {
     "data": {
      "text/plain": [
       "367.9874739022889"
      ]
     },
     "execution_count": 70,
     "metadata": {},
     "output_type": "execute_result"
    }
   ],
   "source": [
    "np.sqrt(mean_squared_error(y_test,y_pred))"
   ]
  },
  {
   "cell_type": "markdown",
   "id": "plain-logging",
   "metadata": {},
   "source": [
    "# YAPAY SİNİR AĞLARI"
   ]
  },
  {
   "cell_type": "markdown",
   "id": "greek-mistress",
   "metadata": {},
   "source": [
    "# Model & Tahmin"
   ]
  },
  {
   "cell_type": "code",
   "execution_count": 109,
   "id": "forward-sweet",
   "metadata": {},
   "outputs": [],
   "source": [
    "scaler=StandardScaler()"
   ]
  },
  {
   "cell_type": "code",
   "execution_count": 110,
   "id": "miniature-scholarship",
   "metadata": {},
   "outputs": [
    {
     "data": {
      "text/plain": [
       "StandardScaler()"
      ]
     },
     "execution_count": 110,
     "metadata": {},
     "output_type": "execute_result"
    }
   ],
   "source": [
    "scaler.fit(X_train)"
   ]
  },
  {
   "cell_type": "code",
   "execution_count": 111,
   "id": "reflected-airplane",
   "metadata": {},
   "outputs": [],
   "source": [
    "X_train_scaled=scaler.transform(X_train) # standartlastırma işlemi yaptık"
   ]
  },
  {
   "cell_type": "code",
   "execution_count": 112,
   "id": "continent-hollywood",
   "metadata": {},
   "outputs": [
    {
     "data": {
      "text/plain": [
       "StandardScaler()"
      ]
     },
     "execution_count": 112,
     "metadata": {},
     "output_type": "execute_result"
    }
   ],
   "source": [
    "scaler.fit(X_test)"
   ]
  },
  {
   "cell_type": "code",
   "execution_count": 113,
   "id": "specific-pickup",
   "metadata": {},
   "outputs": [],
   "source": [
    "X_test_scaled=scaler.transform(X_test)   # standartlastırma işlemi yaptık"
   ]
  },
  {
   "cell_type": "code",
   "execution_count": 114,
   "id": "parallel-filename",
   "metadata": {
    "collapsed": true,
    "jupyter": {
     "outputs_hidden": true
    }
   },
   "outputs": [
    {
     "name": "stderr",
     "output_type": "stream",
     "text": [
      "C:\\Users\\aslisesli\\anaconda3\\envs\\python\\lib\\site-packages\\sklearn\\neural_network\\_multilayer_perceptron.py:617: ConvergenceWarning: Stochastic Optimizer: Maximum iterations (200) reached and the optimization hasn't converged yet.\n",
      "  % self.max_iter, ConvergenceWarning)\n"
     ]
    }
   ],
   "source": [
    "mlp_model=MLPRegressor().fit(X_train_scaled,y_train) # modelimizi kurduk"
   ]
  },
  {
   "cell_type": "code",
   "execution_count": 115,
   "id": "deluxe-window",
   "metadata": {},
   "outputs": [
    {
     "data": {
      "text/plain": [
       "array([23.10731437, 38.08531863, 71.7238989 , 16.53523176, 22.68813029])"
      ]
     },
     "execution_count": 115,
     "metadata": {},
     "output_type": "execute_result"
    }
   ],
   "source": [
    "mlp_model.predict(X_test_scaled)[0:5]"
   ]
  },
  {
   "cell_type": "code",
   "execution_count": 116,
   "id": "unnecessary-compression",
   "metadata": {},
   "outputs": [],
   "source": [
    "y_pred=mlp_model.predict(X_test_scaled)"
   ]
  },
  {
   "cell_type": "code",
   "execution_count": 117,
   "id": "magnetic-recovery",
   "metadata": {},
   "outputs": [
    {
     "data": {
      "text/plain": [
       "658.776317608025"
      ]
     },
     "execution_count": 117,
     "metadata": {},
     "output_type": "execute_result"
    }
   ],
   "source": [
    "np.sqrt(mean_squared_error(y_test,y_pred))"
   ]
  },
  {
   "cell_type": "markdown",
   "id": "expected-florence",
   "metadata": {},
   "source": [
    "# Model Tuning"
   ]
  },
  {
   "cell_type": "code",
   "execution_count": 118,
   "id": "behind-disney",
   "metadata": {},
   "outputs": [
    {
     "data": {
      "text/plain": [
       "MLPRegressor()"
      ]
     },
     "execution_count": 118,
     "metadata": {},
     "output_type": "execute_result"
    }
   ],
   "source": [
    "mlp_model"
   ]
  },
  {
   "cell_type": "code",
   "execution_count": 119,
   "id": "final-drilling",
   "metadata": {},
   "outputs": [],
   "source": [
    "mlp_params={\"alpha\":[0.1,0.01,0.02,0.001,0.0001],\n",
    "           \"hidden_layer_sizes\":[(10,20),(5,5),(100,100)]}"
   ]
  },
  {
   "cell_type": "code",
   "execution_count": 127,
   "id": "saving-radiation",
   "metadata": {
    "collapsed": true,
    "jupyter": {
     "outputs_hidden": true
    }
   },
   "outputs": [
    {
     "name": "stdout",
     "output_type": "stream",
     "text": [
      "Fitting 10 folds for each of 15 candidates, totalling 150 fits\n"
     ]
    },
    {
     "name": "stderr",
     "output_type": "stream",
     "text": [
      "C:\\Users\\aslisesli\\anaconda3\\envs\\python\\lib\\site-packages\\sklearn\\neural_network\\_multilayer_perceptron.py:617: ConvergenceWarning: Stochastic Optimizer: Maximum iterations (200) reached and the optimization hasn't converged yet.\n",
      "  % self.max_iter, ConvergenceWarning)\n"
     ]
    }
   ],
   "source": [
    "mlp_cv_model=GridSearchCV(mlp_model,mlp_params,cv=10,verbose=2,n_jobs=-1).fit(X_train_scaled,y_train)"
   ]
  },
  {
   "cell_type": "code",
   "execution_count": 129,
   "id": "blind-contractor",
   "metadata": {},
   "outputs": [
    {
     "data": {
      "text/plain": [
       "{'alpha': 0.02, 'hidden_layer_sizes': (100, 100)}"
      ]
     },
     "execution_count": 129,
     "metadata": {},
     "output_type": "execute_result"
    }
   ],
   "source": [
    "mlp_cv_model.best_params_"
   ]
  },
  {
   "cell_type": "code",
   "execution_count": 130,
   "id": "stunning-jones",
   "metadata": {},
   "outputs": [],
   "source": [
    "# final model"
   ]
  },
  {
   "cell_type": "code",
   "execution_count": 131,
   "id": "psychological-stranger",
   "metadata": {
    "collapsed": true,
    "jupyter": {
     "outputs_hidden": true
    }
   },
   "outputs": [
    {
     "name": "stderr",
     "output_type": "stream",
     "text": [
      "C:\\Users\\aslisesli\\anaconda3\\envs\\python\\lib\\site-packages\\sklearn\\neural_network\\_multilayer_perceptron.py:617: ConvergenceWarning: Stochastic Optimizer: Maximum iterations (200) reached and the optimization hasn't converged yet.\n",
      "  % self.max_iter, ConvergenceWarning)\n"
     ]
    }
   ],
   "source": [
    "mlp_tuned=MLPRegressor(alpha=0.02,hidden_layer_sizes=(100,100)).fit(X_train_scaled,y_train)"
   ]
  },
  {
   "cell_type": "code",
   "execution_count": 132,
   "id": "industrial-lover",
   "metadata": {},
   "outputs": [],
   "source": [
    "y_pred=mlp_tuned.predict(X_test_scaled)"
   ]
  },
  {
   "cell_type": "code",
   "execution_count": 133,
   "id": "adequate-journalist",
   "metadata": {},
   "outputs": [
    {
     "data": {
      "text/plain": [
       "364.78379272203426"
      ]
     },
     "execution_count": 133,
     "metadata": {},
     "output_type": "execute_result"
    }
   ],
   "source": [
    "np.sqrt(mean_squared_error(y_test,y_pred))"
   ]
  },
  {
   "cell_type": "markdown",
   "id": "tropical-combine",
   "metadata": {},
   "source": [
    "# CART"
   ]
  },
  {
   "cell_type": "markdown",
   "id": "fallen-guitar",
   "metadata": {},
   "source": [
    "# Model & Tahmin"
   ]
  },
  {
   "cell_type": "code",
   "execution_count": 3,
   "id": "temporal-northeast",
   "metadata": {},
   "outputs": [],
   "source": [
    "df=pd.read_csv(\"Hitters.csv\")\n",
    "df=df.dropna()\n",
    "dms=pd.get_dummies(df[[\"League\",\"Division\",\"NewLeague\"]])\n",
    "y=df[\"Salary\"]\n",
    "X_=df.drop([\"Salary\",\"League\",\"Division\",\"NewLeague\"],axis=1).astype(\"float64\")\n",
    "X=pd.concat([X_,dms[[\"League_N\",\"Division_W\",\"NewLeague_N\"]]],axis=1)\n",
    "X_train,X_test,y_train,y_test=train_test_split(X,\n",
    "                                               y,\n",
    "                                              test_size=0.25,\n",
    "                                              random_state=42)"
   ]
  },
  {
   "cell_type": "code",
   "execution_count": 4,
   "id": "compliant-intersection",
   "metadata": {},
   "outputs": [],
   "source": [
    "X_train=pd.DataFrame(X_train[\"Hits\"])\n",
    "X_test=pd.DataFrame(X_test[\"Hits\"])"
   ]
  },
  {
   "cell_type": "code",
   "execution_count": 5,
   "id": "mature-latvia",
   "metadata": {},
   "outputs": [],
   "source": [
    "cart_model=DecisionTreeRegressor()"
   ]
  },
  {
   "cell_type": "code",
   "execution_count": 6,
   "id": "relevant-first",
   "metadata": {},
   "outputs": [
    {
     "data": {
      "text/plain": [
       "DecisionTreeRegressor()"
      ]
     },
     "execution_count": 6,
     "metadata": {},
     "output_type": "execute_result"
    }
   ],
   "source": [
    "cart_model.fit(X_train,y_train)"
   ]
  },
  {
   "cell_type": "code",
   "execution_count": 7,
   "id": "handed-surgery",
   "metadata": {},
   "outputs": [],
   "source": [
    "# Tek Degiskenli Tahmin"
   ]
  },
  {
   "cell_type": "code",
   "execution_count": 8,
   "id": "artificial-idaho",
   "metadata": {},
   "outputs": [],
   "source": [
    "y_pred=cart_model.predict(X_test)"
   ]
  },
  {
   "cell_type": "code",
   "execution_count": 9,
   "id": "eleven-applicant",
   "metadata": {},
   "outputs": [
    {
     "data": {
      "text/plain": [
       "468.49579052913884"
      ]
     },
     "execution_count": 9,
     "metadata": {},
     "output_type": "execute_result"
    }
   ],
   "source": [
    "np.sqrt(mean_squared_error(y_test,y_pred))"
   ]
  },
  {
   "cell_type": "code",
   "execution_count": 10,
   "id": "developmental-organ",
   "metadata": {},
   "outputs": [],
   "source": [
    "# Tum Degiskenler ile Tahmin"
   ]
  },
  {
   "cell_type": "code",
   "execution_count": 11,
   "id": "adjacent-introduction",
   "metadata": {},
   "outputs": [],
   "source": [
    "df=pd.read_csv(\"Hitters.csv\")\n",
    "df=df.dropna()\n",
    "dms=pd.get_dummies(df[[\"League\",\"Division\",\"NewLeague\"]])\n",
    "y=df[\"Salary\"]\n",
    "X_=df.drop([\"Salary\",\"League\",\"Division\",\"NewLeague\"],axis=1).astype(\"float64\")\n",
    "X=pd.concat([X_,dms[[\"League_N\",\"Division_W\",\"NewLeague_N\"]]],axis=1)\n",
    "X_train,X_test,y_train,y_test=train_test_split(X,\n",
    "                                               y,\n",
    "                                              test_size=0.25,\n",
    "                                              random_state=42)"
   ]
  },
  {
   "cell_type": "code",
   "execution_count": 12,
   "id": "coordinated-delta",
   "metadata": {},
   "outputs": [],
   "source": [
    "cart_model=DecisionTreeRegressor().fit(X_train,y_train)"
   ]
  },
  {
   "cell_type": "code",
   "execution_count": 13,
   "id": "adapted-coverage",
   "metadata": {},
   "outputs": [],
   "source": [
    "y_pred=cart_model.predict(X_test)"
   ]
  },
  {
   "cell_type": "code",
   "execution_count": 14,
   "id": "municipal-replacement",
   "metadata": {},
   "outputs": [
    {
     "data": {
      "text/plain": [
       "452.0482368864371"
      ]
     },
     "execution_count": 14,
     "metadata": {},
     "output_type": "execute_result"
    }
   ],
   "source": [
    "np.sqrt(mean_squared_error(y_test,y_pred))"
   ]
  },
  {
   "cell_type": "code",
   "execution_count": 153,
   "id": "gorgeous-stocks",
   "metadata": {
    "collapsed": true,
    "jupyter": {
     "outputs_hidden": true
    }
   },
   "outputs": [
    {
     "data": {
      "text/plain": [
       "\u001b[1;31mType:\u001b[0m        DecisionTreeRegressor\n",
       "\u001b[1;31mString form:\u001b[0m DecisionTreeRegressor(max_depth=4, min_samples_split=50)\n",
       "\u001b[1;31mFile:\u001b[0m        c:\\users\\aslisesli\\anaconda3\\envs\\python\\lib\\site-packages\\sklearn\\tree\\_classes.py\n",
       "\u001b[1;31mDocstring:\u001b[0m  \n",
       "A decision tree regressor.\n",
       "\n",
       "Read more in the :ref:`User Guide <tree>`.\n",
       "\n",
       "Parameters\n",
       "----------\n",
       "criterion : {\"mse\", \"friedman_mse\", \"mae\", \"poisson\"}, default=\"mse\"\n",
       "    The function to measure the quality of a split. Supported criteria\n",
       "    are \"mse\" for the mean squared error, which is equal to variance\n",
       "    reduction as feature selection criterion and minimizes the L2 loss\n",
       "    using the mean of each terminal node, \"friedman_mse\", which uses mean\n",
       "    squared error with Friedman's improvement score for potential splits,\n",
       "    \"mae\" for the mean absolute error, which minimizes the L1 loss using\n",
       "    the median of each terminal node, and \"poisson\" which uses reduction in\n",
       "    Poisson deviance to find splits.\n",
       "\n",
       "    .. versionadded:: 0.18\n",
       "       Mean Absolute Error (MAE) criterion.\n",
       "\n",
       "    .. versionadded:: 0.24\n",
       "        Poisson deviance criterion.\n",
       "\n",
       "splitter : {\"best\", \"random\"}, default=\"best\"\n",
       "    The strategy used to choose the split at each node. Supported\n",
       "    strategies are \"best\" to choose the best split and \"random\" to choose\n",
       "    the best random split.\n",
       "\n",
       "max_depth : int, default=None\n",
       "    The maximum depth of the tree. If None, then nodes are expanded until\n",
       "    all leaves are pure or until all leaves contain less than\n",
       "    min_samples_split samples.\n",
       "\n",
       "min_samples_split : int or float, default=2\n",
       "    The minimum number of samples required to split an internal node:\n",
       "\n",
       "    - If int, then consider `min_samples_split` as the minimum number.\n",
       "    - If float, then `min_samples_split` is a fraction and\n",
       "      `ceil(min_samples_split * n_samples)` are the minimum\n",
       "      number of samples for each split.\n",
       "\n",
       "    .. versionchanged:: 0.18\n",
       "       Added float values for fractions.\n",
       "\n",
       "min_samples_leaf : int or float, default=1\n",
       "    The minimum number of samples required to be at a leaf node.\n",
       "    A split point at any depth will only be considered if it leaves at\n",
       "    least ``min_samples_leaf`` training samples in each of the left and\n",
       "    right branches.  This may have the effect of smoothing the model,\n",
       "    especially in regression.\n",
       "\n",
       "    - If int, then consider `min_samples_leaf` as the minimum number.\n",
       "    - If float, then `min_samples_leaf` is a fraction and\n",
       "      `ceil(min_samples_leaf * n_samples)` are the minimum\n",
       "      number of samples for each node.\n",
       "\n",
       "    .. versionchanged:: 0.18\n",
       "       Added float values for fractions.\n",
       "\n",
       "min_weight_fraction_leaf : float, default=0.0\n",
       "    The minimum weighted fraction of the sum total of weights (of all\n",
       "    the input samples) required to be at a leaf node. Samples have\n",
       "    equal weight when sample_weight is not provided.\n",
       "\n",
       "max_features : int, float or {\"auto\", \"sqrt\", \"log2\"}, default=None\n",
       "    The number of features to consider when looking for the best split:\n",
       "\n",
       "    - If int, then consider `max_features` features at each split.\n",
       "    - If float, then `max_features` is a fraction and\n",
       "      `int(max_features * n_features)` features are considered at each\n",
       "      split.\n",
       "    - If \"auto\", then `max_features=n_features`.\n",
       "    - If \"sqrt\", then `max_features=sqrt(n_features)`.\n",
       "    - If \"log2\", then `max_features=log2(n_features)`.\n",
       "    - If None, then `max_features=n_features`.\n",
       "\n",
       "    Note: the search for a split does not stop until at least one\n",
       "    valid partition of the node samples is found, even if it requires to\n",
       "    effectively inspect more than ``max_features`` features.\n",
       "\n",
       "random_state : int, RandomState instance or None, default=None\n",
       "    Controls the randomness of the estimator. The features are always\n",
       "    randomly permuted at each split, even if ``splitter`` is set to\n",
       "    ``\"best\"``. When ``max_features < n_features``, the algorithm will\n",
       "    select ``max_features`` at random at each split before finding the best\n",
       "    split among them. But the best found split may vary across different\n",
       "    runs, even if ``max_features=n_features``. That is the case, if the\n",
       "    improvement of the criterion is identical for several splits and one\n",
       "    split has to be selected at random. To obtain a deterministic behaviour\n",
       "    during fitting, ``random_state`` has to be fixed to an integer.\n",
       "    See :term:`Glossary <random_state>` for details.\n",
       "\n",
       "max_leaf_nodes : int, default=None\n",
       "    Grow a tree with ``max_leaf_nodes`` in best-first fashion.\n",
       "    Best nodes are defined as relative reduction in impurity.\n",
       "    If None then unlimited number of leaf nodes.\n",
       "\n",
       "min_impurity_decrease : float, default=0.0\n",
       "    A node will be split if this split induces a decrease of the impurity\n",
       "    greater than or equal to this value.\n",
       "\n",
       "    The weighted impurity decrease equation is the following::\n",
       "\n",
       "        N_t / N * (impurity - N_t_R / N_t * right_impurity\n",
       "                            - N_t_L / N_t * left_impurity)\n",
       "\n",
       "    where ``N`` is the total number of samples, ``N_t`` is the number of\n",
       "    samples at the current node, ``N_t_L`` is the number of samples in the\n",
       "    left child, and ``N_t_R`` is the number of samples in the right child.\n",
       "\n",
       "    ``N``, ``N_t``, ``N_t_R`` and ``N_t_L`` all refer to the weighted sum,\n",
       "    if ``sample_weight`` is passed.\n",
       "\n",
       "    .. versionadded:: 0.19\n",
       "\n",
       "min_impurity_split : float, default=0\n",
       "    Threshold for early stopping in tree growth. A node will split\n",
       "    if its impurity is above the threshold, otherwise it is a leaf.\n",
       "\n",
       "    .. deprecated:: 0.19\n",
       "       ``min_impurity_split`` has been deprecated in favor of\n",
       "       ``min_impurity_decrease`` in 0.19. The default value of\n",
       "       ``min_impurity_split`` has changed from 1e-7 to 0 in 0.23 and it\n",
       "       will be removed in 1.0 (renaming of 0.25).\n",
       "       Use ``min_impurity_decrease`` instead.\n",
       "\n",
       "ccp_alpha : non-negative float, default=0.0\n",
       "    Complexity parameter used for Minimal Cost-Complexity Pruning. The\n",
       "    subtree with the largest cost complexity that is smaller than\n",
       "    ``ccp_alpha`` will be chosen. By default, no pruning is performed. See\n",
       "    :ref:`minimal_cost_complexity_pruning` for details.\n",
       "\n",
       "    .. versionadded:: 0.22\n",
       "\n",
       "Attributes\n",
       "----------\n",
       "feature_importances_ : ndarray of shape (n_features,)\n",
       "    The feature importances.\n",
       "    The higher, the more important the feature.\n",
       "    The importance of a feature is computed as the\n",
       "    (normalized) total reduction of the criterion brought\n",
       "    by that feature. It is also known as the Gini importance [4]_.\n",
       "\n",
       "    Warning: impurity-based feature importances can be misleading for\n",
       "    high cardinality features (many unique values). See\n",
       "    :func:`sklearn.inspection.permutation_importance` as an alternative.\n",
       "\n",
       "max_features_ : int\n",
       "    The inferred value of max_features.\n",
       "\n",
       "n_features_ : int\n",
       "    The number of features when ``fit`` is performed.\n",
       "\n",
       "n_outputs_ : int\n",
       "    The number of outputs when ``fit`` is performed.\n",
       "\n",
       "tree_ : Tree instance\n",
       "    The underlying Tree object. Please refer to\n",
       "    ``help(sklearn.tree._tree.Tree)`` for attributes of Tree object and\n",
       "    :ref:`sphx_glr_auto_examples_tree_plot_unveil_tree_structure.py`\n",
       "    for basic usage of these attributes.\n",
       "\n",
       "See Also\n",
       "--------\n",
       "DecisionTreeClassifier : A decision tree classifier.\n",
       "\n",
       "Notes\n",
       "-----\n",
       "The default values for the parameters controlling the size of the trees\n",
       "(e.g. ``max_depth``, ``min_samples_leaf``, etc.) lead to fully grown and\n",
       "unpruned trees which can potentially be very large on some data sets. To\n",
       "reduce memory consumption, the complexity and size of the trees should be\n",
       "controlled by setting those parameter values.\n",
       "\n",
       "References\n",
       "----------\n",
       "\n",
       ".. [1] https://en.wikipedia.org/wiki/Decision_tree_learning\n",
       "\n",
       ".. [2] L. Breiman, J. Friedman, R. Olshen, and C. Stone, \"Classification\n",
       "       and Regression Trees\", Wadsworth, Belmont, CA, 1984.\n",
       "\n",
       ".. [3] T. Hastie, R. Tibshirani and J. Friedman. \"Elements of Statistical\n",
       "       Learning\", Springer, 2009.\n",
       "\n",
       ".. [4] L. Breiman, and A. Cutler, \"Random Forests\",\n",
       "       https://www.stat.berkeley.edu/~breiman/RandomForests/cc_home.htm\n",
       "\n",
       "Examples\n",
       "--------\n",
       ">>> from sklearn.datasets import load_diabetes\n",
       ">>> from sklearn.model_selection import cross_val_score\n",
       ">>> from sklearn.tree import DecisionTreeRegressor\n",
       ">>> X, y = load_diabetes(return_X_y=True)\n",
       ">>> regressor = DecisionTreeRegressor(random_state=0)\n",
       ">>> cross_val_score(regressor, X, y, cv=10)\n",
       "...                    # doctest: +SKIP\n",
       "...\n",
       "array([-0.39..., -0.46...,  0.02...,  0.06..., -0.50...,\n",
       "       0.16...,  0.11..., -0.73..., -0.30..., -0.00...])\n"
      ]
     },
     "metadata": {},
     "output_type": "display_data"
    }
   ],
   "source": [
    "?cart_model"
   ]
  },
  {
   "cell_type": "markdown",
   "id": "perfect-disorder",
   "metadata": {},
   "source": [
    "# Model Tuning"
   ]
  },
  {
   "cell_type": "code",
   "execution_count": 15,
   "id": "selective-mason",
   "metadata": {},
   "outputs": [],
   "source": [
    "cart_params={\"max_depth\":[2,3,4,5,10,20],\n",
    "            \"min_samples_split\":[2,10,5,30,50,10]}"
   ]
  },
  {
   "cell_type": "code",
   "execution_count": 16,
   "id": "bright-hearts",
   "metadata": {},
   "outputs": [],
   "source": [
    "cart_cv_model=GridSearchCV(cart_model,cart_params,cv=10).fit(X_train,y_train)"
   ]
  },
  {
   "cell_type": "code",
   "execution_count": 17,
   "id": "serial-garage",
   "metadata": {},
   "outputs": [
    {
     "data": {
      "text/plain": [
       "{'max_depth': 4, 'min_samples_split': 50}"
      ]
     },
     "execution_count": 17,
     "metadata": {},
     "output_type": "execute_result"
    }
   ],
   "source": [
    "cart_cv_model.best_params_"
   ]
  },
  {
   "cell_type": "code",
   "execution_count": 18,
   "id": "instructional-queens",
   "metadata": {},
   "outputs": [],
   "source": [
    "# final model"
   ]
  },
  {
   "cell_type": "code",
   "execution_count": 20,
   "id": "injured-elite",
   "metadata": {},
   "outputs": [],
   "source": [
    "cart_tuned=DecisionTreeRegressor(max_depth=4,min_samples_split=50).fit(X_train,y_train)"
   ]
  },
  {
   "cell_type": "code",
   "execution_count": 21,
   "id": "imposed-technique",
   "metadata": {},
   "outputs": [],
   "source": [
    "y_pred=cart_tuned.predict(X_test)"
   ]
  },
  {
   "cell_type": "code",
   "execution_count": 22,
   "id": "prerequisite-removal",
   "metadata": {},
   "outputs": [
    {
     "data": {
      "text/plain": [
       "361.0876906511434"
      ]
     },
     "execution_count": 22,
     "metadata": {},
     "output_type": "execute_result"
    }
   ],
   "source": [
    "np.sqrt(mean_squared_error(y_test,y_pred))"
   ]
  },
  {
   "cell_type": "markdown",
   "id": "authentic-listing",
   "metadata": {},
   "source": [
    "# RANDOM FORESTS"
   ]
  },
  {
   "cell_type": "markdown",
   "id": "specified-portfolio",
   "metadata": {},
   "source": [
    "# Model & Tahmin"
   ]
  },
  {
   "cell_type": "code",
   "execution_count": 23,
   "id": "noble-procedure",
   "metadata": {},
   "outputs": [],
   "source": [
    "rf_model=RandomForestRegressor(random_state=42).fit(X_train,y_train)"
   ]
  },
  {
   "cell_type": "code",
   "execution_count": 25,
   "id": "continental-george",
   "metadata": {
    "collapsed": true,
    "jupyter": {
     "outputs_hidden": true
    }
   },
   "outputs": [
    {
     "data": {
      "text/plain": [
       "['__abstractmethods__',\n",
       " '__annotations__',\n",
       " '__class__',\n",
       " '__delattr__',\n",
       " '__dict__',\n",
       " '__dir__',\n",
       " '__doc__',\n",
       " '__eq__',\n",
       " '__format__',\n",
       " '__ge__',\n",
       " '__getattribute__',\n",
       " '__getitem__',\n",
       " '__getstate__',\n",
       " '__gt__',\n",
       " '__hash__',\n",
       " '__init__',\n",
       " '__init_subclass__',\n",
       " '__iter__',\n",
       " '__le__',\n",
       " '__len__',\n",
       " '__lt__',\n",
       " '__module__',\n",
       " '__ne__',\n",
       " '__new__',\n",
       " '__reduce__',\n",
       " '__reduce_ex__',\n",
       " '__repr__',\n",
       " '__setattr__',\n",
       " '__setstate__',\n",
       " '__sizeof__',\n",
       " '__str__',\n",
       " '__subclasshook__',\n",
       " '__weakref__',\n",
       " '_abc_cache',\n",
       " '_abc_negative_cache',\n",
       " '_abc_negative_cache_version',\n",
       " '_abc_registry',\n",
       " '_check_n_features',\n",
       " '_compute_partial_dependence_recursion',\n",
       " '_estimator_type',\n",
       " '_get_param_names',\n",
       " '_get_tags',\n",
       " '_make_estimator',\n",
       " '_more_tags',\n",
       " '_repr_html_',\n",
       " '_repr_html_inner',\n",
       " '_repr_mimebundle_',\n",
       " '_required_parameters',\n",
       " '_set_oob_score',\n",
       " '_validate_X_predict',\n",
       " '_validate_data',\n",
       " '_validate_estimator',\n",
       " '_validate_y_class_weight',\n",
       " 'apply',\n",
       " 'base_estimator',\n",
       " 'base_estimator_',\n",
       " 'bootstrap',\n",
       " 'ccp_alpha',\n",
       " 'class_weight',\n",
       " 'criterion',\n",
       " 'decision_path',\n",
       " 'estimator_params',\n",
       " 'estimators_',\n",
       " 'feature_importances_',\n",
       " 'fit',\n",
       " 'get_params',\n",
       " 'max_depth',\n",
       " 'max_features',\n",
       " 'max_leaf_nodes',\n",
       " 'max_samples',\n",
       " 'min_impurity_decrease',\n",
       " 'min_impurity_split',\n",
       " 'min_samples_leaf',\n",
       " 'min_samples_split',\n",
       " 'min_weight_fraction_leaf',\n",
       " 'n_estimators',\n",
       " 'n_features_',\n",
       " 'n_features_in_',\n",
       " 'n_jobs',\n",
       " 'n_outputs_',\n",
       " 'oob_score',\n",
       " 'predict',\n",
       " 'random_state',\n",
       " 'score',\n",
       " 'set_params',\n",
       " 'verbose',\n",
       " 'warm_start']"
      ]
     },
     "execution_count": 25,
     "metadata": {},
     "output_type": "execute_result"
    }
   ],
   "source": [
    "dir(rf_model)"
   ]
  },
  {
   "cell_type": "code",
   "execution_count": 26,
   "id": "french-rugby",
   "metadata": {},
   "outputs": [],
   "source": [
    "y_pred=rf_model.predict(X_test)"
   ]
  },
  {
   "cell_type": "code",
   "execution_count": 27,
   "id": "similar-mountain",
   "metadata": {},
   "outputs": [
    {
     "data": {
      "text/plain": [
       "345.00286717448006"
      ]
     },
     "execution_count": 27,
     "metadata": {},
     "output_type": "execute_result"
    }
   ],
   "source": [
    "np.sqrt(mean_squared_error(y_test,y_pred))"
   ]
  },
  {
   "cell_type": "markdown",
   "id": "liquid-departure",
   "metadata": {},
   "source": [
    "# Model Tuning"
   ]
  },
  {
   "cell_type": "code",
   "execution_count": 31,
   "id": "analyzed-refrigerator",
   "metadata": {},
   "outputs": [],
   "source": [
    "rf_params={\"max_depth\":[5,8,10],# max agac deriniligi\n",
    "          \"max_features\":[2,5,10],# max degisken sayısı\n",
    "          \"n_estimators\":[200,500,1000,2000],# kullanılack agac sayısı\n",
    "          \"min_samples_split\":[2,10,80] # bölünme için gerekli olan minimum örnek sayısı\n",
    "          }"
   ]
  },
  {
   "cell_type": "code",
   "execution_count": 32,
   "id": "active-birmingham",
   "metadata": {},
   "outputs": [],
   "source": [
    "rf_cv_model=GridSearchCV(rf_model,rf_params,n_jobs=-1,cv=10).fit(X_train,y_train)"
   ]
  },
  {
   "cell_type": "code",
   "execution_count": 33,
   "id": "honest-bowling",
   "metadata": {},
   "outputs": [
    {
     "data": {
      "text/plain": [
       "{'max_depth': 8,\n",
       " 'max_features': 2,\n",
       " 'min_samples_split': 2,\n",
       " 'n_estimators': 200}"
      ]
     },
     "execution_count": 33,
     "metadata": {},
     "output_type": "execute_result"
    }
   ],
   "source": [
    "rf_cv_model.best_params_"
   ]
  },
  {
   "cell_type": "code",
   "execution_count": 35,
   "id": "artistic-taste",
   "metadata": {},
   "outputs": [],
   "source": [
    "rf_tuned=RandomForestRegressor(random_state=42,max_depth=8,max_features=2,n_estimators=200,min_samples_split=2).fit(X_train,y_train)"
   ]
  },
  {
   "cell_type": "code",
   "execution_count": 36,
   "id": "modular-prediction",
   "metadata": {},
   "outputs": [],
   "source": [
    "y_pred=rf_tuned.predict(X_test)"
   ]
  },
  {
   "cell_type": "code",
   "execution_count": 37,
   "id": "anticipated-terrain",
   "metadata": {},
   "outputs": [
    {
     "data": {
      "text/plain": [
       "348.6776176416439"
      ]
     },
     "execution_count": 37,
     "metadata": {},
     "output_type": "execute_result"
    }
   ],
   "source": [
    "np.sqrt(mean_squared_error(y_test,y_pred))"
   ]
  },
  {
   "cell_type": "markdown",
   "id": "alien-lighter",
   "metadata": {},
   "source": [
    "# Degisken Önem Düzeyi"
   ]
  },
  {
   "cell_type": "code",
   "execution_count": 40,
   "id": "distant-watershed",
   "metadata": {},
   "outputs": [
    {
     "data": {
      "image/png": "[encoded data removed]",
      "text/plain": [
       "<Figure size 432x288 with 1 Axes>"
      ]
     },
     "metadata": {
      "needs_background": "light"
     },
     "output_type": "display_data"
    }
   ],
   "source": [
    "Importance=pd.DataFrame({\"Importance\":rf_tuned.feature_importances_*100},\n",
    "                       index=X_train.columns)\n",
    "Importance.sort_values(by=\"Importance\",\n",
    "                       axis=0,\n",
    "                       ascending=True).plot(kind=\"barh\",\n",
    "                                            color=\"r\",)\n",
    "plt.xlabel(\"variable Importance\")\n",
    "plt.gca().legend=None"
   ]
  },
  {
   "cell_type": "markdown",
   "id": "closing-split",
   "metadata": {},
   "source": [
    "# GRADİENT BOOSTİNG MACHİNES"
   ]
  },
  {
   "cell_type": "markdown",
   "id": "compatible-football",
   "metadata": {},
   "source": [
    "# Model & Tahmin"
   ]
  },
  {
   "cell_type": "code",
   "execution_count": 44,
   "id": "artistic-preserve",
   "metadata": {},
   "outputs": [],
   "source": [
    "gbm_model=GradientBoostingRegressor().fit(X_train,y_train)"
   ]
  },
  {
   "cell_type": "code",
   "execution_count": 45,
   "id": "headed-reservoir",
   "metadata": {},
   "outputs": [],
   "source": [
    "y_pred=gbm_model.predict(X_test)"
   ]
  },
  {
   "cell_type": "code",
   "execution_count": 46,
   "id": "sorted-bearing",
   "metadata": {},
   "outputs": [
    {
     "data": {
      "text/plain": [
       "350.46089602770655"
      ]
     },
     "execution_count": 46,
     "metadata": {},
     "output_type": "execute_result"
    }
   ],
   "source": [
    "np.sqrt(mean_squared_error(y_test,y_pred))"
   ]
  },
  {
   "cell_type": "code",
   "execution_count": 47,
   "id": "wicked-milan",
   "metadata": {
    "collapsed": true,
    "jupyter": {
     "outputs_hidden": true
    }
   },
   "outputs": [
    {
     "data": {
      "text/plain": [
       "\u001b[1;31mType:\u001b[0m        GradientBoostingRegressor\n",
       "\u001b[1;31mString form:\u001b[0m GradientBoostingRegressor()\n",
       "\u001b[1;31mLength:\u001b[0m      100\n",
       "\u001b[1;31mFile:\u001b[0m        c:\\users\\aslisesli\\anaconda3\\envs\\python\\lib\\site-packages\\sklearn\\ensemble\\_gb.py\n",
       "\u001b[1;31mDocstring:\u001b[0m  \n",
       "Gradient Boosting for regression.\n",
       "\n",
       "GB builds an additive model in a forward stage-wise fashion;\n",
       "it allows for the optimization of arbitrary differentiable loss functions.\n",
       "In each stage a regression tree is fit on the negative gradient of the\n",
       "given loss function.\n",
       "\n",
       "Read more in the :ref:`User Guide <gradient_boosting>`.\n",
       "\n",
       "Parameters\n",
       "----------\n",
       "loss : {'ls', 'lad', 'huber', 'quantile'}, default='ls'\n",
       "    Loss function to be optimized. 'ls' refers to least squares\n",
       "    regression. 'lad' (least absolute deviation) is a highly robust\n",
       "    loss function solely based on order information of the input\n",
       "    variables. 'huber' is a combination of the two. 'quantile'\n",
       "    allows quantile regression (use `alpha` to specify the quantile).\n",
       "\n",
       "learning_rate : float, default=0.1\n",
       "    Learning rate shrinks the contribution of each tree by `learning_rate`.\n",
       "    There is a trade-off between learning_rate and n_estimators.\n",
       "\n",
       "n_estimators : int, default=100\n",
       "    The number of boosting stages to perform. Gradient boosting\n",
       "    is fairly robust to over-fitting so a large number usually\n",
       "    results in better performance.\n",
       "\n",
       "subsample : float, default=1.0\n",
       "    The fraction of samples to be used for fitting the individual base\n",
       "    learners. If smaller than 1.0 this results in Stochastic Gradient\n",
       "    Boosting. `subsample` interacts with the parameter `n_estimators`.\n",
       "    Choosing `subsample < 1.0` leads to a reduction of variance\n",
       "    and an increase in bias.\n",
       "\n",
       "criterion : {'friedman_mse', 'mse', 'mae'}, default='friedman_mse'\n",
       "    The function to measure the quality of a split. Supported criteria\n",
       "    are \"friedman_mse\" for the mean squared error with improvement\n",
       "    score by Friedman, \"mse\" for mean squared error, and \"mae\" for\n",
       "    the mean absolute error. The default value of \"friedman_mse\" is\n",
       "    generally the best as it can provide a better approximation in\n",
       "    some cases.\n",
       "\n",
       "    .. versionadded:: 0.18\n",
       "    .. deprecated:: 0.24\n",
       "        `criterion='mae'` is deprecated and will be removed in version\n",
       "        1.1 (renaming of 0.26). The correct way of minimizing the absolute\n",
       "        error is to use `loss='lad'` instead.\n",
       "\n",
       "min_samples_split : int or float, default=2\n",
       "    The minimum number of samples required to split an internal node:\n",
       "\n",
       "    - If int, then consider `min_samples_split` as the minimum number.\n",
       "    - If float, then `min_samples_split` is a fraction and\n",
       "      `ceil(min_samples_split * n_samples)` are the minimum\n",
       "      number of samples for each split.\n",
       "\n",
       "    .. versionchanged:: 0.18\n",
       "       Added float values for fractions.\n",
       "\n",
       "min_samples_leaf : int or float, default=1\n",
       "    The minimum number of samples required to be at a leaf node.\n",
       "    A split point at any depth will only be considered if it leaves at\n",
       "    least ``min_samples_leaf`` training samples in each of the left and\n",
       "    right branches.  This may have the effect of smoothing the model,\n",
       "    especially in regression.\n",
       "\n",
       "    - If int, then consider `min_samples_leaf` as the minimum number.\n",
       "    - If float, then `min_samples_leaf` is a fraction and\n",
       "      `ceil(min_samples_leaf * n_samples)` are the minimum\n",
       "      number of samples for each node.\n",
       "\n",
       "    .. versionchanged:: 0.18\n",
       "       Added float values for fractions.\n",
       "\n",
       "min_weight_fraction_leaf : float, default=0.0\n",
       "    The minimum weighted fraction of the sum total of weights (of all\n",
       "    the input samples) required to be at a leaf node. Samples have\n",
       "    equal weight when sample_weight is not provided.\n",
       "\n",
       "max_depth : int, default=3\n",
       "    Maximum depth of the individual regression estimators. The maximum\n",
       "    depth limits the number of nodes in the tree. Tune this parameter\n",
       "    for best performance; the best value depends on the interaction\n",
       "    of the input variables.\n",
       "\n",
       "min_impurity_decrease : float, default=0.0\n",
       "    A node will be split if this split induces a decrease of the impurity\n",
       "    greater than or equal to this value.\n",
       "\n",
       "    The weighted impurity decrease equation is the following::\n",
       "\n",
       "        N_t / N * (impurity - N_t_R / N_t * right_impurity\n",
       "                            - N_t_L / N_t * left_impurity)\n",
       "\n",
       "    where ``N`` is the total number of samples, ``N_t`` is the number of\n",
       "    samples at the current node, ``N_t_L`` is the number of samples in the\n",
       "    left child, and ``N_t_R`` is the number of samples in the right child.\n",
       "\n",
       "    ``N``, ``N_t``, ``N_t_R`` and ``N_t_L`` all refer to the weighted sum,\n",
       "    if ``sample_weight`` is passed.\n",
       "\n",
       "    .. versionadded:: 0.19\n",
       "\n",
       "min_impurity_split : float, default=None\n",
       "    Threshold for early stopping in tree growth. A node will split\n",
       "    if its impurity is above the threshold, otherwise it is a leaf.\n",
       "\n",
       "    .. deprecated:: 0.19\n",
       "       ``min_impurity_split`` has been deprecated in favor of\n",
       "       ``min_impurity_decrease`` in 0.19. The default value of\n",
       "       ``min_impurity_split`` has changed from 1e-7 to 0 in 0.23 and it\n",
       "       will be removed in 1.0 (renaming of 0.25).\n",
       "       Use ``min_impurity_decrease`` instead.\n",
       "\n",
       "init : estimator or 'zero', default=None\n",
       "    An estimator object that is used to compute the initial predictions.\n",
       "    ``init`` has to provide :term:`fit` and :term:`predict`. If 'zero', the\n",
       "    initial raw predictions are set to zero. By default a\n",
       "    ``DummyEstimator`` is used, predicting either the average target value\n",
       "    (for loss='ls'), or a quantile for the other losses.\n",
       "\n",
       "random_state : int, RandomState instance or None, default=None\n",
       "    Controls the random seed given to each Tree estimator at each\n",
       "    boosting iteration.\n",
       "    In addition, it controls the random permutation of the features at\n",
       "    each split (see Notes for more details).\n",
       "    It also controls the random spliting of the training data to obtain a\n",
       "    validation set if `n_iter_no_change` is not None.\n",
       "    Pass an int for reproducible output across multiple function calls.\n",
       "    See :term:`Glossary <random_state>`.\n",
       "\n",
       "max_features : {'auto', 'sqrt', 'log2'}, int or float, default=None\n",
       "    The number of features to consider when looking for the best split:\n",
       "\n",
       "    - If int, then consider `max_features` features at each split.\n",
       "    - If float, then `max_features` is a fraction and\n",
       "      `int(max_features * n_features)` features are considered at each\n",
       "      split.\n",
       "    - If \"auto\", then `max_features=n_features`.\n",
       "    - If \"sqrt\", then `max_features=sqrt(n_features)`.\n",
       "    - If \"log2\", then `max_features=log2(n_features)`.\n",
       "    - If None, then `max_features=n_features`.\n",
       "\n",
       "    Choosing `max_features < n_features` leads to a reduction of variance\n",
       "    and an increase in bias.\n",
       "\n",
       "    Note: the search for a split does not stop until at least one\n",
       "    valid partition of the node samples is found, even if it requires to\n",
       "    effectively inspect more than ``max_features`` features.\n",
       "\n",
       "alpha : float, default=0.9\n",
       "    The alpha-quantile of the huber loss function and the quantile\n",
       "    loss function. Only if ``loss='huber'`` or ``loss='quantile'``.\n",
       "\n",
       "verbose : int, default=0\n",
       "    Enable verbose output. If 1 then it prints progress and performance\n",
       "    once in a while (the more trees the lower the frequency). If greater\n",
       "    than 1 then it prints progress and performance for every tree.\n",
       "\n",
       "max_leaf_nodes : int, default=None\n",
       "    Grow trees with ``max_leaf_nodes`` in best-first fashion.\n",
       "    Best nodes are defined as relative reduction in impurity.\n",
       "    If None then unlimited number of leaf nodes.\n",
       "\n",
       "warm_start : bool, default=False\n",
       "    When set to ``True``, reuse the solution of the previous call to fit\n",
       "    and add more estimators to the ensemble, otherwise, just erase the\n",
       "    previous solution. See :term:`the Glossary <warm_start>`.\n",
       "\n",
       "validation_fraction : float, default=0.1\n",
       "    The proportion of training data to set aside as validation set for\n",
       "    early stopping. Must be between 0 and 1.\n",
       "    Only used if ``n_iter_no_change`` is set to an integer.\n",
       "\n",
       "    .. versionadded:: 0.20\n",
       "\n",
       "n_iter_no_change : int, default=None\n",
       "    ``n_iter_no_change`` is used to decide if early stopping will be used\n",
       "    to terminate training when validation score is not improving. By\n",
       "    default it is set to None to disable early stopping. If set to a\n",
       "    number, it will set aside ``validation_fraction`` size of the training\n",
       "    data as validation and terminate training when validation score is not\n",
       "    improving in all of the previous ``n_iter_no_change`` numbers of\n",
       "    iterations.\n",
       "\n",
       "    .. versionadded:: 0.20\n",
       "\n",
       "tol : float, default=1e-4\n",
       "    Tolerance for the early stopping. When the loss is not improving\n",
       "    by at least tol for ``n_iter_no_change`` iterations (if set to a\n",
       "    number), the training stops.\n",
       "\n",
       "    .. versionadded:: 0.20\n",
       "\n",
       "ccp_alpha : non-negative float, default=0.0\n",
       "    Complexity parameter used for Minimal Cost-Complexity Pruning. The\n",
       "    subtree with the largest cost complexity that is smaller than\n",
       "    ``ccp_alpha`` will be chosen. By default, no pruning is performed. See\n",
       "    :ref:`minimal_cost_complexity_pruning` for details.\n",
       "\n",
       "    .. versionadded:: 0.22\n",
       "\n",
       "Attributes\n",
       "----------\n",
       "feature_importances_ : ndarray of shape (n_features,)\n",
       "    The impurity-based feature importances.\n",
       "    The higher, the more important the feature.\n",
       "    The importance of a feature is computed as the (normalized)\n",
       "    total reduction of the criterion brought by that feature.  It is also\n",
       "    known as the Gini importance.\n",
       "\n",
       "    Warning: impurity-based feature importances can be misleading for\n",
       "    high cardinality features (many unique values). See\n",
       "    :func:`sklearn.inspection.permutation_importance` as an alternative.\n",
       "\n",
       "oob_improvement_ : ndarray of shape (n_estimators,)\n",
       "    The improvement in loss (= deviance) on the out-of-bag samples\n",
       "    relative to the previous iteration.\n",
       "    ``oob_improvement_[0]`` is the improvement in\n",
       "    loss of the first stage over the ``init`` estimator.\n",
       "    Only available if ``subsample < 1.0``\n",
       "\n",
       "train_score_ : ndarray of shape (n_estimators,)\n",
       "    The i-th score ``train_score_[i]`` is the deviance (= loss) of the\n",
       "    model at iteration ``i`` on the in-bag sample.\n",
       "    If ``subsample == 1`` this is the deviance on the training data.\n",
       "\n",
       "loss_ : LossFunction\n",
       "    The concrete ``LossFunction`` object.\n",
       "\n",
       "init_ : estimator\n",
       "    The estimator that provides the initial predictions.\n",
       "    Set via the ``init`` argument or ``loss.init_estimator``.\n",
       "\n",
       "estimators_ : ndarray of DecisionTreeRegressor of shape (n_estimators, 1)\n",
       "    The collection of fitted sub-estimators.\n",
       "\n",
       "n_classes_ : int\n",
       "    The number of classes, set to 1 for regressors.\n",
       "\n",
       "    .. deprecated:: 0.24\n",
       "        Attribute ``n_classes_`` was deprecated in version 0.24 and\n",
       "        will be removed in 1.1 (renaming of 0.26).\n",
       "\n",
       "n_estimators_ : int\n",
       "    The number of estimators as selected by early stopping (if\n",
       "    ``n_iter_no_change`` is specified). Otherwise it is set to\n",
       "    ``n_estimators``.\n",
       "\n",
       "n_features_ : int\n",
       "    The number of data features.\n",
       "\n",
       "max_features_ : int\n",
       "    The inferred value of max_features.\n",
       "\n",
       "See Also\n",
       "--------\n",
       "HistGradientBoostingRegressor : Histogram-based Gradient Boosting\n",
       "    Classification Tree.\n",
       "sklearn.tree.DecisionTreeRegressor : A decision tree regressor.\n",
       "sklearn.tree.RandomForestRegressor : A random forest regressor.\n",
       "\n",
       "Notes\n",
       "-----\n",
       "The features are always randomly permuted at each split. Therefore,\n",
       "the best found split may vary, even with the same training data and\n",
       "``max_features=n_features``, if the improvement of the criterion is\n",
       "identical for several splits enumerated during the search of the best\n",
       "split. To obtain a deterministic behaviour during fitting,\n",
       "``random_state`` has to be fixed.\n",
       "\n",
       "Examples\n",
       "--------\n",
       ">>> from sklearn.datasets import make_regression\n",
       ">>> from sklearn.ensemble import GradientBoostingRegressor\n",
       ">>> from sklearn.model_selection import train_test_split\n",
       ">>> X, y = make_regression(random_state=0)\n",
       ">>> X_train, X_test, y_train, y_test = train_test_split(\n",
       "...     X, y, random_state=0)\n",
       ">>> reg = GradientBoostingRegressor(random_state=0)\n",
       ">>> reg.fit(X_train, y_train)\n",
       "GradientBoostingRegressor(random_state=0)\n",
       ">>> reg.predict(X_test[1:2])\n",
       "array([-61...])\n",
       ">>> reg.score(X_test, y_test)\n",
       "0.4...\n",
       "\n",
       "References\n",
       "----------\n",
       "J. Friedman, Greedy Function Approximation: A Gradient Boosting\n",
       "Machine, The Annals of Statistics, Vol. 29, No. 5, 2001.\n",
       "\n",
       "J. Friedman, Stochastic Gradient Boosting, 1999\n",
       "\n",
       "T. Hastie, R. Tibshirani and J. Friedman.\n",
       "Elements of Statistical Learning Ed. 2, Springer, 2009.\n"
      ]
     },
     "metadata": {},
     "output_type": "display_data"
    }
   ],
   "source": [
    "?gbm_model"
   ]
  },
  {
   "cell_type": "markdown",
   "id": "filled-following",
   "metadata": {},
   "source": [
    "# Model Tuning"
   ]
  },
  {
   "cell_type": "code",
   "execution_count": 49,
   "id": "announced-reducing",
   "metadata": {},
   "outputs": [],
   "source": [
    "gbm_params={\"learning_rate\":[0.1,0.001],\n",
    "           \"loss\":[\"lad\",\"ls\"],\n",
    "           \"max_depth\":[3,5],\n",
    "           \"n_estimators\":[200,500],\n",
    "           \"subsample\":[1,0.5]}"
   ]
  },
  {
   "cell_type": "code",
   "execution_count": 50,
   "id": "vocal-madrid",
   "metadata": {},
   "outputs": [
    {
     "name": "stdout",
     "output_type": "stream",
     "text": [
      "Fitting 10 folds for each of 32 candidates, totalling 320 fits\n"
     ]
    }
   ],
   "source": [
    "gbm_cv_model=GridSearchCV(gbm_model,gbm_params,cv=10,n_jobs=-1,verbose=2).fit(X_train,y_train)"
   ]
  },
  {
   "cell_type": "code",
   "execution_count": 51,
   "id": "regular-thousand",
   "metadata": {},
   "outputs": [
    {
     "data": {
      "text/plain": [
       "{'learning_rate': 0.1,\n",
       " 'loss': 'lad',\n",
       " 'max_depth': 3,\n",
       " 'n_estimators': 500,\n",
       " 'subsample': 1}"
      ]
     },
     "execution_count": 51,
     "metadata": {},
     "output_type": "execute_result"
    }
   ],
   "source": [
    "gbm_cv_model.best_params_"
   ]
  },
  {
   "cell_type": "code",
   "execution_count": 53,
   "id": "trying-harvest",
   "metadata": {},
   "outputs": [],
   "source": [
    "gbm_tuned=GradientBoostingRegressor(learning_rate=0.1,loss=\"lad\",max_depth=3,n_estimators=500,subsample=1).fit(X_train,y_train)"
   ]
  },
  {
   "cell_type": "code",
   "execution_count": 54,
   "id": "adverse-bacteria",
   "metadata": {},
   "outputs": [],
   "source": [
    "y_pred=gbm_tuned.predict(X_test)"
   ]
  },
  {
   "cell_type": "code",
   "execution_count": 55,
   "id": "subject-journey",
   "metadata": {},
   "outputs": [
    {
     "data": {
      "text/plain": [
       "321.3084439958772"
      ]
     },
     "execution_count": 55,
     "metadata": {},
     "output_type": "execute_result"
    }
   ],
   "source": [
    "np.sqrt(mean_squared_error(y_test,y_pred))"
   ]
  },
  {
   "cell_type": "code",
   "execution_count": 57,
   "id": "experienced-solomon",
   "metadata": {},
   "outputs": [],
   "source": [
    "# Degisken önem düzeyi"
   ]
  },
  {
   "cell_type": "code",
   "execution_count": 58,
   "id": "fabulous-arizona",
   "metadata": {
    "collapsed": true,
    "jupyter": {
     "outputs_hidden": true
    }
   },
   "outputs": [
    {
     "data": {
      "image/png": "[encoded data removed]",
      "text/plain": [
       "<Figure size 432x288 with 1 Axes>"
      ]
     },
     "metadata": {
      "needs_background": "light"
     },
     "output_type": "display_data"
    }
   ],
   "source": [
    "Importance=pd.DataFrame({\"Importance\":gbm_tuned.feature_importances_*100},\n",
    "                       index=X_train.columns)\n",
    "Importance.sort_values(by=\"Importance\",\n",
    "                       axis=0,\n",
    "                       ascending=True).plot(kind=\"barh\",\n",
    "                                            color=\"r\",)\n",
    "plt.xlabel(\"variable Importance\")\n",
    "plt.gca().legend=None"
   ]
  },
  {
   "cell_type": "markdown",
   "id": "indie-disclaimer",
   "metadata": {},
   "source": [
    "# XGBOOST "
   ]
  },
  {
   "cell_type": "code",
   "execution_count": 59,
   "id": "normal-mission",
   "metadata": {},
   "outputs": [],
   "source": [
    "df=pd.read_csv(\"Hitters.csv\")\n",
    "df=df.dropna()\n",
    "dms=pd.get_dummies(df[[\"League\",\"Division\",\"NewLeague\"]])\n",
    "y=df[\"Salary\"]\n",
    "X_=df.drop([\"Salary\",\"League\",\"Division\",\"NewLeague\"],axis=1).astype(\"float64\")\n",
    "X=pd.concat([X_,dms[[\"League_N\",\"Division_W\",\"NewLeague_N\"]]],axis=1)\n",
    "X_train,X_test,y_train,y_test=train_test_split(X,\n",
    "                                               y,\n",
    "                                              test_size=0.25,\n",
    "                                              random_state=42)"
   ]
  },
  {
   "cell_type": "markdown",
   "id": "residential-annual",
   "metadata": {},
   "source": [
    "# Model & Tahmin"
   ]
  },
  {
   "cell_type": "code",
   "execution_count": 61,
   "id": "searching-superintendent",
   "metadata": {},
   "outputs": [],
   "source": [
    "import xgboost"
   ]
  },
  {
   "cell_type": "code",
   "execution_count": 62,
   "id": "extended-permit",
   "metadata": {},
   "outputs": [],
   "source": [
    "from xgboost import XGBRegressor"
   ]
  },
  {
   "cell_type": "code",
   "execution_count": 63,
   "id": "numeric-keeping",
   "metadata": {},
   "outputs": [],
   "source": [
    "xgb=XGBRegressor().fit(X_train,y_train)"
   ]
  },
  {
   "cell_type": "code",
   "execution_count": 64,
   "id": "strange-claim",
   "metadata": {},
   "outputs": [],
   "source": [
    "y_pred=xgb.predict(X_test)"
   ]
  },
  {
   "cell_type": "code",
   "execution_count": 65,
   "id": "connected-colleague",
   "metadata": {},
   "outputs": [
    {
     "data": {
      "text/plain": [
       "355.46515176059927"
      ]
     },
     "execution_count": 65,
     "metadata": {},
     "output_type": "execute_result"
    }
   ],
   "source": [
    "np.sqrt(mean_squared_error(y_test,y_pred))"
   ]
  },
  {
   "cell_type": "markdown",
   "id": "fluid-bishop",
   "metadata": {},
   "source": [
    "# Model Tuning"
   ]
  },
  {
   "cell_type": "code",
   "execution_count": 70,
   "id": "ongoing-duncan",
   "metadata": {},
   "outputs": [],
   "source": [
    "xgb_params={\"learning_rate\":[0.5,0.1],\n",
    "           \"colsample_bytree\":[0.7,0,4],\n",
    "           \"max_depth\":[2,4],\n",
    "            \"n_estimators\":[100,200]}"
   ]
  },
  {
   "cell_type": "code",
   "execution_count": 71,
   "id": "effective-collective",
   "metadata": {},
   "outputs": [
    {
     "name": "stdout",
     "output_type": "stream",
     "text": [
      "Fitting 10 folds for each of 24 candidates, totalling 240 fits\n"
     ]
    },
    {
     "name": "stderr",
     "output_type": "stream",
     "text": [
      "C:\\Users\\aslisesli\\anaconda3\\envs\\python\\lib\\site-packages\\sklearn\\model_selection\\_search.py:921: UserWarning: One or more of the test scores are non-finite: [0.52146139 0.52190344 0.49529516 0.495298   0.5784494  0.58622123\n",
      " 0.49921855 0.50174141 0.39566682 0.37306205 0.21847249 0.21795474\n",
      " 0.55023658 0.54598233 0.51329184 0.49417546        nan        nan\n",
      "        nan        nan        nan        nan        nan        nan]\n",
      "  category=UserWarning\n"
     ]
    }
   ],
   "source": [
    "xgb_cv_model=GridSearchCV(xgb,xgb_params,cv=10,n_jobs=-1,verbose=2).fit(X_train,y_train)"
   ]
  },
  {
   "cell_type": "code",
   "execution_count": 72,
   "id": "distinct-madness",
   "metadata": {},
   "outputs": [
    {
     "data": {
      "text/plain": [
       "{'colsample_bytree': 0.7,\n",
       " 'learning_rate': 0.1,\n",
       " 'max_depth': 2,\n",
       " 'n_estimators': 200}"
      ]
     },
     "execution_count": 72,
     "metadata": {},
     "output_type": "execute_result"
    }
   ],
   "source": [
    "xgb_cv_model.best_params_"
   ]
  },
  {
   "cell_type": "code",
   "execution_count": 76,
   "id": "solar-memorabilia",
   "metadata": {},
   "outputs": [],
   "source": [
    "xgb_tuned=XGBRegressor(learning_rate=0.1,colsample_bytree=0.7,max_depth=2,n_estimators=200).fit(X_train,y_train)"
   ]
  },
  {
   "cell_type": "code",
   "execution_count": 77,
   "id": "tight-treasury",
   "metadata": {},
   "outputs": [],
   "source": [
    "y_pred=xgb_tuned.predict(X_test)"
   ]
  },
  {
   "cell_type": "code",
   "execution_count": 78,
   "id": "correct-brief",
   "metadata": {},
   "outputs": [
    {
     "data": {
      "text/plain": [
       "346.49123590215214"
      ]
     },
     "execution_count": 78,
     "metadata": {},
     "output_type": "execute_result"
    }
   ],
   "source": [
    "np.sqrt(mean_squared_error(y_test,y_pred))"
   ]
  },
  {
   "cell_type": "code",
   "execution_count": 81,
   "id": "indirect-cambridge",
   "metadata": {},
   "outputs": [],
   "source": [
    "# Degisken önem düzeyi"
   ]
  },
  {
   "cell_type": "code",
   "execution_count": 79,
   "id": "italian-dietary",
   "metadata": {
    "collapsed": true,
    "jupyter": {
     "outputs_hidden": true
    }
   },
   "outputs": [
    {
     "data": {
      "image/png": "[encoded data removed]",
      "text/plain": [
       "<Figure size 432x288 with 1 Axes>"
      ]
     },
     "metadata": {
      "needs_background": "light"
     },
     "output_type": "display_data"
    }
   ],
   "source": [
    "Importance=pd.DataFrame({\"Importance\":xgb_tuned.feature_importances_*100},\n",
    "                       index=X_train.columns)\n",
    "Importance.sort_values(by=\"Importance\",\n",
    "                       axis=0,\n",
    "                       ascending=True).plot(kind=\"barh\",\n",
    "                                            color=\"r\",)\n",
    "plt.xlabel(\"variable Importance\")\n",
    "plt.gca().legend=None"
   ]
  },
  {
   "cell_type": "markdown",
   "id": "flying-mixer",
   "metadata": {},
   "source": [
    "# LİGHT GBM"
   ]
  },
  {
   "cell_type": "markdown",
   "id": "likely-strengthening",
   "metadata": {},
   "source": [
    "# Model & Tahmin"
   ]
  },
  {
   "cell_type": "code",
   "execution_count": 83,
   "id": "ruled-district",
   "metadata": {},
   "outputs": [],
   "source": [
    "df=pd.read_csv(\"Hitters.csv\")\n",
    "df=df.dropna()\n",
    "dms=pd.get_dummies(df[[\"League\",\"Division\",\"NewLeague\"]])\n",
    "y=df[\"Salary\"]\n",
    "X_=df.drop([\"Salary\",\"League\",\"Division\",\"NewLeague\"],axis=1).astype(\"float64\")\n",
    "X=pd.concat([X_,dms[[\"League_N\",\"Division_W\",\"NewLeague_N\"]]],axis=1)\n",
    "X_train,X_test,y_train,y_test=train_test_split(X,\n",
    "                                               y,\n",
    "                                              test_size=0.25,\n",
    "                                              random_state=42)"
   ]
  },
  {
   "cell_type": "code",
   "execution_count": 84,
   "id": "continuous-point",
   "metadata": {},
   "outputs": [],
   "source": [
    "from lightgbm import LGBMRegressor"
   ]
  },
  {
   "cell_type": "code",
   "execution_count": 86,
   "id": "comfortable-yorkshire",
   "metadata": {},
   "outputs": [],
   "source": [
    "lgb_model=LGBMRegressor().fit(X_train,y_train)"
   ]
  },
  {
   "cell_type": "code",
   "execution_count": 87,
   "id": "rolled-manual",
   "metadata": {},
   "outputs": [],
   "source": [
    "y_pred=lgb_model.predict(X_test)"
   ]
  },
  {
   "cell_type": "code",
   "execution_count": 88,
   "id": "martial-planner",
   "metadata": {},
   "outputs": [
    {
     "data": {
      "text/plain": [
       "363.8712087611089"
      ]
     },
     "execution_count": 88,
     "metadata": {},
     "output_type": "execute_result"
    }
   ],
   "source": [
    "np.sqrt(mean_squared_error(y_test,y_pred))"
   ]
  },
  {
   "cell_type": "markdown",
   "id": "sublime-calendar",
   "metadata": {},
   "source": [
    "# Model Tuning"
   ]
  },
  {
   "cell_type": "code",
   "execution_count": 90,
   "id": "rolled-registrar",
   "metadata": {},
   "outputs": [],
   "source": [
    "lgm_params={\"learning_rate\":[0.1,0.001,0.5],\n",
    "            \"n_estimators\":[20,50,100],\n",
    "           \"max_depth\":[6,7,8]}"
   ]
  },
  {
   "cell_type": "code",
   "execution_count": 91,
   "id": "quantitative-serve",
   "metadata": {},
   "outputs": [
    {
     "name": "stdout",
     "output_type": "stream",
     "text": [
      "Fitting 10 folds for each of 27 candidates, totalling 270 fits\n",
      "[LightGBM] [Warning] Accuracy may be bad since you didn't explicitly set num_leaves OR 2^max_depth > num_leaves. (num_leaves=31).\n"
     ]
    }
   ],
   "source": [
    "lgm_cv_model=GridSearchCV(lgb_model,lgm_params,cv=10,n_jobs=-1,verbose=2).fit(X_train,y_train)"
   ]
  },
  {
   "cell_type": "code",
   "execution_count": 92,
   "id": "stock-significance",
   "metadata": {},
   "outputs": [
    {
     "data": {
      "text/plain": [
       "{'learning_rate': 0.1, 'max_depth': 6, 'n_estimators': 20}"
      ]
     },
     "execution_count": 92,
     "metadata": {},
     "output_type": "execute_result"
    }
   ],
   "source": [
    "lgm_cv_model.best_params_"
   ]
  },
  {
   "cell_type": "code",
   "execution_count": 93,
   "id": "aboriginal-equity",
   "metadata": {},
   "outputs": [],
   "source": [
    "lgb_tuned=LGBMRegressor(learning_rate=0.1,n_estimators=20,max_depth=6).fit(X_train,y_train)"
   ]
  },
  {
   "cell_type": "code",
   "execution_count": 94,
   "id": "criminal-comfort",
   "metadata": {},
   "outputs": [],
   "source": [
    "y_pred=lgb_tuned.predict(X_test)"
   ]
  },
  {
   "cell_type": "code",
   "execution_count": 95,
   "id": "operating-camera",
   "metadata": {},
   "outputs": [
    {
     "data": {
      "text/plain": [
       "371.5044868943621"
      ]
     },
     "execution_count": 95,
     "metadata": {},
     "output_type": "execute_result"
    }
   ],
   "source": [
    "np.sqrt(mean_squared_error(y_test,y_pred))"
   ]
  },
  {
   "cell_type": "markdown",
   "id": "steady-mention",
   "metadata": {},
   "source": [
    "# CATBOOST"
   ]
  },
  {
   "cell_type": "markdown",
   "id": "filled-summer",
   "metadata": {},
   "source": [
    "# Model & Tahmin"
   ]
  },
  {
   "cell_type": "code",
   "execution_count": 102,
   "id": "regional-equivalent",
   "metadata": {},
   "outputs": [],
   "source": [
    "from catboost import CatBoostRegressor"
   ]
  },
  {
   "cell_type": "code",
   "execution_count": 103,
   "id": "measured-orlando",
   "metadata": {
    "collapsed": true,
    "jupyter": {
     "outputs_hidden": true
    }
   },
   "outputs": [
    {
     "name": "stdout",
     "output_type": "stream",
     "text": [
      "Learning rate set to 0.029229\n",
      "0:\tlearn: 438.1974206\ttotal: 72.9ms\tremaining: 1m 12s\n",
      "1:\tlearn: 432.4168868\ttotal: 75.4ms\tremaining: 37.6s\n",
      "2:\tlearn: 426.3836690\ttotal: 81.1ms\tremaining: 27s\n",
      "3:\tlearn: 420.2261014\ttotal: 83.9ms\tremaining: 20.9s\n",
      "4:\tlearn: 414.9976675\ttotal: 86.8ms\tremaining: 17.3s\n",
      "5:\tlearn: 409.6125323\ttotal: 89.1ms\tremaining: 14.8s\n",
      "6:\tlearn: 403.9277911\ttotal: 91.4ms\tremaining: 13s\n",
      "7:\tlearn: 398.4395285\ttotal: 96.6ms\tremaining: 12s\n",
      "8:\tlearn: 392.4517081\ttotal: 99ms\tremaining: 10.9s\n",
      "9:\tlearn: 387.4871123\ttotal: 102ms\tremaining: 10.1s\n",
      "10:\tlearn: 382.6230510\ttotal: 105ms\tremaining: 9.44s\n",
      "11:\tlearn: 378.1012454\ttotal: 110ms\tremaining: 9.06s\n",
      "12:\tlearn: 372.6002306\ttotal: 113ms\tremaining: 8.57s\n",
      "13:\tlearn: 368.4682192\ttotal: 116ms\tremaining: 8.14s\n",
      "14:\tlearn: 364.0565766\ttotal: 118ms\tremaining: 7.77s\n",
      "15:\tlearn: 359.5683249\ttotal: 121ms\tremaining: 7.45s\n",
      "16:\tlearn: 355.1782794\ttotal: 125ms\tremaining: 7.25s\n",
      "17:\tlearn: 350.4689946\ttotal: 128ms\tremaining: 7s\n",
      "18:\tlearn: 346.2553348\ttotal: 131ms\tremaining: 6.77s\n",
      "19:\tlearn: 341.7051884\ttotal: 134ms\tremaining: 6.59s\n",
      "20:\tlearn: 337.8343606\ttotal: 141ms\tremaining: 6.58s\n",
      "21:\tlearn: 333.7956702\ttotal: 145ms\tremaining: 6.45s\n",
      "22:\tlearn: 329.8867930\ttotal: 149ms\tremaining: 6.34s\n",
      "23:\tlearn: 326.1844372\ttotal: 153ms\tremaining: 6.21s\n",
      "24:\tlearn: 323.1315580\ttotal: 161ms\tremaining: 6.27s\n",
      "25:\tlearn: 319.3322885\ttotal: 164ms\tremaining: 6.16s\n",
      "26:\tlearn: 316.2039164\ttotal: 172ms\tremaining: 6.18s\n",
      "27:\tlearn: 313.2598806\ttotal: 174ms\tremaining: 6.05s\n",
      "28:\tlearn: 310.1086898\ttotal: 177ms\tremaining: 5.92s\n",
      "29:\tlearn: 307.0508553\ttotal: 180ms\tremaining: 5.81s\n",
      "30:\tlearn: 304.5843401\ttotal: 184ms\tremaining: 5.76s\n",
      "31:\tlearn: 301.6708432\ttotal: 187ms\tremaining: 5.66s\n",
      "32:\tlearn: 298.9175443\ttotal: 189ms\tremaining: 5.55s\n",
      "33:\tlearn: 296.1231309\ttotal: 192ms\tremaining: 5.46s\n",
      "34:\tlearn: 293.2359275\ttotal: 195ms\tremaining: 5.37s\n",
      "35:\tlearn: 290.3999850\ttotal: 201ms\tremaining: 5.39s\n",
      "36:\tlearn: 287.8958674\ttotal: 204ms\tremaining: 5.32s\n",
      "37:\tlearn: 285.6692571\ttotal: 207ms\tremaining: 5.25s\n",
      "38:\tlearn: 282.9812904\ttotal: 211ms\tremaining: 5.19s\n",
      "39:\tlearn: 280.6302291\ttotal: 216ms\tremaining: 5.18s\n",
      "40:\tlearn: 278.2767119\ttotal: 219ms\tremaining: 5.11s\n",
      "41:\tlearn: 276.0589541\ttotal: 222ms\tremaining: 5.06s\n",
      "42:\tlearn: 273.6619286\ttotal: 225ms\tremaining: 5.01s\n",
      "43:\tlearn: 271.1128163\ttotal: 230ms\tremaining: 5s\n",
      "44:\tlearn: 268.9091716\ttotal: 233ms\tremaining: 4.94s\n",
      "45:\tlearn: 266.3675542\ttotal: 235ms\tremaining: 4.87s\n",
      "46:\tlearn: 263.7815611\ttotal: 237ms\tremaining: 4.81s\n",
      "47:\tlearn: 261.8160223\ttotal: 240ms\tremaining: 4.75s\n",
      "48:\tlearn: 259.7109561\ttotal: 242ms\tremaining: 4.69s\n",
      "49:\tlearn: 257.7200276\ttotal: 245ms\tremaining: 4.66s\n",
      "50:\tlearn: 255.7835524\ttotal: 248ms\tremaining: 4.62s\n",
      "51:\tlearn: 253.8406902\ttotal: 251ms\tremaining: 4.57s\n",
      "52:\tlearn: 251.6896611\ttotal: 253ms\tremaining: 4.52s\n",
      "53:\tlearn: 250.0830915\ttotal: 256ms\tremaining: 4.48s\n",
      "54:\tlearn: 248.3689069\ttotal: 258ms\tremaining: 4.43s\n",
      "55:\tlearn: 246.2718937\ttotal: 260ms\tremaining: 4.39s\n",
      "56:\tlearn: 244.3923224\ttotal: 263ms\tremaining: 4.35s\n",
      "57:\tlearn: 242.3040669\ttotal: 266ms\tremaining: 4.32s\n",
      "58:\tlearn: 240.5357981\ttotal: 268ms\tremaining: 4.28s\n",
      "59:\tlearn: 238.7009594\ttotal: 271ms\tremaining: 4.24s\n",
      "60:\tlearn: 237.2676945\ttotal: 274ms\tremaining: 4.22s\n",
      "61:\tlearn: 235.7252656\ttotal: 277ms\tremaining: 4.18s\n",
      "62:\tlearn: 234.1007596\ttotal: 279ms\tremaining: 4.15s\n",
      "63:\tlearn: 232.4179971\ttotal: 281ms\tremaining: 4.12s\n",
      "64:\tlearn: 231.1643497\ttotal: 284ms\tremaining: 4.08s\n",
      "65:\tlearn: 229.6810852\ttotal: 286ms\tremaining: 4.05s\n",
      "66:\tlearn: 228.1714231\ttotal: 290ms\tremaining: 4.03s\n",
      "67:\tlearn: 226.9338286\ttotal: 292ms\tremaining: 4s\n",
      "68:\tlearn: 226.0780127\ttotal: 294ms\tremaining: 3.97s\n",
      "69:\tlearn: 224.6598569\ttotal: 297ms\tremaining: 3.94s\n",
      "70:\tlearn: 223.1110463\ttotal: 299ms\tremaining: 3.91s\n",
      "71:\tlearn: 221.6545694\ttotal: 301ms\tremaining: 3.88s\n",
      "72:\tlearn: 220.2670639\ttotal: 304ms\tremaining: 3.86s\n",
      "73:\tlearn: 218.9738032\ttotal: 307ms\tremaining: 3.83s\n",
      "74:\tlearn: 217.9247112\ttotal: 309ms\tremaining: 3.81s\n",
      "75:\tlearn: 216.9202490\ttotal: 311ms\tremaining: 3.78s\n",
      "76:\tlearn: 215.5989131\ttotal: 313ms\tremaining: 3.76s\n",
      "77:\tlearn: 214.3540917\ttotal: 316ms\tremaining: 3.73s\n",
      "78:\tlearn: 213.4575339\ttotal: 318ms\tremaining: 3.71s\n",
      "79:\tlearn: 212.1036261\ttotal: 322ms\tremaining: 3.7s\n",
      "80:\tlearn: 210.8030392\ttotal: 324ms\tremaining: 3.68s\n",
      "81:\tlearn: 209.5290460\ttotal: 328ms\tremaining: 3.67s\n",
      "82:\tlearn: 208.0255508\ttotal: 330ms\tremaining: 3.65s\n",
      "83:\tlearn: 206.9124270\ttotal: 333ms\tremaining: 3.63s\n",
      "84:\tlearn: 205.5903017\ttotal: 336ms\tremaining: 3.61s\n",
      "85:\tlearn: 204.6057051\ttotal: 338ms\tremaining: 3.59s\n",
      "86:\tlearn: 203.7128429\ttotal: 340ms\tremaining: 3.57s\n",
      "87:\tlearn: 202.7663836\ttotal: 343ms\tremaining: 3.55s\n",
      "88:\tlearn: 201.9026542\ttotal: 345ms\tremaining: 3.53s\n",
      "89:\tlearn: 200.7729520\ttotal: 347ms\tremaining: 3.51s\n",
      "90:\tlearn: 199.6909954\ttotal: 350ms\tremaining: 3.5s\n",
      "91:\tlearn: 198.6341430\ttotal: 352ms\tremaining: 3.48s\n",
      "92:\tlearn: 197.6117675\ttotal: 355ms\tremaining: 3.46s\n",
      "93:\tlearn: 196.5198483\ttotal: 357ms\tremaining: 3.44s\n",
      "94:\tlearn: 195.5443940\ttotal: 360ms\tremaining: 3.43s\n",
      "95:\tlearn: 194.4203970\ttotal: 362ms\tremaining: 3.41s\n",
      "96:\tlearn: 193.2677508\ttotal: 364ms\tremaining: 3.39s\n",
      "97:\tlearn: 192.1768427\ttotal: 368ms\tremaining: 3.39s\n",
      "98:\tlearn: 191.2356955\ttotal: 370ms\tremaining: 3.37s\n",
      "99:\tlearn: 189.9934546\ttotal: 373ms\tremaining: 3.35s\n",
      "100:\tlearn: 189.2719006\ttotal: 376ms\tremaining: 3.35s\n",
      "101:\tlearn: 188.1079321\ttotal: 380ms\tremaining: 3.35s\n",
      "102:\tlearn: 187.1211517\ttotal: 383ms\tremaining: 3.34s\n",
      "103:\tlearn: 185.9059118\ttotal: 394ms\tremaining: 3.39s\n",
      "104:\tlearn: 185.2620919\ttotal: 408ms\tremaining: 3.48s\n",
      "105:\tlearn: 184.4349037\ttotal: 411ms\tremaining: 3.47s\n",
      "106:\tlearn: 183.1846237\ttotal: 417ms\tremaining: 3.48s\n",
      "107:\tlearn: 182.1448077\ttotal: 419ms\tremaining: 3.46s\n",
      "108:\tlearn: 181.4787170\ttotal: 421ms\tremaining: 3.44s\n",
      "109:\tlearn: 180.6789032\ttotal: 424ms\tremaining: 3.43s\n",
      "110:\tlearn: 179.9122461\ttotal: 426ms\tremaining: 3.41s\n",
      "111:\tlearn: 178.9952892\ttotal: 429ms\tremaining: 3.4s\n",
      "112:\tlearn: 178.6013107\ttotal: 432ms\tremaining: 3.39s\n",
      "113:\tlearn: 177.7090692\ttotal: 434ms\tremaining: 3.37s\n",
      "114:\tlearn: 176.7404828\ttotal: 436ms\tremaining: 3.36s\n",
      "115:\tlearn: 176.0415402\ttotal: 439ms\tremaining: 3.34s\n",
      "116:\tlearn: 175.5315148\ttotal: 441ms\tremaining: 3.33s\n",
      "117:\tlearn: 174.8976738\ttotal: 444ms\tremaining: 3.32s\n",
      "118:\tlearn: 174.0530870\ttotal: 446ms\tremaining: 3.31s\n",
      "119:\tlearn: 173.0700181\ttotal: 449ms\tremaining: 3.29s\n",
      "120:\tlearn: 172.2832739\ttotal: 451ms\tremaining: 3.28s\n",
      "121:\tlearn: 171.4960220\ttotal: 454ms\tremaining: 3.27s\n",
      "122:\tlearn: 171.0402978\ttotal: 456ms\tremaining: 3.25s\n",
      "123:\tlearn: 170.7119169\ttotal: 459ms\tremaining: 3.24s\n",
      "124:\tlearn: 169.6907823\ttotal: 462ms\tremaining: 3.23s\n",
      "125:\tlearn: 169.2063700\ttotal: 464ms\tremaining: 3.22s\n",
      "126:\tlearn: 168.1597529\ttotal: 466ms\tremaining: 3.21s\n",
      "127:\tlearn: 167.3156403\ttotal: 469ms\tremaining: 3.19s\n",
      "128:\tlearn: 166.3187281\ttotal: 472ms\tremaining: 3.18s\n",
      "129:\tlearn: 166.1101656\ttotal: 474ms\tremaining: 3.17s\n",
      "130:\tlearn: 165.5420012\ttotal: 477ms\tremaining: 3.16s\n",
      "131:\tlearn: 164.6237022\ttotal: 479ms\tremaining: 3.15s\n",
      "132:\tlearn: 163.7646814\ttotal: 482ms\tremaining: 3.14s\n",
      "133:\tlearn: 163.3971858\ttotal: 484ms\tremaining: 3.13s\n",
      "134:\tlearn: 162.8775666\ttotal: 487ms\tremaining: 3.12s\n",
      "135:\tlearn: 162.3591190\ttotal: 489ms\tremaining: 3.1s\n",
      "136:\tlearn: 161.8515150\ttotal: 491ms\tremaining: 3.09s\n",
      "137:\tlearn: 161.2542226\ttotal: 493ms\tremaining: 3.08s\n",
      "138:\tlearn: 160.5899334\ttotal: 496ms\tremaining: 3.07s\n",
      "139:\tlearn: 159.6307999\ttotal: 501ms\tremaining: 3.08s\n",
      "140:\tlearn: 159.0055431\ttotal: 505ms\tremaining: 3.07s\n",
      "141:\tlearn: 158.2566894\ttotal: 508ms\tremaining: 3.07s\n",
      "142:\tlearn: 157.6496356\ttotal: 510ms\tremaining: 3.06s\n",
      "143:\tlearn: 157.1590393\ttotal: 513ms\tremaining: 3.05s\n",
      "144:\tlearn: 156.5730455\ttotal: 515ms\tremaining: 3.04s\n",
      "145:\tlearn: 155.8450985\ttotal: 518ms\tremaining: 3.03s\n",
      "146:\tlearn: 155.2439210\ttotal: 520ms\tremaining: 3.02s\n",
      "147:\tlearn: 154.9417796\ttotal: 523ms\tremaining: 3.01s\n",
      "148:\tlearn: 154.3763613\ttotal: 525ms\tremaining: 3s\n",
      "149:\tlearn: 153.9438757\ttotal: 528ms\tremaining: 2.99s\n",
      "150:\tlearn: 153.1854046\ttotal: 531ms\tremaining: 2.99s\n",
      "151:\tlearn: 152.8631442\ttotal: 534ms\tremaining: 2.98s\n",
      "152:\tlearn: 152.3115428\ttotal: 537ms\tremaining: 2.97s\n",
      "153:\tlearn: 151.8957029\ttotal: 540ms\tremaining: 2.97s\n",
      "154:\tlearn: 151.1871329\ttotal: 543ms\tremaining: 2.96s\n",
      "155:\tlearn: 150.6828564\ttotal: 545ms\tremaining: 2.95s\n",
      "156:\tlearn: 150.2509622\ttotal: 548ms\tremaining: 2.94s\n",
      "157:\tlearn: 149.6497659\ttotal: 551ms\tremaining: 2.93s\n",
      "158:\tlearn: 148.9332067\ttotal: 553ms\tremaining: 2.93s\n",
      "159:\tlearn: 148.7156418\ttotal: 556ms\tremaining: 2.92s\n",
      "160:\tlearn: 148.2737189\ttotal: 558ms\tremaining: 2.91s\n",
      "161:\tlearn: 147.9625721\ttotal: 561ms\tremaining: 2.9s\n",
      "162:\tlearn: 147.4564915\ttotal: 565ms\tremaining: 2.9s\n",
      "163:\tlearn: 146.8606991\ttotal: 567ms\tremaining: 2.89s\n",
      "164:\tlearn: 146.2386459\ttotal: 570ms\tremaining: 2.88s\n",
      "165:\tlearn: 145.7642228\ttotal: 573ms\tremaining: 2.88s\n",
      "166:\tlearn: 145.3792204\ttotal: 576ms\tremaining: 2.87s\n",
      "167:\tlearn: 145.0935465\ttotal: 579ms\tremaining: 2.87s\n",
      "168:\tlearn: 144.6976165\ttotal: 582ms\tremaining: 2.86s\n",
      "169:\tlearn: 143.9724403\ttotal: 584ms\tremaining: 2.85s\n",
      "170:\tlearn: 143.6449839\ttotal: 587ms\tremaining: 2.84s\n",
      "171:\tlearn: 143.1999180\ttotal: 590ms\tremaining: 2.84s\n",
      "172:\tlearn: 142.9381183\ttotal: 592ms\tremaining: 2.83s\n",
      "173:\tlearn: 142.3304601\ttotal: 595ms\tremaining: 2.83s\n",
      "174:\tlearn: 141.9229624\ttotal: 598ms\tremaining: 2.82s\n",
      "175:\tlearn: 141.4043903\ttotal: 601ms\tremaining: 2.81s\n",
      "176:\tlearn: 141.0209642\ttotal: 603ms\tremaining: 2.8s\n",
      "177:\tlearn: 140.4510865\ttotal: 606ms\tremaining: 2.8s\n",
      "178:\tlearn: 140.3441522\ttotal: 608ms\tremaining: 2.79s\n",
      "179:\tlearn: 139.8478562\ttotal: 611ms\tremaining: 2.78s\n",
      "180:\tlearn: 139.7464932\ttotal: 612ms\tremaining: 2.77s\n",
      "181:\tlearn: 139.2514614\ttotal: 615ms\tremaining: 2.76s\n",
      "182:\tlearn: 139.0274540\ttotal: 617ms\tremaining: 2.75s\n",
      "183:\tlearn: 138.4584181\ttotal: 620ms\tremaining: 2.75s\n",
      "184:\tlearn: 138.2093063\ttotal: 623ms\tremaining: 2.74s\n",
      "185:\tlearn: 137.8406250\ttotal: 626ms\tremaining: 2.74s\n",
      "186:\tlearn: 137.7280816\ttotal: 629ms\tremaining: 2.73s\n",
      "187:\tlearn: 137.2465993\ttotal: 632ms\tremaining: 2.73s\n",
      "188:\tlearn: 136.7894765\ttotal: 634ms\tremaining: 2.72s\n",
      "189:\tlearn: 136.4857311\ttotal: 637ms\tremaining: 2.72s\n",
      "190:\tlearn: 136.0043713\ttotal: 641ms\tremaining: 2.71s\n",
      "191:\tlearn: 135.7523177\ttotal: 643ms\tremaining: 2.71s\n",
      "192:\tlearn: 135.3372675\ttotal: 646ms\tremaining: 2.7s\n",
      "193:\tlearn: 135.0202084\ttotal: 648ms\tremaining: 2.69s\n",
      "194:\tlearn: 134.7757422\ttotal: 651ms\tremaining: 2.69s\n",
      "195:\tlearn: 134.3546545\ttotal: 653ms\tremaining: 2.68s\n",
      "196:\tlearn: 133.9623627\ttotal: 656ms\tremaining: 2.67s\n",
      "197:\tlearn: 133.2648869\ttotal: 659ms\tremaining: 2.67s\n",
      "198:\tlearn: 132.9318972\ttotal: 662ms\tremaining: 2.67s\n",
      "199:\tlearn: 132.5119098\ttotal: 665ms\tremaining: 2.66s\n",
      "200:\tlearn: 131.8954412\ttotal: 670ms\tremaining: 2.66s\n",
      "201:\tlearn: 131.6115557\ttotal: 673ms\tremaining: 2.66s\n",
      "202:\tlearn: 131.2095441\ttotal: 675ms\tremaining: 2.65s\n",
      "203:\tlearn: 130.6658729\ttotal: 678ms\tremaining: 2.65s\n",
      "204:\tlearn: 130.3457517\ttotal: 681ms\tremaining: 2.64s\n",
      "205:\tlearn: 130.0833818\ttotal: 683ms\tremaining: 2.63s\n",
      "206:\tlearn: 129.7238048\ttotal: 694ms\tremaining: 2.66s\n",
      "207:\tlearn: 129.0671906\ttotal: 697ms\tremaining: 2.65s\n",
      "208:\tlearn: 128.7683402\ttotal: 700ms\tremaining: 2.65s\n",
      "209:\tlearn: 128.5832593\ttotal: 707ms\tremaining: 2.66s\n",
      "210:\tlearn: 128.3749444\ttotal: 709ms\tremaining: 2.65s\n",
      "211:\tlearn: 128.1143221\ttotal: 712ms\tremaining: 2.65s\n",
      "212:\tlearn: 127.9897497\ttotal: 714ms\tremaining: 2.64s\n",
      "213:\tlearn: 127.6815659\ttotal: 721ms\tremaining: 2.65s\n",
      "214:\tlearn: 127.2006697\ttotal: 725ms\tremaining: 2.65s\n",
      "215:\tlearn: 127.0352179\ttotal: 727ms\tremaining: 2.64s\n",
      "216:\tlearn: 126.9617234\ttotal: 730ms\tremaining: 2.63s\n",
      "217:\tlearn: 126.7776328\ttotal: 736ms\tremaining: 2.64s\n",
      "218:\tlearn: 126.3802524\ttotal: 743ms\tremaining: 2.65s\n",
      "219:\tlearn: 126.1995377\ttotal: 750ms\tremaining: 2.66s\n",
      "220:\tlearn: 126.1155383\ttotal: 762ms\tremaining: 2.68s\n",
      "221:\tlearn: 125.9832799\ttotal: 768ms\tremaining: 2.69s\n",
      "222:\tlearn: 125.7495770\ttotal: 770ms\tremaining: 2.68s\n",
      "223:\tlearn: 125.2409845\ttotal: 773ms\tremaining: 2.68s\n",
      "224:\tlearn: 124.9538099\ttotal: 776ms\tremaining: 2.67s\n",
      "225:\tlearn: 124.7089151\ttotal: 779ms\tremaining: 2.67s\n",
      "226:\tlearn: 124.3984858\ttotal: 782ms\tremaining: 2.66s\n",
      "227:\tlearn: 124.0014588\ttotal: 784ms\tremaining: 2.65s\n",
      "228:\tlearn: 123.7139174\ttotal: 787ms\tremaining: 2.65s\n",
      "229:\tlearn: 123.6555034\ttotal: 788ms\tremaining: 2.64s\n",
      "230:\tlearn: 123.3398368\ttotal: 790ms\tremaining: 2.63s\n",
      "231:\tlearn: 122.7561150\ttotal: 793ms\tremaining: 2.62s\n",
      "232:\tlearn: 122.5676806\ttotal: 795ms\tremaining: 2.62s\n",
      "233:\tlearn: 122.1759040\ttotal: 798ms\tremaining: 2.61s\n",
      "234:\tlearn: 121.5761316\ttotal: 800ms\tremaining: 2.6s\n",
      "235:\tlearn: 121.3308579\ttotal: 803ms\tremaining: 2.6s\n",
      "236:\tlearn: 120.6316918\ttotal: 805ms\tremaining: 2.59s\n",
      "237:\tlearn: 120.0241441\ttotal: 808ms\tremaining: 2.59s\n",
      "238:\tlearn: 119.6974692\ttotal: 810ms\tremaining: 2.58s\n",
      "239:\tlearn: 119.5295579\ttotal: 812ms\tremaining: 2.57s\n",
      "240:\tlearn: 118.8105516\ttotal: 815ms\tremaining: 2.57s\n",
      "241:\tlearn: 118.5001438\ttotal: 817ms\tremaining: 2.56s\n",
      "242:\tlearn: 118.1525333\ttotal: 820ms\tremaining: 2.55s\n",
      "243:\tlearn: 117.8294708\ttotal: 822ms\tremaining: 2.55s\n",
      "244:\tlearn: 117.4650856\ttotal: 825ms\tremaining: 2.54s\n",
      "245:\tlearn: 117.2329146\ttotal: 827ms\tremaining: 2.54s\n",
      "246:\tlearn: 116.6281150\ttotal: 830ms\tremaining: 2.53s\n",
      "247:\tlearn: 116.4382173\ttotal: 832ms\tremaining: 2.52s\n",
      "248:\tlearn: 115.7804838\ttotal: 835ms\tremaining: 2.52s\n",
      "249:\tlearn: 115.4468389\ttotal: 837ms\tremaining: 2.51s\n",
      "250:\tlearn: 115.2535858\ttotal: 840ms\tremaining: 2.5s\n",
      "251:\tlearn: 115.0959725\ttotal: 844ms\tremaining: 2.5s\n",
      "252:\tlearn: 114.5054098\ttotal: 847ms\tremaining: 2.5s\n",
      "253:\tlearn: 114.2196805\ttotal: 849ms\tremaining: 2.49s\n",
      "254:\tlearn: 113.9389493\ttotal: 852ms\tremaining: 2.49s\n",
      "255:\tlearn: 113.8318782\ttotal: 855ms\tremaining: 2.48s\n",
      "256:\tlearn: 113.7010766\ttotal: 859ms\tremaining: 2.48s\n",
      "257:\tlearn: 113.5349213\ttotal: 861ms\tremaining: 2.48s\n",
      "258:\tlearn: 113.2939692\ttotal: 864ms\tremaining: 2.47s\n",
      "259:\tlearn: 112.8734855\ttotal: 866ms\tremaining: 2.46s\n",
      "260:\tlearn: 112.2073904\ttotal: 869ms\tremaining: 2.46s\n",
      "261:\tlearn: 111.7098455\ttotal: 873ms\tremaining: 2.46s\n",
      "262:\tlearn: 111.4861643\ttotal: 876ms\tremaining: 2.45s\n",
      "263:\tlearn: 111.4065123\ttotal: 878ms\tremaining: 2.45s\n",
      "264:\tlearn: 110.9193214\ttotal: 881ms\tremaining: 2.44s\n",
      "265:\tlearn: 110.2486713\ttotal: 885ms\tremaining: 2.44s\n",
      "266:\tlearn: 110.1718829\ttotal: 888ms\tremaining: 2.44s\n",
      "267:\tlearn: 109.8233102\ttotal: 891ms\tremaining: 2.43s\n",
      "268:\tlearn: 109.2576068\ttotal: 894ms\tremaining: 2.43s\n",
      "269:\tlearn: 109.1038965\ttotal: 897ms\tremaining: 2.42s\n",
      "270:\tlearn: 108.5183523\ttotal: 901ms\tremaining: 2.42s\n",
      "271:\tlearn: 108.4470954\ttotal: 905ms\tremaining: 2.42s\n",
      "272:\tlearn: 108.0259628\ttotal: 908ms\tremaining: 2.42s\n",
      "273:\tlearn: 107.5793316\ttotal: 911ms\tremaining: 2.41s\n",
      "274:\tlearn: 107.4747562\ttotal: 914ms\tremaining: 2.41s\n",
      "275:\tlearn: 107.4015080\ttotal: 920ms\tremaining: 2.41s\n",
      "276:\tlearn: 106.7954512\ttotal: 922ms\tremaining: 2.41s\n",
      "277:\tlearn: 106.3607188\ttotal: 924ms\tremaining: 2.4s\n",
      "278:\tlearn: 106.2892222\ttotal: 927ms\tremaining: 2.4s\n",
      "279:\tlearn: 106.1701389\ttotal: 929ms\tremaining: 2.39s\n",
      "280:\tlearn: 106.0889424\ttotal: 934ms\tremaining: 2.39s\n",
      "281:\tlearn: 105.8903610\ttotal: 936ms\tremaining: 2.38s\n",
      "282:\tlearn: 105.6531794\ttotal: 939ms\tremaining: 2.38s\n",
      "283:\tlearn: 105.3489666\ttotal: 941ms\tremaining: 2.37s\n",
      "284:\tlearn: 105.2156952\ttotal: 944ms\tremaining: 2.37s\n",
      "285:\tlearn: 104.7489850\ttotal: 948ms\tremaining: 2.37s\n",
      "286:\tlearn: 104.4701409\ttotal: 951ms\tremaining: 2.36s\n",
      "287:\tlearn: 104.3778769\ttotal: 955ms\tremaining: 2.36s\n",
      "288:\tlearn: 103.8224679\ttotal: 958ms\tremaining: 2.36s\n",
      "289:\tlearn: 103.2728523\ttotal: 963ms\tremaining: 2.36s\n",
      "290:\tlearn: 102.7341369\ttotal: 966ms\tremaining: 2.35s\n",
      "291:\tlearn: 102.5732242\ttotal: 969ms\tremaining: 2.35s\n",
      "292:\tlearn: 102.4869595\ttotal: 972ms\tremaining: 2.35s\n",
      "293:\tlearn: 101.9743362\ttotal: 974ms\tremaining: 2.34s\n",
      "294:\tlearn: 101.8782948\ttotal: 978ms\tremaining: 2.34s\n",
      "295:\tlearn: 101.3571512\ttotal: 981ms\tremaining: 2.33s\n",
      "296:\tlearn: 100.8372462\ttotal: 983ms\tremaining: 2.33s\n",
      "297:\tlearn: 100.6707783\ttotal: 986ms\tremaining: 2.32s\n",
      "298:\tlearn: 100.3215940\ttotal: 988ms\tremaining: 2.32s\n",
      "299:\tlearn: 99.8162460\ttotal: 991ms\tremaining: 2.31s\n",
      "300:\tlearn: 99.7024172\ttotal: 996ms\tremaining: 2.31s\n",
      "301:\tlearn: 99.2308832\ttotal: 1000ms\tremaining: 2.31s\n",
      "302:\tlearn: 98.7981083\ttotal: 1s\tremaining: 2.31s\n",
      "303:\tlearn: 98.6418362\ttotal: 1s\tremaining: 2.3s\n",
      "304:\tlearn: 98.1248564\ttotal: 1.01s\tremaining: 2.29s\n",
      "305:\tlearn: 97.9442581\ttotal: 1.01s\tremaining: 2.29s\n",
      "306:\tlearn: 97.5091297\ttotal: 1.01s\tremaining: 2.29s\n",
      "307:\tlearn: 97.0381695\ttotal: 1.02s\tremaining: 2.29s\n",
      "308:\tlearn: 96.5858904\ttotal: 1.02s\tremaining: 2.28s\n",
      "309:\tlearn: 96.4466124\ttotal: 1.03s\tremaining: 2.28s\n",
      "310:\tlearn: 95.9786304\ttotal: 1.03s\tremaining: 2.28s\n",
      "311:\tlearn: 95.5390501\ttotal: 1.03s\tremaining: 2.27s\n",
      "312:\tlearn: 95.3241323\ttotal: 1.03s\tremaining: 2.27s\n",
      "313:\tlearn: 95.1166839\ttotal: 1.03s\tremaining: 2.26s\n",
      "314:\tlearn: 94.6729021\ttotal: 1.04s\tremaining: 2.26s\n",
      "315:\tlearn: 94.2571678\ttotal: 1.04s\tremaining: 2.26s\n",
      "316:\tlearn: 93.9414786\ttotal: 1.04s\tremaining: 2.25s\n",
      "317:\tlearn: 93.7804159\ttotal: 1.05s\tremaining: 2.25s\n",
      "318:\tlearn: 93.5413306\ttotal: 1.05s\tremaining: 2.24s\n",
      "319:\tlearn: 93.4280107\ttotal: 1.06s\tremaining: 2.25s\n",
      "320:\tlearn: 92.9986302\ttotal: 1.06s\tremaining: 2.24s\n",
      "321:\tlearn: 92.9421610\ttotal: 1.06s\tremaining: 2.23s\n",
      "322:\tlearn: 92.4662692\ttotal: 1.06s\tremaining: 2.23s\n",
      "323:\tlearn: 92.0455485\ttotal: 1.07s\tremaining: 2.23s\n",
      "324:\tlearn: 91.6664667\ttotal: 1.07s\tremaining: 2.22s\n",
      "325:\tlearn: 91.5600717\ttotal: 1.07s\tremaining: 2.22s\n",
      "326:\tlearn: 91.5004974\ttotal: 1.07s\tremaining: 2.21s\n",
      "327:\tlearn: 91.0716355\ttotal: 1.08s\tremaining: 2.21s\n",
      "328:\tlearn: 90.6376777\ttotal: 1.08s\tremaining: 2.2s\n",
      "329:\tlearn: 90.2132341\ttotal: 1.08s\tremaining: 2.2s\n",
      "330:\tlearn: 90.1525801\ttotal: 1.09s\tremaining: 2.2s\n",
      "331:\tlearn: 89.7879501\ttotal: 1.09s\tremaining: 2.19s\n",
      "332:\tlearn: 89.3626218\ttotal: 1.09s\tremaining: 2.19s\n",
      "333:\tlearn: 89.1274526\ttotal: 1.09s\tremaining: 2.18s\n",
      "334:\tlearn: 88.7222011\ttotal: 1.1s\tremaining: 2.18s\n",
      "335:\tlearn: 88.5311901\ttotal: 1.1s\tremaining: 2.18s\n",
      "336:\tlearn: 88.0699983\ttotal: 1.1s\tremaining: 2.17s\n",
      "337:\tlearn: 87.6737037\ttotal: 1.11s\tremaining: 2.17s\n",
      "338:\tlearn: 87.3069085\ttotal: 1.12s\tremaining: 2.19s\n",
      "339:\tlearn: 86.8639700\ttotal: 1.13s\tremaining: 2.19s\n",
      "340:\tlearn: 86.7339532\ttotal: 1.14s\tremaining: 2.2s\n",
      "341:\tlearn: 86.5677333\ttotal: 1.14s\tremaining: 2.2s\n",
      "342:\tlearn: 86.4361752\ttotal: 1.15s\tremaining: 2.19s\n",
      "343:\tlearn: 86.2469458\ttotal: 1.15s\tremaining: 2.19s\n",
      "344:\tlearn: 86.1967306\ttotal: 1.15s\tremaining: 2.19s\n",
      "345:\tlearn: 86.0709863\ttotal: 1.16s\tremaining: 2.19s\n",
      "346:\tlearn: 85.6398833\ttotal: 1.16s\tremaining: 2.18s\n",
      "347:\tlearn: 85.5979263\ttotal: 1.16s\tremaining: 2.18s\n",
      "348:\tlearn: 85.4437261\ttotal: 1.17s\tremaining: 2.18s\n",
      "349:\tlearn: 85.0669752\ttotal: 1.17s\tremaining: 2.17s\n",
      "350:\tlearn: 85.0164116\ttotal: 1.17s\tremaining: 2.17s\n",
      "351:\tlearn: 84.6350071\ttotal: 1.17s\tremaining: 2.16s\n",
      "352:\tlearn: 84.1473245\ttotal: 1.18s\tremaining: 2.16s\n",
      "353:\tlearn: 83.8115391\ttotal: 1.18s\tremaining: 2.16s\n",
      "354:\tlearn: 83.4823620\ttotal: 1.19s\tremaining: 2.15s\n",
      "355:\tlearn: 83.1595406\ttotal: 1.19s\tremaining: 2.15s\n",
      "356:\tlearn: 82.7280745\ttotal: 1.19s\tremaining: 2.15s\n",
      "357:\tlearn: 82.6210086\ttotal: 1.2s\tremaining: 2.15s\n",
      "358:\tlearn: 82.3077194\ttotal: 1.2s\tremaining: 2.14s\n",
      "359:\tlearn: 81.9112073\ttotal: 1.2s\tremaining: 2.14s\n",
      "360:\tlearn: 81.5518193\ttotal: 1.2s\tremaining: 2.13s\n",
      "361:\tlearn: 81.4267033\ttotal: 1.21s\tremaining: 2.13s\n",
      "362:\tlearn: 81.0255982\ttotal: 1.21s\tremaining: 2.13s\n",
      "363:\tlearn: 80.6891175\ttotal: 1.21s\tremaining: 2.12s\n",
      "364:\tlearn: 80.4390711\ttotal: 1.22s\tremaining: 2.12s\n",
      "365:\tlearn: 80.1232319\ttotal: 1.22s\tremaining: 2.11s\n",
      "366:\tlearn: 80.0808756\ttotal: 1.22s\tremaining: 2.11s\n",
      "367:\tlearn: 79.7090424\ttotal: 1.23s\tremaining: 2.1s\n",
      "368:\tlearn: 79.3969152\ttotal: 1.23s\tremaining: 2.1s\n",
      "369:\tlearn: 79.0731259\ttotal: 1.23s\tremaining: 2.1s\n",
      "370:\tlearn: 78.9862934\ttotal: 1.23s\tremaining: 2.09s\n",
      "371:\tlearn: 78.7730476\ttotal: 1.24s\tremaining: 2.09s\n",
      "372:\tlearn: 78.6302158\ttotal: 1.24s\tremaining: 2.08s\n",
      "373:\tlearn: 78.5184111\ttotal: 1.24s\tremaining: 2.08s\n",
      "374:\tlearn: 78.3814955\ttotal: 1.25s\tremaining: 2.08s\n",
      "375:\tlearn: 77.9622261\ttotal: 1.25s\tremaining: 2.08s\n",
      "376:\tlearn: 77.8601787\ttotal: 1.25s\tremaining: 2.07s\n",
      "377:\tlearn: 77.7650898\ttotal: 1.26s\tremaining: 2.07s\n",
      "378:\tlearn: 77.3945927\ttotal: 1.26s\tremaining: 2.06s\n",
      "379:\tlearn: 77.3348237\ttotal: 1.26s\tremaining: 2.06s\n",
      "380:\tlearn: 77.2431856\ttotal: 1.27s\tremaining: 2.06s\n",
      "381:\tlearn: 76.9192891\ttotal: 1.27s\tremaining: 2.05s\n",
      "382:\tlearn: 76.7949544\ttotal: 1.27s\tremaining: 2.05s\n",
      "383:\tlearn: 76.5217530\ttotal: 1.27s\tremaining: 2.05s\n",
      "384:\tlearn: 76.1648512\ttotal: 1.28s\tremaining: 2.04s\n",
      "385:\tlearn: 75.9867656\ttotal: 1.28s\tremaining: 2.04s\n",
      "386:\tlearn: 75.7293435\ttotal: 1.29s\tremaining: 2.04s\n",
      "387:\tlearn: 75.6419805\ttotal: 1.29s\tremaining: 2.03s\n",
      "388:\tlearn: 75.3138222\ttotal: 1.29s\tremaining: 2.03s\n",
      "389:\tlearn: 75.0125736\ttotal: 1.29s\tremaining: 2.02s\n",
      "390:\tlearn: 74.9803725\ttotal: 1.3s\tremaining: 2.02s\n",
      "391:\tlearn: 74.6113970\ttotal: 1.3s\tremaining: 2.02s\n",
      "392:\tlearn: 74.3668766\ttotal: 1.3s\tremaining: 2.01s\n",
      "393:\tlearn: 74.2752147\ttotal: 1.31s\tremaining: 2.01s\n",
      "394:\tlearn: 74.2172412\ttotal: 1.31s\tremaining: 2s\n",
      "395:\tlearn: 73.8652110\ttotal: 1.31s\tremaining: 2s\n",
      "396:\tlearn: 73.6963645\ttotal: 1.31s\tremaining: 2s\n",
      "397:\tlearn: 73.4075086\ttotal: 1.32s\tremaining: 1.99s\n",
      "398:\tlearn: 73.0346771\ttotal: 1.32s\tremaining: 1.99s\n",
      "399:\tlearn: 72.9971586\ttotal: 1.32s\tremaining: 1.98s\n",
      "400:\tlearn: 72.6755493\ttotal: 1.32s\tremaining: 1.98s\n",
      "401:\tlearn: 72.5972282\ttotal: 1.33s\tremaining: 1.98s\n",
      "402:\tlearn: 72.4345974\ttotal: 1.33s\tremaining: 1.97s\n",
      "403:\tlearn: 72.2185716\ttotal: 1.33s\tremaining: 1.97s\n",
      "404:\tlearn: 71.9251032\ttotal: 1.34s\tremaining: 1.96s\n",
      "405:\tlearn: 71.8901544\ttotal: 1.34s\tremaining: 1.96s\n",
      "406:\tlearn: 71.5338422\ttotal: 1.34s\tremaining: 1.95s\n",
      "407:\tlearn: 71.4477827\ttotal: 1.35s\tremaining: 1.95s\n",
      "408:\tlearn: 71.4127550\ttotal: 1.35s\tremaining: 1.95s\n",
      "409:\tlearn: 71.3322454\ttotal: 1.35s\tremaining: 1.95s\n",
      "410:\tlearn: 71.2981804\ttotal: 1.35s\tremaining: 1.94s\n",
      "411:\tlearn: 71.0089173\ttotal: 1.36s\tremaining: 1.94s\n",
      "412:\tlearn: 70.7854493\ttotal: 1.36s\tremaining: 1.94s\n",
      "413:\tlearn: 70.4930103\ttotal: 1.36s\tremaining: 1.93s\n",
      "414:\tlearn: 70.1976578\ttotal: 1.37s\tremaining: 1.93s\n",
      "415:\tlearn: 69.9565552\ttotal: 1.37s\tremaining: 1.92s\n",
      "416:\tlearn: 69.8912103\ttotal: 1.37s\tremaining: 1.92s\n",
      "417:\tlearn: 69.7356706\ttotal: 1.38s\tremaining: 1.91s\n",
      "418:\tlearn: 69.6634412\ttotal: 1.38s\tremaining: 1.91s\n",
      "419:\tlearn: 69.2943609\ttotal: 1.38s\tremaining: 1.91s\n",
      "420:\tlearn: 69.0269983\ttotal: 1.39s\tremaining: 1.91s\n",
      "421:\tlearn: 68.8653561\ttotal: 1.39s\tremaining: 1.9s\n",
      "422:\tlearn: 68.6555281\ttotal: 1.39s\tremaining: 1.9s\n",
      "423:\tlearn: 68.2338294\ttotal: 1.39s\tremaining: 1.89s\n",
      "424:\tlearn: 68.0909898\ttotal: 1.4s\tremaining: 1.89s\n",
      "425:\tlearn: 67.7905722\ttotal: 1.4s\tremaining: 1.89s\n",
      "426:\tlearn: 67.5586853\ttotal: 1.4s\tremaining: 1.88s\n",
      "427:\tlearn: 67.3518839\ttotal: 1.41s\tremaining: 1.88s\n",
      "428:\tlearn: 67.2029794\ttotal: 1.41s\tremaining: 1.88s\n",
      "429:\tlearn: 66.9467892\ttotal: 1.41s\tremaining: 1.87s\n",
      "430:\tlearn: 66.7821891\ttotal: 1.42s\tremaining: 1.87s\n",
      "431:\tlearn: 66.4955741\ttotal: 1.42s\tremaining: 1.87s\n",
      "432:\tlearn: 66.2240359\ttotal: 1.42s\tremaining: 1.86s\n",
      "433:\tlearn: 65.9832136\ttotal: 1.43s\tremaining: 1.86s\n",
      "434:\tlearn: 65.7761577\ttotal: 1.43s\tremaining: 1.85s\n",
      "435:\tlearn: 65.4845025\ttotal: 1.43s\tremaining: 1.85s\n",
      "436:\tlearn: 65.4215937\ttotal: 1.43s\tremaining: 1.85s\n",
      "437:\tlearn: 65.1768197\ttotal: 1.44s\tremaining: 1.84s\n",
      "438:\tlearn: 65.1071642\ttotal: 1.44s\tremaining: 1.84s\n",
      "439:\tlearn: 65.0705857\ttotal: 1.44s\tremaining: 1.83s\n",
      "440:\tlearn: 64.7782864\ttotal: 1.44s\tremaining: 1.83s\n",
      "441:\tlearn: 64.5284944\ttotal: 1.45s\tremaining: 1.83s\n",
      "442:\tlearn: 64.3504433\ttotal: 1.45s\tremaining: 1.82s\n",
      "443:\tlearn: 64.3001112\ttotal: 1.45s\tremaining: 1.82s\n",
      "444:\tlearn: 63.9063758\ttotal: 1.46s\tremaining: 1.82s\n",
      "445:\tlearn: 63.8746707\ttotal: 1.46s\tremaining: 1.81s\n",
      "446:\tlearn: 63.5487944\ttotal: 1.47s\tremaining: 1.81s\n",
      "447:\tlearn: 63.3406893\ttotal: 1.47s\tremaining: 1.81s\n",
      "448:\tlearn: 63.0992921\ttotal: 1.48s\tremaining: 1.81s\n",
      "449:\tlearn: 62.8676535\ttotal: 1.48s\tremaining: 1.81s\n",
      "450:\tlearn: 62.6978975\ttotal: 1.49s\tremaining: 1.81s\n",
      "451:\tlearn: 62.4888356\ttotal: 1.49s\tremaining: 1.81s\n",
      "452:\tlearn: 62.4591033\ttotal: 1.5s\tremaining: 1.81s\n",
      "453:\tlearn: 62.3981355\ttotal: 1.5s\tremaining: 1.81s\n",
      "454:\tlearn: 62.2755114\ttotal: 1.5s\tremaining: 1.8s\n",
      "455:\tlearn: 62.0286915\ttotal: 1.51s\tremaining: 1.8s\n",
      "456:\tlearn: 61.8101493\ttotal: 1.51s\tremaining: 1.79s\n",
      "457:\tlearn: 61.7125436\ttotal: 1.51s\tremaining: 1.79s\n",
      "458:\tlearn: 61.3464743\ttotal: 1.52s\tremaining: 1.79s\n",
      "459:\tlearn: 61.0777407\ttotal: 1.52s\tremaining: 1.78s\n",
      "460:\tlearn: 60.7354015\ttotal: 1.52s\tremaining: 1.78s\n",
      "461:\tlearn: 60.7070785\ttotal: 1.53s\tremaining: 1.78s\n",
      "462:\tlearn: 60.4380726\ttotal: 1.53s\tremaining: 1.77s\n",
      "463:\tlearn: 60.3794644\ttotal: 1.53s\tremaining: 1.77s\n",
      "464:\tlearn: 60.3096146\ttotal: 1.53s\tremaining: 1.76s\n",
      "465:\tlearn: 60.2803998\ttotal: 1.54s\tremaining: 1.76s\n",
      "466:\tlearn: 60.2489158\ttotal: 1.54s\tremaining: 1.76s\n",
      "467:\tlearn: 60.2187601\ttotal: 1.54s\tremaining: 1.75s\n",
      "468:\tlearn: 59.9901529\ttotal: 1.54s\tremaining: 1.75s\n",
      "469:\tlearn: 59.7821357\ttotal: 1.55s\tremaining: 1.74s\n",
      "470:\tlearn: 59.7334527\ttotal: 1.55s\tremaining: 1.74s\n",
      "471:\tlearn: 59.4989600\ttotal: 1.55s\tremaining: 1.74s\n",
      "472:\tlearn: 59.1865219\ttotal: 1.55s\tremaining: 1.73s\n",
      "473:\tlearn: 58.9478658\ttotal: 1.56s\tremaining: 1.73s\n",
      "474:\tlearn: 58.6836425\ttotal: 1.56s\tremaining: 1.72s\n",
      "475:\tlearn: 58.6522637\ttotal: 1.56s\tremaining: 1.72s\n",
      "476:\tlearn: 58.5963542\ttotal: 1.57s\tremaining: 1.72s\n",
      "477:\tlearn: 58.3648296\ttotal: 1.57s\tremaining: 1.71s\n",
      "478:\tlearn: 58.3188915\ttotal: 1.57s\tremaining: 1.71s\n",
      "479:\tlearn: 58.1813689\ttotal: 1.57s\tremaining: 1.71s\n",
      "480:\tlearn: 57.9437076\ttotal: 1.58s\tremaining: 1.7s\n",
      "481:\tlearn: 57.7694232\ttotal: 1.58s\tremaining: 1.7s\n",
      "482:\tlearn: 57.7437082\ttotal: 1.58s\tremaining: 1.69s\n",
      "483:\tlearn: 57.5081532\ttotal: 1.58s\tremaining: 1.69s\n",
      "484:\tlearn: 57.2134650\ttotal: 1.59s\tremaining: 1.68s\n",
      "485:\tlearn: 56.9733344\ttotal: 1.59s\tremaining: 1.68s\n",
      "486:\tlearn: 56.9412760\ttotal: 1.59s\tremaining: 1.68s\n",
      "487:\tlearn: 56.8640335\ttotal: 1.59s\tremaining: 1.67s\n",
      "488:\tlearn: 56.5624625\ttotal: 1.6s\tremaining: 1.67s\n",
      "489:\tlearn: 56.4986179\ttotal: 1.6s\tremaining: 1.66s\n",
      "490:\tlearn: 56.3527490\ttotal: 1.6s\tremaining: 1.66s\n",
      "491:\tlearn: 56.0961642\ttotal: 1.6s\tremaining: 1.66s\n",
      "492:\tlearn: 55.8256120\ttotal: 1.61s\tremaining: 1.65s\n",
      "493:\tlearn: 55.6150160\ttotal: 1.61s\tremaining: 1.65s\n",
      "494:\tlearn: 55.5631279\ttotal: 1.61s\tremaining: 1.64s\n",
      "495:\tlearn: 55.3736400\ttotal: 1.61s\tremaining: 1.64s\n",
      "496:\tlearn: 55.3441677\ttotal: 1.62s\tremaining: 1.64s\n",
      "497:\tlearn: 55.1995384\ttotal: 1.62s\tremaining: 1.63s\n",
      "498:\tlearn: 54.8980322\ttotal: 1.62s\tremaining: 1.63s\n",
      "499:\tlearn: 54.7119603\ttotal: 1.62s\tremaining: 1.62s\n",
      "500:\tlearn: 54.6236591\ttotal: 1.63s\tremaining: 1.62s\n",
      "501:\tlearn: 54.4131558\ttotal: 1.63s\tremaining: 1.62s\n",
      "502:\tlearn: 54.3901230\ttotal: 1.63s\tremaining: 1.61s\n",
      "503:\tlearn: 54.3662021\ttotal: 1.63s\tremaining: 1.61s\n",
      "504:\tlearn: 54.2068745\ttotal: 1.64s\tremaining: 1.6s\n",
      "505:\tlearn: 54.1800600\ttotal: 1.64s\tremaining: 1.6s\n",
      "506:\tlearn: 54.1376632\ttotal: 1.64s\tremaining: 1.59s\n",
      "507:\tlearn: 53.9788342\ttotal: 1.64s\tremaining: 1.59s\n",
      "508:\tlearn: 53.9294324\ttotal: 1.65s\tremaining: 1.59s\n",
      "509:\tlearn: 53.6786369\ttotal: 1.65s\tremaining: 1.58s\n",
      "510:\tlearn: 53.4578789\ttotal: 1.65s\tremaining: 1.58s\n",
      "511:\tlearn: 53.3261204\ttotal: 1.65s\tremaining: 1.57s\n",
      "512:\tlearn: 53.1331329\ttotal: 1.66s\tremaining: 1.57s\n",
      "513:\tlearn: 52.9261288\ttotal: 1.66s\tremaining: 1.57s\n",
      "514:\tlearn: 52.7447311\ttotal: 1.66s\tremaining: 1.56s\n",
      "515:\tlearn: 52.5966869\ttotal: 1.66s\tremaining: 1.56s\n",
      "516:\tlearn: 52.4130565\ttotal: 1.67s\tremaining: 1.56s\n",
      "517:\tlearn: 52.1948654\ttotal: 1.67s\tremaining: 1.55s\n",
      "518:\tlearn: 51.9463802\ttotal: 1.67s\tremaining: 1.55s\n",
      "519:\tlearn: 51.9178306\ttotal: 1.67s\tremaining: 1.54s\n",
      "520:\tlearn: 51.7246141\ttotal: 1.68s\tremaining: 1.54s\n",
      "521:\tlearn: 51.5669648\ttotal: 1.68s\tremaining: 1.54s\n",
      "522:\tlearn: 51.5221972\ttotal: 1.68s\tremaining: 1.53s\n",
      "523:\tlearn: 51.3293697\ttotal: 1.69s\tremaining: 1.53s\n",
      "524:\tlearn: 51.1767477\ttotal: 1.69s\tremaining: 1.53s\n",
      "525:\tlearn: 51.0961343\ttotal: 1.69s\tremaining: 1.52s\n",
      "526:\tlearn: 50.9995340\ttotal: 1.69s\tremaining: 1.52s\n",
      "527:\tlearn: 50.8846082\ttotal: 1.7s\tremaining: 1.52s\n",
      "528:\tlearn: 50.7478794\ttotal: 1.7s\tremaining: 1.51s\n",
      "529:\tlearn: 50.5116322\ttotal: 1.7s\tremaining: 1.51s\n",
      "530:\tlearn: 50.2760468\ttotal: 1.7s\tremaining: 1.5s\n",
      "531:\tlearn: 50.1040144\ttotal: 1.71s\tremaining: 1.5s\n",
      "532:\tlearn: 49.8827812\ttotal: 1.71s\tremaining: 1.5s\n",
      "533:\tlearn: 49.8255711\ttotal: 1.71s\tremaining: 1.49s\n",
      "534:\tlearn: 49.7890438\ttotal: 1.71s\tremaining: 1.49s\n",
      "535:\tlearn: 49.6290340\ttotal: 1.72s\tremaining: 1.49s\n",
      "536:\tlearn: 49.3965889\ttotal: 1.72s\tremaining: 1.48s\n",
      "537:\tlearn: 49.1641285\ttotal: 1.72s\tremaining: 1.48s\n",
      "538:\tlearn: 48.9654180\ttotal: 1.72s\tremaining: 1.47s\n",
      "539:\tlearn: 48.9278341\ttotal: 1.73s\tremaining: 1.47s\n",
      "540:\tlearn: 48.8457405\ttotal: 1.73s\tremaining: 1.47s\n",
      "541:\tlearn: 48.8041804\ttotal: 1.73s\tremaining: 1.46s\n",
      "542:\tlearn: 48.7179291\ttotal: 1.73s\tremaining: 1.46s\n",
      "543:\tlearn: 48.6759771\ttotal: 1.74s\tremaining: 1.46s\n",
      "544:\tlearn: 48.4792967\ttotal: 1.74s\tremaining: 1.45s\n",
      "545:\tlearn: 48.3843114\ttotal: 1.74s\tremaining: 1.45s\n",
      "546:\tlearn: 48.2453957\ttotal: 1.74s\tremaining: 1.44s\n",
      "547:\tlearn: 48.0231685\ttotal: 1.75s\tremaining: 1.44s\n",
      "548:\tlearn: 47.8612203\ttotal: 1.75s\tremaining: 1.44s\n",
      "549:\tlearn: 47.7590091\ttotal: 1.75s\tremaining: 1.43s\n",
      "550:\tlearn: 47.6561968\ttotal: 1.75s\tremaining: 1.43s\n",
      "551:\tlearn: 47.4106594\ttotal: 1.76s\tremaining: 1.43s\n",
      "552:\tlearn: 47.2194456\ttotal: 1.76s\tremaining: 1.42s\n",
      "553:\tlearn: 47.0783850\ttotal: 1.76s\tremaining: 1.42s\n",
      "554:\tlearn: 46.8215038\ttotal: 1.76s\tremaining: 1.41s\n",
      "555:\tlearn: 46.6674572\ttotal: 1.76s\tremaining: 1.41s\n",
      "556:\tlearn: 46.6418726\ttotal: 1.77s\tremaining: 1.41s\n",
      "557:\tlearn: 46.5248666\ttotal: 1.77s\tremaining: 1.4s\n",
      "558:\tlearn: 46.5061320\ttotal: 1.77s\tremaining: 1.4s\n",
      "559:\tlearn: 46.4397708\ttotal: 1.77s\tremaining: 1.4s\n",
      "560:\tlearn: 46.3904442\ttotal: 1.78s\tremaining: 1.39s\n",
      "561:\tlearn: 46.2576989\ttotal: 1.78s\tremaining: 1.39s\n",
      "562:\tlearn: 45.9568721\ttotal: 1.78s\tremaining: 1.38s\n",
      "563:\tlearn: 45.8482033\ttotal: 1.79s\tremaining: 1.38s\n",
      "564:\tlearn: 45.6689466\ttotal: 1.79s\tremaining: 1.38s\n",
      "565:\tlearn: 45.4222796\ttotal: 1.79s\tremaining: 1.37s\n",
      "566:\tlearn: 45.2404146\ttotal: 1.79s\tremaining: 1.37s\n",
      "567:\tlearn: 45.0903054\ttotal: 1.79s\tremaining: 1.36s\n",
      "568:\tlearn: 44.7991969\ttotal: 1.8s\tremaining: 1.36s\n",
      "569:\tlearn: 44.6413756\ttotal: 1.8s\tremaining: 1.36s\n",
      "570:\tlearn: 44.5799550\ttotal: 1.8s\tremaining: 1.35s\n",
      "571:\tlearn: 44.5651506\ttotal: 1.81s\tremaining: 1.35s\n",
      "572:\tlearn: 44.4233165\ttotal: 1.81s\tremaining: 1.35s\n",
      "573:\tlearn: 44.2369747\ttotal: 1.81s\tremaining: 1.34s\n",
      "574:\tlearn: 44.0545664\ttotal: 1.81s\tremaining: 1.34s\n",
      "575:\tlearn: 43.9004385\ttotal: 1.82s\tremaining: 1.34s\n",
      "576:\tlearn: 43.7138119\ttotal: 1.82s\tremaining: 1.33s\n",
      "577:\tlearn: 43.5755556\ttotal: 1.82s\tremaining: 1.33s\n",
      "578:\tlearn: 43.4934072\ttotal: 1.82s\tremaining: 1.33s\n",
      "579:\tlearn: 43.4629843\ttotal: 1.82s\tremaining: 1.32s\n",
      "580:\tlearn: 43.3825129\ttotal: 1.83s\tremaining: 1.32s\n",
      "581:\tlearn: 43.2549166\ttotal: 1.83s\tremaining: 1.31s\n",
      "582:\tlearn: 43.1514800\ttotal: 1.83s\tremaining: 1.31s\n",
      "583:\tlearn: 42.9846414\ttotal: 1.83s\tremaining: 1.31s\n",
      "584:\tlearn: 42.8538804\ttotal: 1.84s\tremaining: 1.3s\n",
      "585:\tlearn: 42.7710806\ttotal: 1.84s\tremaining: 1.3s\n",
      "586:\tlearn: 42.5351412\ttotal: 1.84s\tremaining: 1.3s\n",
      "587:\tlearn: 42.4784055\ttotal: 1.84s\tremaining: 1.29s\n",
      "588:\tlearn: 42.3174788\ttotal: 1.85s\tremaining: 1.29s\n",
      "589:\tlearn: 42.1761529\ttotal: 1.85s\tremaining: 1.29s\n",
      "590:\tlearn: 42.0486059\ttotal: 1.85s\tremaining: 1.28s\n",
      "591:\tlearn: 41.8689529\ttotal: 1.86s\tremaining: 1.28s\n",
      "592:\tlearn: 41.8306286\ttotal: 1.86s\tremaining: 1.28s\n",
      "593:\tlearn: 41.6966124\ttotal: 1.86s\tremaining: 1.27s\n",
      "594:\tlearn: 41.6647082\ttotal: 1.86s\tremaining: 1.27s\n",
      "595:\tlearn: 41.5609917\ttotal: 1.87s\tremaining: 1.26s\n",
      "596:\tlearn: 41.4632566\ttotal: 1.87s\tremaining: 1.26s\n",
      "597:\tlearn: 41.3899602\ttotal: 1.87s\tremaining: 1.26s\n",
      "598:\tlearn: 41.2152047\ttotal: 1.88s\tremaining: 1.25s\n",
      "599:\tlearn: 41.0959753\ttotal: 1.88s\tremaining: 1.25s\n",
      "600:\tlearn: 40.9815009\ttotal: 1.88s\tremaining: 1.25s\n",
      "601:\tlearn: 40.8912971\ttotal: 1.88s\tremaining: 1.25s\n",
      "602:\tlearn: 40.7881395\ttotal: 1.89s\tremaining: 1.24s\n",
      "603:\tlearn: 40.6325570\ttotal: 1.89s\tremaining: 1.24s\n",
      "604:\tlearn: 40.4083902\ttotal: 1.89s\tremaining: 1.24s\n",
      "605:\tlearn: 40.3292737\ttotal: 1.89s\tremaining: 1.23s\n",
      "606:\tlearn: 40.2629492\ttotal: 1.9s\tremaining: 1.23s\n",
      "607:\tlearn: 40.2448471\ttotal: 1.9s\tremaining: 1.23s\n",
      "608:\tlearn: 40.2293673\ttotal: 1.9s\tremaining: 1.22s\n",
      "609:\tlearn: 40.0978829\ttotal: 1.91s\tremaining: 1.22s\n",
      "610:\tlearn: 40.0512268\ttotal: 1.91s\tremaining: 1.22s\n",
      "611:\tlearn: 39.8920221\ttotal: 1.91s\tremaining: 1.21s\n",
      "612:\tlearn: 39.8591122\ttotal: 1.91s\tremaining: 1.21s\n",
      "613:\tlearn: 39.7261911\ttotal: 1.92s\tremaining: 1.2s\n",
      "614:\tlearn: 39.6986628\ttotal: 1.92s\tremaining: 1.2s\n",
      "615:\tlearn: 39.5659851\ttotal: 1.92s\tremaining: 1.2s\n",
      "616:\tlearn: 39.4815274\ttotal: 1.93s\tremaining: 1.2s\n",
      "617:\tlearn: 39.3682607\ttotal: 1.93s\tremaining: 1.19s\n",
      "618:\tlearn: 39.2643803\ttotal: 1.93s\tremaining: 1.19s\n",
      "619:\tlearn: 39.1307437\ttotal: 1.93s\tremaining: 1.19s\n",
      "620:\tlearn: 38.9596117\ttotal: 1.94s\tremaining: 1.18s\n",
      "621:\tlearn: 38.8456302\ttotal: 1.94s\tremaining: 1.18s\n",
      "622:\tlearn: 38.7810676\ttotal: 1.94s\tremaining: 1.18s\n",
      "623:\tlearn: 38.7450983\ttotal: 1.95s\tremaining: 1.17s\n",
      "624:\tlearn: 38.6788090\ttotal: 1.95s\tremaining: 1.17s\n",
      "625:\tlearn: 38.5788475\ttotal: 1.95s\tremaining: 1.17s\n",
      "626:\tlearn: 38.4675366\ttotal: 1.95s\tremaining: 1.16s\n",
      "627:\tlearn: 38.2350724\ttotal: 1.96s\tremaining: 1.16s\n",
      "628:\tlearn: 38.2074221\ttotal: 1.96s\tremaining: 1.16s\n",
      "629:\tlearn: 38.0622880\ttotal: 1.96s\tremaining: 1.15s\n",
      "630:\tlearn: 37.8520281\ttotal: 1.96s\tremaining: 1.15s\n",
      "631:\tlearn: 37.6631204\ttotal: 1.97s\tremaining: 1.15s\n",
      "632:\tlearn: 37.5153877\ttotal: 1.97s\tremaining: 1.14s\n",
      "633:\tlearn: 37.3834892\ttotal: 1.97s\tremaining: 1.14s\n",
      "634:\tlearn: 37.2552166\ttotal: 1.98s\tremaining: 1.14s\n",
      "635:\tlearn: 37.0779047\ttotal: 1.98s\tremaining: 1.13s\n",
      "636:\tlearn: 37.0329263\ttotal: 1.98s\tremaining: 1.13s\n",
      "637:\tlearn: 36.8927982\ttotal: 1.98s\tremaining: 1.13s\n",
      "638:\tlearn: 36.8105498\ttotal: 1.99s\tremaining: 1.12s\n",
      "639:\tlearn: 36.7512624\ttotal: 1.99s\tremaining: 1.12s\n",
      "640:\tlearn: 36.5891302\ttotal: 1.99s\tremaining: 1.12s\n",
      "641:\tlearn: 36.4551656\ttotal: 2s\tremaining: 1.11s\n",
      "642:\tlearn: 36.4318588\ttotal: 2s\tremaining: 1.11s\n",
      "643:\tlearn: 36.4074785\ttotal: 2s\tremaining: 1.11s\n",
      "644:\tlearn: 36.2579510\ttotal: 2s\tremaining: 1.1s\n",
      "645:\tlearn: 36.1413504\ttotal: 2.01s\tremaining: 1.1s\n",
      "646:\tlearn: 36.0078406\ttotal: 2.01s\tremaining: 1.1s\n",
      "647:\tlearn: 35.8909828\ttotal: 2.01s\tremaining: 1.09s\n",
      "648:\tlearn: 35.7426906\ttotal: 2.02s\tremaining: 1.09s\n",
      "649:\tlearn: 35.5963108\ttotal: 2.02s\tremaining: 1.09s\n",
      "650:\tlearn: 35.4623805\ttotal: 2.02s\tremaining: 1.08s\n",
      "651:\tlearn: 35.4428004\ttotal: 2.03s\tremaining: 1.08s\n",
      "652:\tlearn: 35.3007158\ttotal: 2.03s\tremaining: 1.08s\n",
      "653:\tlearn: 35.1510309\ttotal: 2.03s\tremaining: 1.07s\n",
      "654:\tlearn: 35.1258328\ttotal: 2.03s\tremaining: 1.07s\n",
      "655:\tlearn: 35.0183795\ttotal: 2.04s\tremaining: 1.07s\n",
      "656:\tlearn: 34.9003271\ttotal: 2.04s\tremaining: 1.06s\n",
      "657:\tlearn: 34.7887445\ttotal: 2.04s\tremaining: 1.06s\n",
      "658:\tlearn: 34.6253676\ttotal: 2.04s\tremaining: 1.06s\n",
      "659:\tlearn: 34.5506116\ttotal: 2.05s\tremaining: 1.05s\n",
      "660:\tlearn: 34.4197699\ttotal: 2.05s\tremaining: 1.05s\n",
      "661:\tlearn: 34.3097495\ttotal: 2.05s\tremaining: 1.05s\n",
      "662:\tlearn: 34.1572027\ttotal: 2.06s\tremaining: 1.04s\n",
      "663:\tlearn: 34.1441284\ttotal: 2.06s\tremaining: 1.04s\n",
      "664:\tlearn: 34.0600732\ttotal: 2.06s\tremaining: 1.04s\n",
      "665:\tlearn: 34.0500587\ttotal: 2.06s\tremaining: 1.03s\n",
      "666:\tlearn: 33.9193340\ttotal: 2.07s\tremaining: 1.03s\n",
      "667:\tlearn: 33.7564013\ttotal: 2.07s\tremaining: 1.03s\n",
      "668:\tlearn: 33.6528749\ttotal: 2.07s\tremaining: 1.02s\n",
      "669:\tlearn: 33.5681199\ttotal: 2.08s\tremaining: 1.02s\n",
      "670:\tlearn: 33.4451433\ttotal: 2.08s\tremaining: 1.02s\n",
      "671:\tlearn: 33.3468901\ttotal: 2.08s\tremaining: 1.02s\n",
      "672:\tlearn: 33.2486282\ttotal: 2.08s\tremaining: 1.01s\n",
      "673:\tlearn: 33.2302888\ttotal: 2.09s\tremaining: 1.01s\n",
      "674:\tlearn: 33.0558859\ttotal: 2.09s\tremaining: 1.01s\n",
      "675:\tlearn: 32.9700344\ttotal: 2.09s\tremaining: 1s\n",
      "676:\tlearn: 32.8501642\ttotal: 2.1s\tremaining: 1s\n",
      "677:\tlearn: 32.7340426\ttotal: 2.1s\tremaining: 997ms\n",
      "678:\tlearn: 32.7121017\ttotal: 2.1s\tremaining: 994ms\n",
      "679:\tlearn: 32.6200569\ttotal: 2.1s\tremaining: 991ms\n",
      "680:\tlearn: 32.5052371\ttotal: 2.11s\tremaining: 987ms\n",
      "681:\tlearn: 32.3916969\ttotal: 2.11s\tremaining: 984ms\n",
      "682:\tlearn: 32.2925704\ttotal: 2.11s\tremaining: 981ms\n",
      "683:\tlearn: 32.1901836\ttotal: 2.12s\tremaining: 977ms\n",
      "684:\tlearn: 32.1810795\ttotal: 2.12s\tremaining: 974ms\n",
      "685:\tlearn: 32.0538798\ttotal: 2.12s\tremaining: 971ms\n",
      "686:\tlearn: 31.9695880\ttotal: 2.12s\tremaining: 968ms\n",
      "687:\tlearn: 31.8186240\ttotal: 2.13s\tremaining: 964ms\n",
      "688:\tlearn: 31.7717776\ttotal: 2.13s\tremaining: 961ms\n",
      "689:\tlearn: 31.6271069\ttotal: 2.13s\tremaining: 958ms\n",
      "690:\tlearn: 31.4257754\ttotal: 2.13s\tremaining: 955ms\n",
      "691:\tlearn: 31.3158018\ttotal: 2.14s\tremaining: 952ms\n",
      "692:\tlearn: 31.2062456\ttotal: 2.14s\tremaining: 948ms\n",
      "693:\tlearn: 31.1002943\ttotal: 2.14s\tremaining: 945ms\n",
      "694:\tlearn: 31.0204694\ttotal: 2.15s\tremaining: 942ms\n",
      "695:\tlearn: 30.8638326\ttotal: 2.15s\tremaining: 939ms\n",
      "696:\tlearn: 30.8558418\ttotal: 2.15s\tremaining: 936ms\n",
      "697:\tlearn: 30.7168233\ttotal: 2.15s\tremaining: 932ms\n",
      "698:\tlearn: 30.6741149\ttotal: 2.16s\tremaining: 929ms\n",
      "699:\tlearn: 30.5633505\ttotal: 2.16s\tremaining: 926ms\n",
      "700:\tlearn: 30.3980151\ttotal: 2.16s\tremaining: 923ms\n",
      "701:\tlearn: 30.3868882\ttotal: 2.17s\tremaining: 920ms\n",
      "702:\tlearn: 30.3095110\ttotal: 2.17s\tremaining: 916ms\n",
      "703:\tlearn: 30.2001626\ttotal: 2.17s\tremaining: 913ms\n",
      "704:\tlearn: 30.1086639\ttotal: 2.17s\tremaining: 910ms\n",
      "705:\tlearn: 30.0062050\ttotal: 2.18s\tremaining: 907ms\n",
      "706:\tlearn: 29.9366332\ttotal: 2.18s\tremaining: 904ms\n",
      "707:\tlearn: 29.8514157\ttotal: 2.18s\tremaining: 901ms\n",
      "708:\tlearn: 29.8410197\ttotal: 2.19s\tremaining: 897ms\n",
      "709:\tlearn: 29.7691296\ttotal: 2.19s\tremaining: 894ms\n",
      "710:\tlearn: 29.6347315\ttotal: 2.19s\tremaining: 891ms\n",
      "711:\tlearn: 29.5690771\ttotal: 2.19s\tremaining: 888ms\n",
      "712:\tlearn: 29.4717613\ttotal: 2.2s\tremaining: 886ms\n",
      "713:\tlearn: 29.3453955\ttotal: 2.2s\tremaining: 882ms\n",
      "714:\tlearn: 29.3183996\ttotal: 2.21s\tremaining: 879ms\n",
      "715:\tlearn: 29.2357029\ttotal: 2.21s\tremaining: 876ms\n",
      "716:\tlearn: 29.1493484\ttotal: 2.21s\tremaining: 873ms\n",
      "717:\tlearn: 29.1412750\ttotal: 2.21s\tremaining: 869ms\n",
      "718:\tlearn: 29.0633640\ttotal: 2.21s\tremaining: 866ms\n",
      "719:\tlearn: 29.0063752\ttotal: 2.22s\tremaining: 863ms\n",
      "720:\tlearn: 28.8895697\ttotal: 2.22s\tremaining: 860ms\n",
      "721:\tlearn: 28.8127439\ttotal: 2.22s\tremaining: 857ms\n",
      "722:\tlearn: 28.7979935\ttotal: 2.23s\tremaining: 854ms\n",
      "723:\tlearn: 28.7730564\ttotal: 2.23s\tremaining: 850ms\n",
      "724:\tlearn: 28.6841951\ttotal: 2.23s\tremaining: 847ms\n",
      "725:\tlearn: 28.6192690\ttotal: 2.24s\tremaining: 844ms\n",
      "726:\tlearn: 28.5382100\ttotal: 2.24s\tremaining: 841ms\n",
      "727:\tlearn: 28.4124604\ttotal: 2.24s\tremaining: 838ms\n",
      "728:\tlearn: 28.3992354\ttotal: 2.25s\tremaining: 835ms\n",
      "729:\tlearn: 28.2458739\ttotal: 2.25s\tremaining: 832ms\n",
      "730:\tlearn: 28.1698858\ttotal: 2.25s\tremaining: 829ms\n",
      "731:\tlearn: 28.0857240\ttotal: 2.25s\tremaining: 825ms\n",
      "732:\tlearn: 28.0631865\ttotal: 2.26s\tremaining: 822ms\n",
      "733:\tlearn: 27.9617138\ttotal: 2.26s\tremaining: 819ms\n",
      "734:\tlearn: 27.9296040\ttotal: 2.26s\tremaining: 816ms\n",
      "735:\tlearn: 27.8714544\ttotal: 2.27s\tremaining: 813ms\n",
      "736:\tlearn: 27.8468105\ttotal: 2.27s\tremaining: 809ms\n",
      "737:\tlearn: 27.7605180\ttotal: 2.27s\tremaining: 806ms\n",
      "738:\tlearn: 27.6731250\ttotal: 2.27s\tremaining: 803ms\n",
      "739:\tlearn: 27.6662586\ttotal: 2.27s\tremaining: 799ms\n",
      "740:\tlearn: 27.6319100\ttotal: 2.28s\tremaining: 796ms\n",
      "741:\tlearn: 27.5465757\ttotal: 2.28s\tremaining: 793ms\n",
      "742:\tlearn: 27.4710735\ttotal: 2.28s\tremaining: 790ms\n",
      "743:\tlearn: 27.4510659\ttotal: 2.29s\tremaining: 786ms\n",
      "744:\tlearn: 27.3748617\ttotal: 2.29s\tremaining: 783ms\n",
      "745:\tlearn: 27.3633452\ttotal: 2.29s\tremaining: 780ms\n",
      "746:\tlearn: 27.2959571\ttotal: 2.29s\tremaining: 777ms\n",
      "747:\tlearn: 27.1315947\ttotal: 2.3s\tremaining: 774ms\n",
      "748:\tlearn: 27.0550248\ttotal: 2.3s\tremaining: 770ms\n",
      "749:\tlearn: 27.0373435\ttotal: 2.3s\tremaining: 767ms\n",
      "750:\tlearn: 26.9726665\ttotal: 2.3s\tremaining: 764ms\n",
      "751:\tlearn: 26.9145554\ttotal: 2.31s\tremaining: 761ms\n",
      "752:\tlearn: 26.8976495\ttotal: 2.31s\tremaining: 758ms\n",
      "753:\tlearn: 26.8013163\ttotal: 2.31s\tremaining: 755ms\n",
      "754:\tlearn: 26.7203712\ttotal: 2.32s\tremaining: 753ms\n",
      "755:\tlearn: 26.5829005\ttotal: 2.32s\tremaining: 750ms\n",
      "756:\tlearn: 26.4324310\ttotal: 2.33s\tremaining: 747ms\n",
      "757:\tlearn: 26.2890218\ttotal: 2.33s\tremaining: 743ms\n",
      "758:\tlearn: 26.1965245\ttotal: 2.33s\tremaining: 740ms\n",
      "759:\tlearn: 26.1810870\ttotal: 2.33s\tremaining: 737ms\n",
      "760:\tlearn: 26.1187072\ttotal: 2.34s\tremaining: 734ms\n",
      "761:\tlearn: 26.0637705\ttotal: 2.34s\tremaining: 731ms\n",
      "762:\tlearn: 25.9562461\ttotal: 2.34s\tremaining: 728ms\n",
      "763:\tlearn: 25.8386943\ttotal: 2.35s\tremaining: 725ms\n",
      "764:\tlearn: 25.7790725\ttotal: 2.35s\tremaining: 722ms\n",
      "765:\tlearn: 25.6701106\ttotal: 2.35s\tremaining: 718ms\n",
      "766:\tlearn: 25.6362119\ttotal: 2.35s\tremaining: 715ms\n",
      "767:\tlearn: 25.6252040\ttotal: 2.36s\tremaining: 712ms\n",
      "768:\tlearn: 25.5249470\ttotal: 2.36s\tremaining: 709ms\n",
      "769:\tlearn: 25.4610308\ttotal: 2.36s\tremaining: 706ms\n",
      "770:\tlearn: 25.3338917\ttotal: 2.37s\tremaining: 702ms\n",
      "771:\tlearn: 25.2081591\ttotal: 2.37s\tremaining: 700ms\n",
      "772:\tlearn: 25.1976317\ttotal: 2.37s\tremaining: 697ms\n",
      "773:\tlearn: 25.1309682\ttotal: 2.38s\tremaining: 694ms\n",
      "774:\tlearn: 25.0198547\ttotal: 2.38s\tremaining: 691ms\n",
      "775:\tlearn: 24.9490229\ttotal: 2.38s\tremaining: 687ms\n",
      "776:\tlearn: 24.9028200\ttotal: 2.38s\tremaining: 684ms\n",
      "777:\tlearn: 24.8337886\ttotal: 2.39s\tremaining: 681ms\n",
      "778:\tlearn: 24.7433955\ttotal: 2.39s\tremaining: 678ms\n",
      "779:\tlearn: 24.6167855\ttotal: 2.39s\tremaining: 675ms\n",
      "780:\tlearn: 24.5516424\ttotal: 2.4s\tremaining: 672ms\n",
      "781:\tlearn: 24.3925316\ttotal: 2.4s\tremaining: 669ms\n",
      "782:\tlearn: 24.3473598\ttotal: 2.4s\tremaining: 665ms\n",
      "783:\tlearn: 24.2382596\ttotal: 2.4s\tremaining: 662ms\n",
      "784:\tlearn: 24.1741117\ttotal: 2.4s\tremaining: 659ms\n",
      "785:\tlearn: 24.1282632\ttotal: 2.41s\tremaining: 656ms\n",
      "786:\tlearn: 24.1150038\ttotal: 2.41s\tremaining: 653ms\n",
      "787:\tlearn: 24.0552315\ttotal: 2.41s\tremaining: 650ms\n",
      "788:\tlearn: 24.0020307\ttotal: 2.42s\tremaining: 646ms\n",
      "789:\tlearn: 23.9582172\ttotal: 2.42s\tremaining: 643ms\n",
      "790:\tlearn: 23.9466945\ttotal: 2.42s\tremaining: 640ms\n",
      "791:\tlearn: 23.9012494\ttotal: 2.43s\tremaining: 637ms\n",
      "792:\tlearn: 23.8902062\ttotal: 2.43s\tremaining: 634ms\n",
      "793:\tlearn: 23.8375677\ttotal: 2.43s\tremaining: 631ms\n",
      "794:\tlearn: 23.8275049\ttotal: 2.44s\tremaining: 628ms\n",
      "795:\tlearn: 23.7639978\ttotal: 2.44s\tremaining: 625ms\n",
      "796:\tlearn: 23.7210385\ttotal: 2.44s\tremaining: 623ms\n",
      "797:\tlearn: 23.7118867\ttotal: 2.45s\tremaining: 620ms\n",
      "798:\tlearn: 23.6210770\ttotal: 2.45s\tremaining: 617ms\n",
      "799:\tlearn: 23.5667973\ttotal: 2.46s\tremaining: 615ms\n",
      "800:\tlearn: 23.5093551\ttotal: 2.46s\tremaining: 611ms\n",
      "801:\tlearn: 23.4248240\ttotal: 2.46s\tremaining: 608ms\n",
      "802:\tlearn: 23.3851975\ttotal: 2.46s\tremaining: 605ms\n",
      "803:\tlearn: 23.2576151\ttotal: 2.47s\tremaining: 602ms\n",
      "804:\tlearn: 23.1403284\ttotal: 2.47s\tremaining: 599ms\n",
      "805:\tlearn: 23.0861220\ttotal: 2.47s\tremaining: 595ms\n",
      "806:\tlearn: 23.0179965\ttotal: 2.48s\tremaining: 592ms\n",
      "807:\tlearn: 22.9499510\ttotal: 2.48s\tremaining: 589ms\n",
      "808:\tlearn: 22.9093322\ttotal: 2.48s\tremaining: 586ms\n",
      "809:\tlearn: 22.8749288\ttotal: 2.48s\tremaining: 582ms\n",
      "810:\tlearn: 22.8082947\ttotal: 2.49s\tremaining: 579ms\n",
      "811:\tlearn: 22.7734708\ttotal: 2.49s\tremaining: 576ms\n",
      "812:\tlearn: 22.6526692\ttotal: 2.49s\tremaining: 573ms\n",
      "813:\tlearn: 22.5530242\ttotal: 2.49s\tremaining: 570ms\n",
      "814:\tlearn: 22.4717488\ttotal: 2.5s\tremaining: 567ms\n",
      "815:\tlearn: 22.4620780\ttotal: 2.5s\tremaining: 563ms\n",
      "816:\tlearn: 22.4023061\ttotal: 2.5s\tremaining: 560ms\n",
      "817:\tlearn: 22.3578971\ttotal: 2.5s\tremaining: 557ms\n",
      "818:\tlearn: 22.3087689\ttotal: 2.51s\tremaining: 554ms\n",
      "819:\tlearn: 22.3046658\ttotal: 2.51s\tremaining: 550ms\n",
      "820:\tlearn: 22.2330663\ttotal: 2.51s\tremaining: 547ms\n",
      "821:\tlearn: 22.1591095\ttotal: 2.51s\tremaining: 544ms\n",
      "822:\tlearn: 22.1550239\ttotal: 2.51s\tremaining: 541ms\n",
      "823:\tlearn: 22.1463899\ttotal: 2.52s\tremaining: 537ms\n",
      "824:\tlearn: 22.1315815\ttotal: 2.52s\tremaining: 534ms\n",
      "825:\tlearn: 22.0652590\ttotal: 2.52s\tremaining: 531ms\n",
      "826:\tlearn: 22.0221121\ttotal: 2.52s\tremaining: 528ms\n",
      "827:\tlearn: 21.9774501\ttotal: 2.52s\tremaining: 525ms\n",
      "828:\tlearn: 21.9395292\ttotal: 2.53s\tremaining: 521ms\n",
      "829:\tlearn: 21.8508549\ttotal: 2.53s\tremaining: 518ms\n",
      "830:\tlearn: 21.8190935\ttotal: 2.53s\tremaining: 515ms\n",
      "831:\tlearn: 21.8109670\ttotal: 2.54s\tremaining: 512ms\n",
      "832:\tlearn: 21.7578310\ttotal: 2.54s\tremaining: 509ms\n",
      "833:\tlearn: 21.6862934\ttotal: 2.54s\tremaining: 506ms\n",
      "834:\tlearn: 21.6036840\ttotal: 2.54s\tremaining: 503ms\n",
      "835:\tlearn: 21.5099448\ttotal: 2.55s\tremaining: 500ms\n",
      "836:\tlearn: 21.4677400\ttotal: 2.55s\tremaining: 497ms\n",
      "837:\tlearn: 21.4091690\ttotal: 2.55s\tremaining: 493ms\n",
      "838:\tlearn: 21.3466938\ttotal: 2.55s\tremaining: 490ms\n",
      "839:\tlearn: 21.2298144\ttotal: 2.56s\tremaining: 487ms\n",
      "840:\tlearn: 21.1270373\ttotal: 2.56s\tremaining: 484ms\n",
      "841:\tlearn: 21.0373314\ttotal: 2.56s\tremaining: 481ms\n",
      "842:\tlearn: 20.9835159\ttotal: 2.56s\tremaining: 478ms\n",
      "843:\tlearn: 20.8484600\ttotal: 2.57s\tremaining: 475ms\n",
      "844:\tlearn: 20.7891557\ttotal: 2.57s\tremaining: 471ms\n",
      "845:\tlearn: 20.7291399\ttotal: 2.57s\tremaining: 468ms\n",
      "846:\tlearn: 20.6849494\ttotal: 2.57s\tremaining: 465ms\n",
      "847:\tlearn: 20.6154963\ttotal: 2.58s\tremaining: 462ms\n",
      "848:\tlearn: 20.5405276\ttotal: 2.58s\tremaining: 459ms\n",
      "849:\tlearn: 20.5016669\ttotal: 2.58s\tremaining: 456ms\n",
      "850:\tlearn: 20.4700003\ttotal: 2.58s\tremaining: 453ms\n",
      "851:\tlearn: 20.4163286\ttotal: 2.59s\tremaining: 450ms\n",
      "852:\tlearn: 20.3832418\ttotal: 2.59s\tremaining: 446ms\n",
      "853:\tlearn: 20.3012184\ttotal: 2.59s\tremaining: 443ms\n",
      "854:\tlearn: 20.2920333\ttotal: 2.6s\tremaining: 440ms\n",
      "855:\tlearn: 20.2053869\ttotal: 2.6s\tremaining: 437ms\n",
      "856:\tlearn: 20.1658977\ttotal: 2.6s\tremaining: 434ms\n",
      "857:\tlearn: 20.1100216\ttotal: 2.6s\tremaining: 431ms\n",
      "858:\tlearn: 20.0083729\ttotal: 2.6s\tremaining: 428ms\n",
      "859:\tlearn: 19.9455311\ttotal: 2.61s\tremaining: 424ms\n",
      "860:\tlearn: 19.8796059\ttotal: 2.61s\tremaining: 421ms\n",
      "861:\tlearn: 19.8565398\ttotal: 2.61s\tremaining: 418ms\n",
      "862:\tlearn: 19.7320152\ttotal: 2.61s\tremaining: 415ms\n",
      "863:\tlearn: 19.6553629\ttotal: 2.62s\tremaining: 412ms\n",
      "864:\tlearn: 19.5653904\ttotal: 2.62s\tremaining: 409ms\n",
      "865:\tlearn: 19.5044019\ttotal: 2.62s\tremaining: 406ms\n",
      "866:\tlearn: 19.4952821\ttotal: 2.63s\tremaining: 403ms\n",
      "867:\tlearn: 19.4417196\ttotal: 2.63s\tremaining: 400ms\n",
      "868:\tlearn: 19.3928280\ttotal: 2.63s\tremaining: 396ms\n",
      "869:\tlearn: 19.3310543\ttotal: 2.63s\tremaining: 393ms\n",
      "870:\tlearn: 19.2860856\ttotal: 2.63s\tremaining: 390ms\n",
      "871:\tlearn: 19.1689820\ttotal: 2.64s\tremaining: 387ms\n",
      "872:\tlearn: 19.0656586\ttotal: 2.64s\tremaining: 384ms\n",
      "873:\tlearn: 19.0585347\ttotal: 2.64s\tremaining: 381ms\n",
      "874:\tlearn: 19.0124418\ttotal: 2.64s\tremaining: 378ms\n",
      "875:\tlearn: 18.9798186\ttotal: 2.65s\tremaining: 375ms\n",
      "876:\tlearn: 18.8896499\ttotal: 2.65s\tremaining: 372ms\n",
      "877:\tlearn: 18.8379639\ttotal: 2.65s\tremaining: 369ms\n",
      "878:\tlearn: 18.8312106\ttotal: 2.65s\tremaining: 365ms\n",
      "879:\tlearn: 18.7718969\ttotal: 2.66s\tremaining: 362ms\n",
      "880:\tlearn: 18.7453473\ttotal: 2.66s\tremaining: 359ms\n",
      "881:\tlearn: 18.6851317\ttotal: 2.66s\tremaining: 356ms\n",
      "882:\tlearn: 18.5988650\ttotal: 2.66s\tremaining: 353ms\n",
      "883:\tlearn: 18.5525116\ttotal: 2.67s\tremaining: 350ms\n",
      "884:\tlearn: 18.4964362\ttotal: 2.67s\tremaining: 347ms\n",
      "885:\tlearn: 18.4542378\ttotal: 2.67s\tremaining: 344ms\n",
      "886:\tlearn: 18.4053368\ttotal: 2.67s\tremaining: 341ms\n",
      "887:\tlearn: 18.3676513\ttotal: 2.68s\tremaining: 338ms\n",
      "888:\tlearn: 18.3048839\ttotal: 2.68s\tremaining: 335ms\n",
      "889:\tlearn: 18.2501678\ttotal: 2.69s\tremaining: 332ms\n",
      "890:\tlearn: 18.2421410\ttotal: 2.69s\tremaining: 329ms\n",
      "891:\tlearn: 18.1820355\ttotal: 2.69s\tremaining: 326ms\n",
      "892:\tlearn: 18.1045997\ttotal: 2.69s\tremaining: 323ms\n",
      "893:\tlearn: 18.0516539\ttotal: 2.7s\tremaining: 320ms\n",
      "894:\tlearn: 17.9507407\ttotal: 2.7s\tremaining: 317ms\n",
      "895:\tlearn: 17.8656394\ttotal: 2.7s\tremaining: 314ms\n",
      "896:\tlearn: 17.8130004\ttotal: 2.7s\tremaining: 311ms\n",
      "897:\tlearn: 17.8056685\ttotal: 2.71s\tremaining: 307ms\n",
      "898:\tlearn: 17.7479301\ttotal: 2.71s\tremaining: 305ms\n",
      "899:\tlearn: 17.6628775\ttotal: 2.71s\tremaining: 302ms\n",
      "900:\tlearn: 17.6036263\ttotal: 2.72s\tremaining: 298ms\n",
      "901:\tlearn: 17.5548725\ttotal: 2.72s\tremaining: 295ms\n",
      "902:\tlearn: 17.5112982\ttotal: 2.72s\tremaining: 292ms\n",
      "903:\tlearn: 17.4337097\ttotal: 2.72s\tremaining: 289ms\n",
      "904:\tlearn: 17.3438812\ttotal: 2.73s\tremaining: 286ms\n",
      "905:\tlearn: 17.2978952\ttotal: 2.73s\tremaining: 283ms\n",
      "906:\tlearn: 17.2705120\ttotal: 2.73s\tremaining: 280ms\n",
      "907:\tlearn: 17.2197843\ttotal: 2.73s\tremaining: 277ms\n",
      "908:\tlearn: 17.1672918\ttotal: 2.74s\tremaining: 274ms\n",
      "909:\tlearn: 17.0962813\ttotal: 2.74s\tremaining: 271ms\n",
      "910:\tlearn: 17.0367884\ttotal: 2.74s\tremaining: 268ms\n",
      "911:\tlearn: 16.9995434\ttotal: 2.74s\tremaining: 265ms\n",
      "912:\tlearn: 16.9503108\ttotal: 2.75s\tremaining: 262ms\n",
      "913:\tlearn: 16.8634821\ttotal: 2.75s\tremaining: 259ms\n",
      "914:\tlearn: 16.8562342\ttotal: 2.75s\tremaining: 256ms\n",
      "915:\tlearn: 16.8266675\ttotal: 2.75s\tremaining: 253ms\n",
      "916:\tlearn: 16.8202756\ttotal: 2.76s\tremaining: 250ms\n",
      "917:\tlearn: 16.8140117\ttotal: 2.76s\tremaining: 246ms\n",
      "918:\tlearn: 16.7657793\ttotal: 2.76s\tremaining: 243ms\n",
      "919:\tlearn: 16.7455489\ttotal: 2.76s\tremaining: 240ms\n",
      "920:\tlearn: 16.7350234\ttotal: 2.77s\tremaining: 237ms\n",
      "921:\tlearn: 16.6764784\ttotal: 2.77s\tremaining: 234ms\n",
      "922:\tlearn: 16.6413683\ttotal: 2.77s\tremaining: 231ms\n",
      "923:\tlearn: 16.6313216\ttotal: 2.77s\tremaining: 228ms\n",
      "924:\tlearn: 16.5737890\ttotal: 2.78s\tremaining: 225ms\n",
      "925:\tlearn: 16.5612564\ttotal: 2.78s\tremaining: 222ms\n",
      "926:\tlearn: 16.5194103\ttotal: 2.78s\tremaining: 219ms\n",
      "927:\tlearn: 16.4774875\ttotal: 2.78s\tremaining: 216ms\n",
      "928:\tlearn: 16.4716862\ttotal: 2.79s\tremaining: 213ms\n",
      "929:\tlearn: 16.4373752\ttotal: 2.79s\tremaining: 210ms\n",
      "930:\tlearn: 16.4285377\ttotal: 2.79s\tremaining: 207ms\n",
      "931:\tlearn: 16.3673869\ttotal: 2.79s\tremaining: 204ms\n",
      "932:\tlearn: 16.3185470\ttotal: 2.79s\tremaining: 201ms\n",
      "933:\tlearn: 16.2631467\ttotal: 2.8s\tremaining: 198ms\n",
      "934:\tlearn: 16.1934975\ttotal: 2.8s\tremaining: 195ms\n",
      "935:\tlearn: 16.1884481\ttotal: 2.8s\tremaining: 192ms\n",
      "936:\tlearn: 16.1500024\ttotal: 2.81s\tremaining: 189ms\n",
      "937:\tlearn: 16.1409804\ttotal: 2.81s\tremaining: 186ms\n",
      "938:\tlearn: 16.0683587\ttotal: 2.81s\tremaining: 183ms\n",
      "939:\tlearn: 15.9809030\ttotal: 2.81s\tremaining: 180ms\n",
      "940:\tlearn: 15.8978202\ttotal: 2.81s\tremaining: 177ms\n",
      "941:\tlearn: 15.8709900\ttotal: 2.82s\tremaining: 174ms\n",
      "942:\tlearn: 15.8344018\ttotal: 2.82s\tremaining: 170ms\n",
      "943:\tlearn: 15.8295482\ttotal: 2.82s\tremaining: 167ms\n",
      "944:\tlearn: 15.7744973\ttotal: 2.83s\tremaining: 164ms\n",
      "945:\tlearn: 15.7305450\ttotal: 2.83s\tremaining: 161ms\n",
      "946:\tlearn: 15.6857434\ttotal: 2.83s\tremaining: 158ms\n",
      "947:\tlearn: 15.6591016\ttotal: 2.83s\tremaining: 155ms\n",
      "948:\tlearn: 15.6314256\ttotal: 2.83s\tremaining: 152ms\n",
      "949:\tlearn: 15.5788777\ttotal: 2.84s\tremaining: 149ms\n",
      "950:\tlearn: 15.5325554\ttotal: 2.84s\tremaining: 146ms\n",
      "951:\tlearn: 15.4890930\ttotal: 2.84s\tremaining: 143ms\n",
      "952:\tlearn: 15.4263779\ttotal: 2.85s\tremaining: 140ms\n",
      "953:\tlearn: 15.3892307\ttotal: 2.85s\tremaining: 137ms\n",
      "954:\tlearn: 15.3531641\ttotal: 2.85s\tremaining: 134ms\n",
      "955:\tlearn: 15.3172544\ttotal: 2.85s\tremaining: 131ms\n",
      "956:\tlearn: 15.2722481\ttotal: 2.85s\tremaining: 128ms\n",
      "957:\tlearn: 15.2509946\ttotal: 2.86s\tremaining: 125ms\n",
      "958:\tlearn: 15.2106080\ttotal: 2.86s\tremaining: 122ms\n",
      "959:\tlearn: 15.1550705\ttotal: 2.86s\tremaining: 119ms\n",
      "960:\tlearn: 15.1198927\ttotal: 2.86s\tremaining: 116ms\n",
      "961:\tlearn: 15.0521121\ttotal: 2.87s\tremaining: 113ms\n",
      "962:\tlearn: 15.0138282\ttotal: 2.87s\tremaining: 110ms\n",
      "963:\tlearn: 14.9511473\ttotal: 2.87s\tremaining: 107ms\n",
      "964:\tlearn: 14.9013556\ttotal: 2.88s\tremaining: 104ms\n",
      "965:\tlearn: 14.8491591\ttotal: 2.88s\tremaining: 101ms\n",
      "966:\tlearn: 14.7846364\ttotal: 2.88s\tremaining: 98.5ms\n",
      "967:\tlearn: 14.7378076\ttotal: 2.89s\tremaining: 95.5ms\n",
      "968:\tlearn: 14.6963646\ttotal: 2.9s\tremaining: 92.6ms\n",
      "969:\tlearn: 14.6368320\ttotal: 2.9s\tremaining: 89.7ms\n",
      "970:\tlearn: 14.5641432\ttotal: 2.9s\tremaining: 86.7ms\n",
      "971:\tlearn: 14.5009366\ttotal: 2.91s\tremaining: 83.9ms\n",
      "972:\tlearn: 14.4934257\ttotal: 2.91s\tremaining: 80.9ms\n",
      "973:\tlearn: 14.4521224\ttotal: 2.92s\tremaining: 77.9ms\n",
      "974:\tlearn: 14.4111253\ttotal: 2.92s\tremaining: 74.9ms\n",
      "975:\tlearn: 14.3698632\ttotal: 2.92s\tremaining: 71.9ms\n",
      "976:\tlearn: 14.3591191\ttotal: 2.93s\tremaining: 68.9ms\n",
      "977:\tlearn: 14.3269189\ttotal: 2.93s\tremaining: 65.9ms\n",
      "978:\tlearn: 14.2789397\ttotal: 2.93s\tremaining: 62.9ms\n",
      "979:\tlearn: 14.2216384\ttotal: 2.94s\tremaining: 59.9ms\n",
      "980:\tlearn: 14.1751644\ttotal: 2.94s\tremaining: 56.9ms\n",
      "981:\tlearn: 14.1256092\ttotal: 2.94s\tremaining: 53.9ms\n",
      "982:\tlearn: 14.0731502\ttotal: 2.94s\tremaining: 50.9ms\n",
      "983:\tlearn: 14.0117995\ttotal: 2.95s\tremaining: 47.9ms\n",
      "984:\tlearn: 13.9841830\ttotal: 2.95s\tremaining: 44.9ms\n",
      "985:\tlearn: 13.9230955\ttotal: 2.95s\tremaining: 41.9ms\n",
      "986:\tlearn: 13.8746811\ttotal: 2.95s\tremaining: 38.9ms\n",
      "987:\tlearn: 13.8092980\ttotal: 2.96s\tremaining: 35.9ms\n",
      "988:\tlearn: 13.7921958\ttotal: 2.96s\tremaining: 32.9ms\n",
      "989:\tlearn: 13.7424480\ttotal: 2.96s\tremaining: 29.9ms\n",
      "990:\tlearn: 13.6967360\ttotal: 2.96s\tremaining: 26.9ms\n",
      "991:\tlearn: 13.6709582\ttotal: 2.97s\tremaining: 23.9ms\n",
      "992:\tlearn: 13.6094706\ttotal: 2.97s\tremaining: 20.9ms\n",
      "993:\tlearn: 13.5641205\ttotal: 2.97s\tremaining: 17.9ms\n",
      "994:\tlearn: 13.5192775\ttotal: 2.97s\tremaining: 14.9ms\n",
      "995:\tlearn: 13.4902451\ttotal: 2.98s\tremaining: 12ms\n",
      "996:\tlearn: 13.4806052\ttotal: 2.98s\tremaining: 8.97ms\n",
      "997:\tlearn: 13.4282445\ttotal: 2.98s\tremaining: 5.98ms\n",
      "998:\tlearn: 13.4020177\ttotal: 2.99s\tremaining: 2.99ms\n",
      "999:\tlearn: 13.3781902\ttotal: 2.99s\tremaining: 0us\n"
     ]
    }
   ],
   "source": [
    "catb_model=CatBoostRegressor().fit(X_train,y_train)"
   ]
  },
  {
   "cell_type": "code",
   "execution_count": 104,
   "id": "earlier-music",
   "metadata": {},
   "outputs": [],
   "source": [
    "y_pred=catb_model.predict(X_test)"
   ]
  },
  {
   "cell_type": "code",
   "execution_count": 106,
   "id": "signal-citizen",
   "metadata": {},
   "outputs": [
    {
     "data": {
      "text/plain": [
       "350.2683163098795"
      ]
     },
     "execution_count": 106,
     "metadata": {},
     "output_type": "execute_result"
    }
   ],
   "source": [
    "np.sqrt(mean_squared_error(y_test,y_pred))"
   ]
  },
  {
   "cell_type": "markdown",
   "id": "plain-circumstances",
   "metadata": {},
   "source": [
    "# Model Tuning"
   ]
  },
  {
   "cell_type": "code",
   "execution_count": 109,
   "id": "rental-receiver",
   "metadata": {},
   "outputs": [],
   "source": [
    "catb_params={\"iterations\":[200,500],\n",
    "            \"learning_rate\":[0.01,0.1],\n",
    "            \"depth\":[3,6]}"
   ]
  },
  {
   "cell_type": "code",
   "execution_count": 110,
   "id": "elegant-concern",
   "metadata": {},
   "outputs": [],
   "source": [
    "catb_model=CatBoostRegressor()"
   ]
  },
  {
   "cell_type": "code",
   "execution_count": 111,
   "id": "tropical-rotation",
   "metadata": {
    "collapsed": true,
    "jupyter": {
     "outputs_hidden": true
    }
   },
   "outputs": [
    {
     "name": "stdout",
     "output_type": "stream",
     "text": [
      "Fitting 5 folds for each of 8 candidates, totalling 40 fits\n",
      "0:\tlearn: 425.7900818\ttotal: 968us\tremaining: 193ms\n",
      "1:\tlearn: 404.8723520\ttotal: 2.01ms\tremaining: 199ms\n",
      "2:\tlearn: 387.4057666\ttotal: 2.9ms\tremaining: 191ms\n",
      "3:\tlearn: 372.2801584\ttotal: 3.85ms\tremaining: 189ms\n",
      "4:\tlearn: 358.9204229\ttotal: 4.87ms\tremaining: 190ms\n",
      "5:\tlearn: 347.0083933\ttotal: 5.98ms\tremaining: 193ms\n",
      "6:\tlearn: 336.0130818\ttotal: 6.92ms\tremaining: 191ms\n",
      "7:\tlearn: 324.3923300\ttotal: 7.7ms\tremaining: 185ms\n",
      "8:\tlearn: 314.8690957\ttotal: 8.45ms\tremaining: 179ms\n",
      "9:\tlearn: 308.5075563\ttotal: 9.18ms\tremaining: 174ms\n",
      "10:\tlearn: 298.8587285\ttotal: 9.92ms\tremaining: 170ms\n",
      "11:\tlearn: 294.7655438\ttotal: 10.6ms\tremaining: 167ms\n",
      "12:\tlearn: 288.0697862\ttotal: 11.4ms\tremaining: 163ms\n",
      "13:\tlearn: 282.6697154\ttotal: 12.1ms\tremaining: 160ms\n",
      "14:\tlearn: 277.6121667\ttotal: 12.8ms\tremaining: 158ms\n",
      "15:\tlearn: 273.4383979\ttotal: 13.6ms\tremaining: 157ms\n",
      "16:\tlearn: 269.1556201\ttotal: 14.5ms\tremaining: 156ms\n",
      "17:\tlearn: 264.8098704\ttotal: 15.2ms\tremaining: 154ms\n",
      "18:\tlearn: 261.6700768\ttotal: 16ms\tremaining: 152ms\n",
      "19:\tlearn: 257.3961290\ttotal: 16.7ms\tremaining: 150ms\n",
      "20:\tlearn: 252.2691509\ttotal: 17.5ms\tremaining: 149ms\n",
      "21:\tlearn: 249.0686482\ttotal: 18.3ms\tremaining: 148ms\n",
      "22:\tlearn: 244.1881041\ttotal: 19ms\tremaining: 146ms\n",
      "23:\tlearn: 242.1696687\ttotal: 19.7ms\tremaining: 145ms\n",
      "24:\tlearn: 239.2131476\ttotal: 20.9ms\tremaining: 146ms\n",
      "25:\tlearn: 236.6883901\ttotal: 21.8ms\tremaining: 146ms\n",
      "26:\tlearn: 234.5295613\ttotal: 22.5ms\tremaining: 144ms\n",
      "27:\tlearn: 231.7788834\ttotal: 23.4ms\tremaining: 144ms\n",
      "28:\tlearn: 228.8020330\ttotal: 24.2ms\tremaining: 143ms\n",
      "29:\tlearn: 226.8420565\ttotal: 24.9ms\tremaining: 141ms\n",
      "30:\tlearn: 224.0686558\ttotal: 25.6ms\tremaining: 140ms\n",
      "31:\tlearn: 222.6644699\ttotal: 26.4ms\tremaining: 138ms\n",
      "32:\tlearn: 221.6889573\ttotal: 27.1ms\tremaining: 137ms\n",
      "33:\tlearn: 220.5171653\ttotal: 27.8ms\tremaining: 136ms\n",
      "34:\tlearn: 217.7686033\ttotal: 28.6ms\tremaining: 135ms\n",
      "35:\tlearn: 214.8462789\ttotal: 29.3ms\tremaining: 133ms\n",
      "36:\tlearn: 214.4799251\ttotal: 30ms\tremaining: 132ms\n",
      "37:\tlearn: 212.3480429\ttotal: 30.7ms\tremaining: 131ms\n",
      "38:\tlearn: 210.0040644\ttotal: 31.4ms\tremaining: 130ms\n",
      "39:\tlearn: 208.3086913\ttotal: 32.3ms\tremaining: 129ms\n",
      "40:\tlearn: 207.5469119\ttotal: 33.1ms\tremaining: 128ms\n",
      "41:\tlearn: 205.9351113\ttotal: 33.9ms\tremaining: 127ms\n",
      "42:\tlearn: 205.3580824\ttotal: 34.6ms\tremaining: 126ms\n",
      "43:\tlearn: 204.6204266\ttotal: 35.5ms\tremaining: 126ms\n",
      "44:\tlearn: 202.5023220\ttotal: 36.5ms\tremaining: 126ms\n",
      "45:\tlearn: 201.4347853\ttotal: 37.3ms\tremaining: 125ms\n",
      "46:\tlearn: 200.8752553\ttotal: 38.1ms\tremaining: 124ms\n",
      "47:\tlearn: 200.4047344\ttotal: 38.9ms\tremaining: 123ms\n",
      "48:\tlearn: 197.5433004\ttotal: 39.7ms\tremaining: 122ms\n",
      "49:\tlearn: 194.6943292\ttotal: 40.7ms\tremaining: 122ms\n",
      "50:\tlearn: 194.3011982\ttotal: 41.5ms\tremaining: 121ms\n",
      "51:\tlearn: 193.4011843\ttotal: 42.3ms\tremaining: 120ms\n",
      "52:\tlearn: 193.0109753\ttotal: 43.1ms\tremaining: 119ms\n",
      "53:\tlearn: 192.6071142\ttotal: 43.9ms\tremaining: 119ms\n",
      "54:\tlearn: 191.9666153\ttotal: 44.7ms\tremaining: 118ms\n",
      "55:\tlearn: 191.5789727\ttotal: 45.6ms\tremaining: 117ms\n",
      "56:\tlearn: 190.7186284\ttotal: 46.4ms\tremaining: 116ms\n",
      "57:\tlearn: 190.4543087\ttotal: 47.1ms\tremaining: 115ms\n",
      "58:\tlearn: 190.1336317\ttotal: 47.9ms\tremaining: 114ms\n",
      "59:\tlearn: 188.2286484\ttotal: 48.6ms\tremaining: 113ms\n",
      "60:\tlearn: 187.7652417\ttotal: 49.5ms\tremaining: 113ms\n",
      "61:\tlearn: 187.4227950\ttotal: 50.5ms\tremaining: 112ms\n",
      "62:\tlearn: 186.9289182\ttotal: 51.4ms\tremaining: 112ms\n",
      "63:\tlearn: 185.2993487\ttotal: 52.2ms\tremaining: 111ms\n",
      "64:\tlearn: 185.0349598\ttotal: 53ms\tremaining: 110ms\n",
      "65:\tlearn: 183.9773430\ttotal: 53.7ms\tremaining: 109ms\n",
      "66:\tlearn: 183.4463166\ttotal: 54.5ms\tremaining: 108ms\n",
      "67:\tlearn: 181.6627740\ttotal: 55.3ms\tremaining: 107ms\n",
      "68:\tlearn: 179.8785055\ttotal: 56ms\tremaining: 106ms\n",
      "69:\tlearn: 179.6737527\ttotal: 56.7ms\tremaining: 105ms\n",
      "70:\tlearn: 177.0830981\ttotal: 57.5ms\tremaining: 104ms\n",
      "71:\tlearn: 176.5917790\ttotal: 58.3ms\tremaining: 104ms\n",
      "72:\tlearn: 176.1240502\ttotal: 59.1ms\tremaining: 103ms\n",
      "73:\tlearn: 174.4828953\ttotal: 59.8ms\tremaining: 102ms\n",
      "74:\tlearn: 173.4220482\ttotal: 60.6ms\tremaining: 101ms\n",
      "75:\tlearn: 171.9903405\ttotal: 61.3ms\tremaining: 100ms\n",
      "76:\tlearn: 171.5803116\ttotal: 62ms\tremaining: 99ms\n",
      "77:\tlearn: 170.1411594\ttotal: 62.7ms\tremaining: 98.1ms\n",
      "78:\tlearn: 167.9868133\ttotal: 63.5ms\tremaining: 97.3ms\n",
      "79:\tlearn: 166.5304475\ttotal: 64.2ms\tremaining: 96.3ms\n",
      "80:\tlearn: 166.1741622\ttotal: 64.9ms\tremaining: 95.4ms\n",
      "81:\tlearn: 165.8411762\ttotal: 66.1ms\tremaining: 95.1ms\n",
      "82:\tlearn: 165.1041583\ttotal: 66.9ms\tremaining: 94.3ms\n",
      "83:\tlearn: 163.5641543\ttotal: 67.9ms\tremaining: 93.7ms\n",
      "84:\tlearn: 163.2003311\ttotal: 68.8ms\tremaining: 93.1ms\n",
      "85:\tlearn: 161.1781702\ttotal: 69.7ms\tremaining: 92.4ms\n",
      "86:\tlearn: 160.8727658\ttotal: 70.7ms\tremaining: 91.8ms\n",
      "87:\tlearn: 159.7954077\ttotal: 71.6ms\tremaining: 91.2ms\n",
      "88:\tlearn: 158.8759132\ttotal: 72.5ms\tremaining: 90.4ms\n",
      "89:\tlearn: 158.4831323\ttotal: 73.4ms\tremaining: 89.7ms\n",
      "90:\tlearn: 157.4808127\ttotal: 74.3ms\tremaining: 89ms\n",
      "91:\tlearn: 157.1703230\ttotal: 75.2ms\tremaining: 88.3ms\n",
      "92:\tlearn: 155.3184755\ttotal: 76.1ms\tremaining: 87.6ms\n",
      "93:\tlearn: 154.3988879\ttotal: 77.2ms\tremaining: 87.1ms\n",
      "94:\tlearn: 153.4591935\ttotal: 78.1ms\tremaining: 86.3ms\n",
      "95:\tlearn: 153.1206893\ttotal: 79ms\tremaining: 85.6ms\n",
      "96:\tlearn: 152.7897351\ttotal: 79.9ms\tremaining: 84.8ms\n",
      "97:\tlearn: 150.9293164\ttotal: 81.1ms\tremaining: 84.4ms\n",
      "98:\tlearn: 149.7127171\ttotal: 82.1ms\tremaining: 83.8ms\n",
      "99:\tlearn: 149.5089324\ttotal: 83.1ms\tremaining: 83.1ms\n",
      "100:\tlearn: 149.3156312\ttotal: 84ms\tremaining: 82.3ms\n",
      "101:\tlearn: 147.7226718\ttotal: 84.9ms\tremaining: 81.5ms\n",
      "102:\tlearn: 146.7692282\ttotal: 86ms\tremaining: 81ms\n",
      "103:\tlearn: 145.9084983\ttotal: 86.9ms\tremaining: 80.2ms\n",
      "104:\tlearn: 144.8780979\ttotal: 87.8ms\tremaining: 79.4ms\n",
      "105:\tlearn: 143.8090268\ttotal: 88.8ms\tremaining: 78.7ms\n",
      "106:\tlearn: 143.1272551\ttotal: 89.8ms\tremaining: 78ms\n",
      "107:\tlearn: 142.4863018\ttotal: 90.7ms\tremaining: 77.3ms\n",
      "108:\tlearn: 141.4861279\ttotal: 91.6ms\tremaining: 76.5ms\n",
      "109:\tlearn: 140.8689530\ttotal: 92.6ms\tremaining: 75.7ms\n",
      "110:\tlearn: 140.4009570\ttotal: 93.5ms\tremaining: 75ms\n",
      "111:\tlearn: 140.0344439\ttotal: 94.5ms\tremaining: 74.2ms\n",
      "112:\tlearn: 139.4290096\ttotal: 96ms\tremaining: 73.9ms\n",
      "113:\tlearn: 139.2008874\ttotal: 97ms\tremaining: 73.2ms\n",
      "114:\tlearn: 138.6000188\ttotal: 98ms\tremaining: 72.4ms\n",
      "115:\tlearn: 138.3962706\ttotal: 98.8ms\tremaining: 71.5ms\n",
      "116:\tlearn: 138.1737256\ttotal: 99.6ms\tremaining: 70.7ms\n",
      "117:\tlearn: 137.6342361\ttotal: 100ms\tremaining: 69.8ms\n",
      "118:\tlearn: 136.7119826\ttotal: 101ms\tremaining: 68.9ms\n",
      "119:\tlearn: 135.3057402\ttotal: 102ms\tremaining: 68ms\n",
      "120:\tlearn: 134.4797815\ttotal: 103ms\tremaining: 67.1ms\n",
      "121:\tlearn: 133.0774331\ttotal: 104ms\tremaining: 66.3ms\n",
      "122:\tlearn: 131.8739238\ttotal: 104ms\tremaining: 65.4ms\n",
      "123:\tlearn: 131.3203837\ttotal: 105ms\tremaining: 64.5ms\n",
      "124:\tlearn: 130.8294604\ttotal: 106ms\tremaining: 63.6ms\n",
      "125:\tlearn: 130.6107905\ttotal: 107ms\tremaining: 62.6ms\n",
      "126:\tlearn: 130.1614924\ttotal: 107ms\tremaining: 61.7ms\n",
      "127:\tlearn: 129.3166972\ttotal: 108ms\tremaining: 60.9ms\n",
      "128:\tlearn: 129.1038672\ttotal: 109ms\tremaining: 60ms\n",
      "129:\tlearn: 128.9594874\ttotal: 110ms\tremaining: 59.1ms\n",
      "130:\tlearn: 128.1849638\ttotal: 111ms\tremaining: 58.2ms\n",
      "131:\tlearn: 128.0307033\ttotal: 111ms\tremaining: 57.3ms\n",
      "132:\tlearn: 127.3373882\ttotal: 112ms\tremaining: 56.5ms\n",
      "133:\tlearn: 126.2856989\ttotal: 113ms\tremaining: 55.7ms\n",
      "134:\tlearn: 126.1379832\ttotal: 114ms\tremaining: 54.8ms\n",
      "135:\tlearn: 126.0180019\ttotal: 115ms\tremaining: 53.9ms\n",
      "136:\tlearn: 125.8843963\ttotal: 115ms\tremaining: 53ms\n",
      "137:\tlearn: 125.7576333\ttotal: 116ms\tremaining: 52.1ms\n",
      "138:\tlearn: 125.4794581\ttotal: 117ms\tremaining: 51.3ms\n",
      "139:\tlearn: 124.7920270\ttotal: 118ms\tremaining: 50.4ms\n",
      "140:\tlearn: 124.6530278\ttotal: 119ms\tremaining: 49.6ms\n",
      "141:\tlearn: 123.4539010\ttotal: 119ms\tremaining: 48.8ms\n",
      "142:\tlearn: 122.8980001\ttotal: 120ms\tremaining: 48ms\n",
      "143:\tlearn: 122.0911177\ttotal: 122ms\tremaining: 47.3ms\n",
      "144:\tlearn: 121.1209154\ttotal: 123ms\tremaining: 46.6ms\n",
      "145:\tlearn: 120.1613553\ttotal: 124ms\tremaining: 45.7ms\n",
      "146:\tlearn: 119.1894727\ttotal: 125ms\tremaining: 45ms\n",
      "147:\tlearn: 118.0325732\ttotal: 126ms\tremaining: 44.2ms\n",
      "148:\tlearn: 117.9138240\ttotal: 127ms\tremaining: 43.4ms\n",
      "149:\tlearn: 117.3831462\ttotal: 128ms\tremaining: 42.5ms\n",
      "150:\tlearn: 116.8475244\ttotal: 128ms\tremaining: 41.7ms\n",
      "151:\tlearn: 116.3821954\ttotal: 130ms\tremaining: 40.9ms\n",
      "152:\tlearn: 115.5293176\ttotal: 131ms\tremaining: 40.1ms\n",
      "153:\tlearn: 115.0975175\ttotal: 131ms\tremaining: 39.3ms\n",
      "154:\tlearn: 114.0649594\ttotal: 132ms\tremaining: 38.4ms\n",
      "155:\tlearn: 113.2562326\ttotal: 133ms\tremaining: 37.6ms\n",
      "156:\tlearn: 112.7557871\ttotal: 134ms\tremaining: 36.7ms\n",
      "157:\tlearn: 112.5657565\ttotal: 135ms\tremaining: 35.9ms\n",
      "158:\tlearn: 112.3541525\ttotal: 136ms\tremaining: 35ms\n",
      "159:\tlearn: 111.8527982\ttotal: 137ms\tremaining: 34.2ms\n",
      "160:\tlearn: 111.1619644\ttotal: 138ms\tremaining: 33.4ms\n",
      "161:\tlearn: 110.3588257\ttotal: 139ms\tremaining: 32.6ms\n",
      "162:\tlearn: 109.6664293\ttotal: 140ms\tremaining: 31.8ms\n",
      "163:\tlearn: 109.5577303\ttotal: 141ms\tremaining: 31ms\n",
      "164:\tlearn: 109.0570285\ttotal: 142ms\tremaining: 30.2ms\n",
      "165:\tlearn: 108.7601467\ttotal: 143ms\tremaining: 29.4ms\n",
      "166:\tlearn: 108.0448620\ttotal: 144ms\tremaining: 28.5ms\n",
      "167:\tlearn: 107.5593372\ttotal: 145ms\tremaining: 27.7ms\n",
      "168:\tlearn: 106.3862999\ttotal: 146ms\tremaining: 26.8ms\n",
      "169:\tlearn: 106.2180807\ttotal: 147ms\tremaining: 25.9ms\n",
      "170:\tlearn: 106.0695603\ttotal: 148ms\tremaining: 25.1ms\n",
      "171:\tlearn: 105.6940213\ttotal: 149ms\tremaining: 24.2ms\n",
      "172:\tlearn: 104.7598987\ttotal: 150ms\tremaining: 23.3ms\n",
      "173:\tlearn: 104.6589992\ttotal: 151ms\tremaining: 22.5ms\n",
      "174:\tlearn: 103.7203657\ttotal: 151ms\tremaining: 21.6ms\n",
      "175:\tlearn: 103.2660987\ttotal: 152ms\tremaining: 20.8ms\n",
      "176:\tlearn: 103.0926213\ttotal: 153ms\tremaining: 19.9ms\n",
      "177:\tlearn: 102.6925209\ttotal: 154ms\tremaining: 19.1ms\n",
      "178:\tlearn: 102.1655154\ttotal: 155ms\tremaining: 18.2ms\n",
      "179:\tlearn: 101.8273108\ttotal: 156ms\tremaining: 17.4ms\n",
      "180:\tlearn: 101.7264515\ttotal: 159ms\tremaining: 16.7ms\n",
      "181:\tlearn: 101.1102333\ttotal: 161ms\tremaining: 15.9ms\n",
      "182:\tlearn: 100.7880364\ttotal: 162ms\tremaining: 15ms\n",
      "183:\tlearn: 100.6673014\ttotal: 163ms\tremaining: 14.2ms\n",
      "184:\tlearn: 100.0153055\ttotal: 165ms\tremaining: 13.3ms\n",
      "185:\tlearn: 99.7667281\ttotal: 166ms\tremaining: 12.5ms\n",
      "186:\tlearn: 99.1860593\ttotal: 167ms\tremaining: 11.6ms\n",
      "187:\tlearn: 99.0408133\ttotal: 169ms\tremaining: 10.8ms\n",
      "188:\tlearn: 98.9030718\ttotal: 171ms\tremaining: 9.93ms\n",
      "189:\tlearn: 97.4513860\ttotal: 172ms\tremaining: 9.04ms\n",
      "190:\tlearn: 97.3322959\ttotal: 173ms\tremaining: 8.15ms\n",
      "191:\tlearn: 97.1950848\ttotal: 174ms\tremaining: 7.26ms\n",
      "192:\tlearn: 96.6789532\ttotal: 175ms\tremaining: 6.36ms\n",
      "193:\tlearn: 96.5506179\ttotal: 176ms\tremaining: 5.46ms\n",
      "194:\tlearn: 95.6635039\ttotal: 177ms\tremaining: 4.55ms\n",
      "195:\tlearn: 94.8850777\ttotal: 178ms\tremaining: 3.64ms\n",
      "196:\tlearn: 94.1624589\ttotal: 179ms\tremaining: 2.73ms\n",
      "197:\tlearn: 93.8220662\ttotal: 180ms\tremaining: 1.82ms\n",
      "198:\tlearn: 93.7300351\ttotal: 182ms\tremaining: 912us\n",
      "199:\tlearn: 93.3339522\ttotal: 183ms\tremaining: 0us\n"
     ]
    }
   ],
   "source": [
    "catb_cv_model=GridSearchCV(catb_model,catb_params,cv=5,n_jobs=-1,verbose=2).fit(X_train,y_train)"
   ]
  },
  {
   "cell_type": "code",
   "execution_count": 112,
   "id": "developed-torture",
   "metadata": {},
   "outputs": [
    {
     "data": {
      "text/plain": [
       "{'depth': 3, 'iterations': 200, 'learning_rate': 0.1}"
      ]
     },
     "execution_count": 112,
     "metadata": {},
     "output_type": "execute_result"
    }
   ],
   "source": [
    "catb_cv_model.best_params_ "
   ]
  },
  {
   "cell_type": "code",
   "execution_count": 114,
   "id": "liked-provincial",
   "metadata": {
    "collapsed": true,
    "jupyter": {
     "outputs_hidden": true
    }
   },
   "outputs": [
    {
     "name": "stdout",
     "output_type": "stream",
     "text": [
      "0:\tlearn: 425.7900818\ttotal: 1.3ms\tremaining: 259ms\n",
      "1:\tlearn: 404.8723520\ttotal: 3.02ms\tremaining: 300ms\n",
      "2:\tlearn: 387.4057666\ttotal: 6.59ms\tremaining: 433ms\n",
      "3:\tlearn: 372.2801584\ttotal: 9.74ms\tremaining: 477ms\n",
      "4:\tlearn: 358.9204229\ttotal: 15.4ms\tremaining: 599ms\n",
      "5:\tlearn: 347.0083933\ttotal: 16.9ms\tremaining: 548ms\n",
      "6:\tlearn: 336.0130818\ttotal: 19.1ms\tremaining: 527ms\n",
      "7:\tlearn: 324.3923300\ttotal: 20.2ms\tremaining: 484ms\n",
      "8:\tlearn: 314.8690957\ttotal: 21.2ms\tremaining: 450ms\n",
      "9:\tlearn: 308.5075563\ttotal: 22.1ms\tremaining: 420ms\n",
      "10:\tlearn: 298.8587285\ttotal: 22.9ms\tremaining: 394ms\n",
      "11:\tlearn: 294.7655438\ttotal: 23.7ms\tremaining: 372ms\n",
      "12:\tlearn: 288.0697862\ttotal: 24.6ms\tremaining: 353ms\n",
      "13:\tlearn: 282.6697154\ttotal: 25.7ms\tremaining: 341ms\n",
      "14:\tlearn: 277.6121667\ttotal: 28.6ms\tremaining: 353ms\n",
      "15:\tlearn: 273.4383979\ttotal: 29.6ms\tremaining: 340ms\n",
      "16:\tlearn: 269.1556201\ttotal: 30.5ms\tremaining: 328ms\n",
      "17:\tlearn: 264.8098704\ttotal: 31.3ms\tremaining: 317ms\n",
      "18:\tlearn: 261.6700768\ttotal: 32.2ms\tremaining: 306ms\n",
      "19:\tlearn: 257.3961290\ttotal: 33ms\tremaining: 297ms\n",
      "20:\tlearn: 252.2691509\ttotal: 33.9ms\tremaining: 289ms\n",
      "21:\tlearn: 249.0686482\ttotal: 34.7ms\tremaining: 281ms\n",
      "22:\tlearn: 244.1881041\ttotal: 35.5ms\tremaining: 273ms\n",
      "23:\tlearn: 242.1696687\ttotal: 36.4ms\tremaining: 267ms\n",
      "24:\tlearn: 239.2131476\ttotal: 37.2ms\tremaining: 260ms\n",
      "25:\tlearn: 236.6883901\ttotal: 38ms\tremaining: 255ms\n",
      "26:\tlearn: 234.5295613\ttotal: 38.9ms\tremaining: 249ms\n",
      "27:\tlearn: 231.7788834\ttotal: 39.8ms\tremaining: 244ms\n",
      "28:\tlearn: 228.8020330\ttotal: 40.9ms\tremaining: 241ms\n",
      "29:\tlearn: 226.8420565\ttotal: 41.8ms\tremaining: 237ms\n",
      "30:\tlearn: 224.0686558\ttotal: 42.6ms\tremaining: 232ms\n",
      "31:\tlearn: 222.6644699\ttotal: 43.4ms\tremaining: 228ms\n",
      "32:\tlearn: 221.6889573\ttotal: 44.3ms\tremaining: 224ms\n",
      "33:\tlearn: 220.5171653\ttotal: 45.1ms\tremaining: 220ms\n",
      "34:\tlearn: 217.7686033\ttotal: 45.9ms\tremaining: 216ms\n",
      "35:\tlearn: 214.8462789\ttotal: 46.7ms\tremaining: 213ms\n",
      "36:\tlearn: 214.4799251\ttotal: 47.5ms\tremaining: 209ms\n",
      "37:\tlearn: 212.3480429\ttotal: 48.2ms\tremaining: 206ms\n",
      "38:\tlearn: 210.0040644\ttotal: 49ms\tremaining: 202ms\n",
      "39:\tlearn: 208.3086913\ttotal: 49.8ms\tremaining: 199ms\n",
      "40:\tlearn: 207.5469119\ttotal: 50.6ms\tremaining: 196ms\n",
      "41:\tlearn: 205.9351113\ttotal: 51.5ms\tremaining: 194ms\n",
      "42:\tlearn: 205.3580824\ttotal: 52.3ms\tremaining: 191ms\n",
      "43:\tlearn: 204.6204266\ttotal: 53.1ms\tremaining: 188ms\n",
      "44:\tlearn: 202.5023220\ttotal: 53.9ms\tremaining: 186ms\n",
      "45:\tlearn: 201.4347853\ttotal: 55.2ms\tremaining: 185ms\n",
      "46:\tlearn: 200.8752553\ttotal: 56.1ms\tremaining: 183ms\n",
      "47:\tlearn: 200.4047344\ttotal: 56.9ms\tremaining: 180ms\n",
      "48:\tlearn: 197.5433004\ttotal: 57.7ms\tremaining: 178ms\n",
      "49:\tlearn: 194.6943292\ttotal: 58.5ms\tremaining: 175ms\n",
      "50:\tlearn: 194.3011982\ttotal: 59.4ms\tremaining: 174ms\n",
      "51:\tlearn: 193.4011843\ttotal: 60.2ms\tremaining: 171ms\n",
      "52:\tlearn: 193.0109753\ttotal: 61.1ms\tremaining: 169ms\n",
      "53:\tlearn: 192.6071142\ttotal: 61.9ms\tremaining: 167ms\n",
      "54:\tlearn: 191.9666153\ttotal: 62.7ms\tremaining: 165ms\n",
      "55:\tlearn: 191.5789727\ttotal: 63.5ms\tremaining: 163ms\n",
      "56:\tlearn: 190.7186284\ttotal: 64.4ms\tremaining: 161ms\n",
      "57:\tlearn: 190.4543087\ttotal: 65.2ms\tremaining: 160ms\n",
      "58:\tlearn: 190.1336317\ttotal: 66ms\tremaining: 158ms\n",
      "59:\tlearn: 188.2286484\ttotal: 67ms\tremaining: 156ms\n",
      "60:\tlearn: 187.7652417\ttotal: 68ms\tremaining: 155ms\n",
      "61:\tlearn: 187.4227950\ttotal: 69.6ms\tremaining: 155ms\n",
      "62:\tlearn: 186.9289182\ttotal: 70.6ms\tremaining: 154ms\n",
      "63:\tlearn: 185.2993487\ttotal: 71.5ms\tremaining: 152ms\n",
      "64:\tlearn: 185.0349598\ttotal: 72.5ms\tremaining: 150ms\n",
      "65:\tlearn: 183.9773430\ttotal: 73.3ms\tremaining: 149ms\n",
      "66:\tlearn: 183.4463166\ttotal: 74.1ms\tremaining: 147ms\n",
      "67:\tlearn: 181.6627740\ttotal: 75ms\tremaining: 146ms\n",
      "68:\tlearn: 179.8785055\ttotal: 76ms\tremaining: 144ms\n",
      "69:\tlearn: 179.6737527\ttotal: 76.8ms\tremaining: 143ms\n",
      "70:\tlearn: 177.0830981\ttotal: 77.7ms\tremaining: 141ms\n",
      "71:\tlearn: 176.5917790\ttotal: 78.4ms\tremaining: 139ms\n",
      "72:\tlearn: 176.1240502\ttotal: 79.3ms\tremaining: 138ms\n",
      "73:\tlearn: 174.4828953\ttotal: 80.1ms\tremaining: 136ms\n",
      "74:\tlearn: 173.4220482\ttotal: 80.9ms\tremaining: 135ms\n",
      "75:\tlearn: 171.9903405\ttotal: 81.8ms\tremaining: 133ms\n",
      "76:\tlearn: 171.5803116\ttotal: 82.6ms\tremaining: 132ms\n",
      "77:\tlearn: 170.1411594\ttotal: 83.9ms\tremaining: 131ms\n",
      "78:\tlearn: 167.9868133\ttotal: 84.8ms\tremaining: 130ms\n",
      "79:\tlearn: 166.5304475\ttotal: 85.6ms\tremaining: 128ms\n",
      "80:\tlearn: 166.1741622\ttotal: 86.4ms\tremaining: 127ms\n",
      "81:\tlearn: 165.8411762\ttotal: 87.3ms\tremaining: 126ms\n",
      "82:\tlearn: 165.1041583\ttotal: 88.1ms\tremaining: 124ms\n",
      "83:\tlearn: 163.5641543\ttotal: 89ms\tremaining: 123ms\n",
      "84:\tlearn: 163.2003311\ttotal: 90.2ms\tremaining: 122ms\n",
      "85:\tlearn: 161.1781702\ttotal: 91.7ms\tremaining: 122ms\n",
      "86:\tlearn: 160.8727658\ttotal: 93ms\tremaining: 121ms\n",
      "87:\tlearn: 159.7954077\ttotal: 94.2ms\tremaining: 120ms\n",
      "88:\tlearn: 158.8759132\ttotal: 95.4ms\tremaining: 119ms\n",
      "89:\tlearn: 158.4831323\ttotal: 96.7ms\tremaining: 118ms\n",
      "90:\tlearn: 157.4808127\ttotal: 99.3ms\tremaining: 119ms\n",
      "91:\tlearn: 157.1703230\ttotal: 101ms\tremaining: 118ms\n",
      "92:\tlearn: 155.3184755\ttotal: 102ms\tremaining: 117ms\n",
      "93:\tlearn: 154.3988879\ttotal: 103ms\tremaining: 117ms\n",
      "94:\tlearn: 153.4591935\ttotal: 105ms\tremaining: 116ms\n",
      "95:\tlearn: 153.1206893\ttotal: 106ms\tremaining: 115ms\n",
      "96:\tlearn: 152.7897351\ttotal: 107ms\tremaining: 114ms\n",
      "97:\tlearn: 150.9293164\ttotal: 108ms\tremaining: 113ms\n",
      "98:\tlearn: 149.7127171\ttotal: 111ms\tremaining: 113ms\n",
      "99:\tlearn: 149.5089324\ttotal: 112ms\tremaining: 112ms\n",
      "100:\tlearn: 149.3156312\ttotal: 113ms\tremaining: 111ms\n",
      "101:\tlearn: 147.7226718\ttotal: 114ms\tremaining: 109ms\n",
      "102:\tlearn: 146.7692282\ttotal: 115ms\tremaining: 108ms\n",
      "103:\tlearn: 145.9084983\ttotal: 115ms\tremaining: 107ms\n",
      "104:\tlearn: 144.8780979\ttotal: 116ms\tremaining: 105ms\n",
      "105:\tlearn: 143.8090268\ttotal: 117ms\tremaining: 104ms\n",
      "106:\tlearn: 143.1272551\ttotal: 118ms\tremaining: 103ms\n",
      "107:\tlearn: 142.4863018\ttotal: 119ms\tremaining: 101ms\n",
      "108:\tlearn: 141.4861279\ttotal: 120ms\tremaining: 99.9ms\n",
      "109:\tlearn: 140.8689530\ttotal: 121ms\tremaining: 98.6ms\n",
      "110:\tlearn: 140.4009570\ttotal: 121ms\tremaining: 97.3ms\n",
      "111:\tlearn: 140.0344439\ttotal: 122ms\tremaining: 96ms\n",
      "112:\tlearn: 139.4290096\ttotal: 123ms\tremaining: 94.7ms\n",
      "113:\tlearn: 139.2008874\ttotal: 127ms\tremaining: 95.6ms\n",
      "114:\tlearn: 138.6000188\ttotal: 128ms\tremaining: 94.4ms\n",
      "115:\tlearn: 138.3962706\ttotal: 129ms\tremaining: 93.2ms\n",
      "116:\tlearn: 138.1737256\ttotal: 130ms\tremaining: 92ms\n",
      "117:\tlearn: 137.6342361\ttotal: 131ms\tremaining: 90.7ms\n",
      "118:\tlearn: 136.7119826\ttotal: 131ms\tremaining: 89.5ms\n",
      "119:\tlearn: 135.3057402\ttotal: 132ms\tremaining: 88.2ms\n",
      "120:\tlearn: 134.4797815\ttotal: 133ms\tremaining: 87.1ms\n",
      "121:\tlearn: 133.0774331\ttotal: 135ms\tremaining: 86.2ms\n",
      "122:\tlearn: 131.8739238\ttotal: 136ms\tremaining: 85ms\n",
      "123:\tlearn: 131.3203837\ttotal: 137ms\tremaining: 83.8ms\n",
      "124:\tlearn: 130.8294604\ttotal: 138ms\tremaining: 82.9ms\n",
      "125:\tlearn: 130.6107905\ttotal: 140ms\tremaining: 82.5ms\n",
      "126:\tlearn: 130.1614924\ttotal: 142ms\tremaining: 81.7ms\n",
      "127:\tlearn: 129.3166972\ttotal: 143ms\tremaining: 80.4ms\n",
      "128:\tlearn: 129.1038672\ttotal: 144ms\tremaining: 79.1ms\n",
      "129:\tlearn: 128.9594874\ttotal: 144ms\tremaining: 77.7ms\n",
      "130:\tlearn: 128.1849638\ttotal: 145ms\tremaining: 76.4ms\n",
      "131:\tlearn: 128.0307033\ttotal: 146ms\tremaining: 75.2ms\n",
      "132:\tlearn: 127.3373882\ttotal: 147ms\tremaining: 73.9ms\n",
      "133:\tlearn: 126.2856989\ttotal: 147ms\tremaining: 72.6ms\n",
      "134:\tlearn: 126.1379832\ttotal: 148ms\tremaining: 71.3ms\n",
      "135:\tlearn: 126.0180019\ttotal: 149ms\tremaining: 70.1ms\n",
      "136:\tlearn: 125.8843963\ttotal: 150ms\tremaining: 68.8ms\n",
      "137:\tlearn: 125.7576333\ttotal: 150ms\tremaining: 67.5ms\n",
      "138:\tlearn: 125.4794581\ttotal: 153ms\tremaining: 67.1ms\n",
      "139:\tlearn: 124.7920270\ttotal: 154ms\tremaining: 66.1ms\n",
      "140:\tlearn: 124.6530278\ttotal: 156ms\tremaining: 65.3ms\n",
      "141:\tlearn: 123.4539010\ttotal: 157ms\tremaining: 64.2ms\n",
      "142:\tlearn: 122.8980001\ttotal: 158ms\tremaining: 63.1ms\n",
      "143:\tlearn: 122.0911177\ttotal: 159ms\tremaining: 61.9ms\n",
      "144:\tlearn: 121.1209154\ttotal: 160ms\tremaining: 60.8ms\n",
      "145:\tlearn: 120.1613553\ttotal: 161ms\tremaining: 59.7ms\n",
      "146:\tlearn: 119.1894727\ttotal: 162ms\tremaining: 58.5ms\n",
      "147:\tlearn: 118.0325732\ttotal: 163ms\tremaining: 57.4ms\n",
      "148:\tlearn: 117.9138240\ttotal: 164ms\tremaining: 56.2ms\n",
      "149:\tlearn: 117.3831462\ttotal: 166ms\tremaining: 55.4ms\n",
      "150:\tlearn: 116.8475244\ttotal: 169ms\tremaining: 55ms\n",
      "151:\tlearn: 116.3821954\ttotal: 171ms\tremaining: 54ms\n",
      "152:\tlearn: 115.5293176\ttotal: 172ms\tremaining: 52.8ms\n",
      "153:\tlearn: 115.0975175\ttotal: 173ms\tremaining: 51.7ms\n",
      "154:\tlearn: 114.0649594\ttotal: 174ms\tremaining: 50.5ms\n",
      "155:\tlearn: 113.2562326\ttotal: 175ms\tremaining: 49.4ms\n",
      "156:\tlearn: 112.7557871\ttotal: 176ms\tremaining: 48.3ms\n",
      "157:\tlearn: 112.5657565\ttotal: 177ms\tremaining: 47.1ms\n",
      "158:\tlearn: 112.3541525\ttotal: 178ms\tremaining: 46ms\n",
      "159:\tlearn: 111.8527982\ttotal: 179ms\tremaining: 44.8ms\n",
      "160:\tlearn: 111.1619644\ttotal: 184ms\tremaining: 44.5ms\n",
      "161:\tlearn: 110.3588257\ttotal: 184ms\tremaining: 43.3ms\n",
      "162:\tlearn: 109.6664293\ttotal: 185ms\tremaining: 42.1ms\n",
      "163:\tlearn: 109.5577303\ttotal: 186ms\tremaining: 40.9ms\n",
      "164:\tlearn: 109.0570285\ttotal: 187ms\tremaining: 39.7ms\n",
      "165:\tlearn: 108.7601467\ttotal: 188ms\tremaining: 38.5ms\n",
      "166:\tlearn: 108.0448620\ttotal: 189ms\tremaining: 37.3ms\n",
      "167:\tlearn: 107.5593372\ttotal: 190ms\tremaining: 36.2ms\n",
      "168:\tlearn: 106.3862999\ttotal: 191ms\tremaining: 35ms\n",
      "169:\tlearn: 106.2180807\ttotal: 192ms\tremaining: 33.9ms\n",
      "170:\tlearn: 106.0695603\ttotal: 193ms\tremaining: 32.7ms\n",
      "171:\tlearn: 105.6940213\ttotal: 194ms\tremaining: 31.5ms\n",
      "172:\tlearn: 104.7598987\ttotal: 195ms\tremaining: 30.4ms\n",
      "173:\tlearn: 104.6589992\ttotal: 196ms\tremaining: 29.3ms\n",
      "174:\tlearn: 103.7203657\ttotal: 197ms\tremaining: 28.1ms\n",
      "175:\tlearn: 103.2660987\ttotal: 198ms\tremaining: 27ms\n",
      "176:\tlearn: 103.0926213\ttotal: 199ms\tremaining: 25.8ms\n",
      "177:\tlearn: 102.6925209\ttotal: 200ms\tremaining: 24.7ms\n",
      "178:\tlearn: 102.1655154\ttotal: 200ms\tremaining: 23.5ms\n",
      "179:\tlearn: 101.8273108\ttotal: 201ms\tremaining: 22.4ms\n",
      "180:\tlearn: 101.7264515\ttotal: 202ms\tremaining: 21.2ms\n",
      "181:\tlearn: 101.1102333\ttotal: 203ms\tremaining: 20.1ms\n",
      "182:\tlearn: 100.7880364\ttotal: 204ms\tremaining: 18.9ms\n",
      "183:\tlearn: 100.6673014\ttotal: 205ms\tremaining: 17.8ms\n",
      "184:\tlearn: 100.0153055\ttotal: 205ms\tremaining: 16.6ms\n",
      "185:\tlearn: 99.7667281\ttotal: 206ms\tremaining: 15.5ms\n",
      "186:\tlearn: 99.1860593\ttotal: 207ms\tremaining: 14.4ms\n",
      "187:\tlearn: 99.0408133\ttotal: 208ms\tremaining: 13.3ms\n",
      "188:\tlearn: 98.9030718\ttotal: 209ms\tremaining: 12.1ms\n",
      "189:\tlearn: 97.4513860\ttotal: 210ms\tremaining: 11ms\n",
      "190:\tlearn: 97.3322959\ttotal: 211ms\tremaining: 9.94ms\n",
      "191:\tlearn: 97.1950848\ttotal: 212ms\tremaining: 8.82ms\n",
      "192:\tlearn: 96.6789532\ttotal: 213ms\tremaining: 7.71ms\n",
      "193:\tlearn: 96.5506179\ttotal: 213ms\tremaining: 6.6ms\n",
      "194:\tlearn: 95.6635039\ttotal: 214ms\tremaining: 5.49ms\n",
      "195:\tlearn: 94.8850777\ttotal: 215ms\tremaining: 4.39ms\n",
      "196:\tlearn: 94.1624589\ttotal: 216ms\tremaining: 3.29ms\n",
      "197:\tlearn: 93.8220662\ttotal: 217ms\tremaining: 2.19ms\n",
      "198:\tlearn: 93.7300351\ttotal: 218ms\tremaining: 1.09ms\n",
      "199:\tlearn: 93.3339522\ttotal: 218ms\tremaining: 0us\n"
     ]
    }
   ],
   "source": [
    "catb_tuned=CatBoostRegressor(depth=3,iterations=200,learning_rate=0.1).fit(X_train,y_train)"
   ]
  },
  {
   "cell_type": "code",
   "execution_count": 115,
   "id": "crazy-vacuum",
   "metadata": {},
   "outputs": [],
   "source": [
    "y_pred=catb_tuned.predict(X_test)"
   ]
  },
  {
   "cell_type": "code",
   "execution_count": 116,
   "id": "loaded-stream",
   "metadata": {},
   "outputs": [
    {
     "data": {
      "text/plain": [
       "344.3125832615482"
      ]
     },
     "execution_count": 116,
     "metadata": {},
     "output_type": "execute_result"
    }
   ],
   "source": [
    "np.sqrt(mean_squared_error(y_test,y_pred))"
   ]
  },
  {
   "cell_type": "markdown",
   "id": "emotional-mapping",
   "metadata": {},
   "source": [
    "# MAKİNE ÖĞRENMESİ GÖREVLERİNİN OTOMOTİKLEŞTİRİLMESİ"
   ]
  },
  {
   "cell_type": "code",
   "execution_count": 117,
   "id": "korean-affairs",
   "metadata": {},
   "outputs": [],
   "source": [
    "df=pd.read_csv(\"Hitters.csv\")\n",
    "df=df.dropna()\n",
    "dms=pd.get_dummies(df[[\"League\",\"Division\",\"NewLeague\"]])"
   ]
  },
  {
   "cell_type": "code",
   "execution_count": 138,
   "id": "extreme-bundle",
   "metadata": {},
   "outputs": [],
   "source": [
    "def compML(df,y,alg):        # fonksiyona verisetini, bagımlı degiskeni ve kullanacaıgımız algoritmayı veriyoruz\n",
    "    #train-test ayrimi\n",
    "    y=df[y]\n",
    "    X_=df.drop([\"Salary\",\"League\",\"Division\",\"NewLeague\"],axis=1).astype(\"float64\")\n",
    "    X=pd.concat([X_,dms[[\"League_N\",\"Division_W\",\"NewLeague_N\"]]],axis=1)\n",
    "    X_train,X_test,y_train,y_test=train_test_split(X, y,                                           \n",
    "                                              test_size=0.25,\n",
    "                                              random_state=42)\n",
    "    # modelleme\n",
    "    model=alg().fit(X_train,y_train)\n",
    "    y_pred=model.predict(X_test)\n",
    "    RMSE=np.sqrt(mean_squared_error(y_test,y_pred))\n",
    "    model_ismi=alg.__name__\n",
    "    print(model_ismi,\"Modeli Test Hatası:\",RMSE)\n",
    "     \n",
    "    \n",
    "    "
   ]
  },
  {
   "cell_type": "code",
   "execution_count": 139,
   "id": "fundamental-cookbook",
   "metadata": {},
   "outputs": [
    {
     "name": "stdout",
     "output_type": "stream",
     "text": [
      "LGBMRegressor Modeli Test Hatası: 363.8712087611089\n"
     ]
    }
   ],
   "source": [
    "compML(df,\"Salary\",LGBMRegressor) #fonksiyonu cagırıyoruz"
   ]
  },
  {
   "cell_type": "code",
   "execution_count": 136,
   "id": "ambient-connecticut",
   "metadata": {},
   "outputs": [
    {
     "name": "stdout",
     "output_type": "stream",
     "text": [
      "SVR : 460.0032657244849\n"
     ]
    }
   ],
   "source": [
    "compML(df,\"Salary\",SVR)"
   ]
  },
  {
   "cell_type": "code",
   "execution_count": 140,
   "id": "frank-agency",
   "metadata": {},
   "outputs": [],
   "source": [
    "models=[\n",
    "        LGBMRegressor,\n",
    "        SVR,\n",
    "        XGBRegressor,\n",
    "        GradientBoostingRegressor,\n",
    "        RandomForestRegressor,\n",
    "        KNeighborsRegressor,\n",
    "        MLPRegressor]"
   ]
  },
  {
   "cell_type": "code",
   "execution_count": 147,
   "id": "chemical-equity",
   "metadata": {},
   "outputs": [],
   "source": [
    "a=[]"
   ]
  },
  {
   "cell_type": "code",
   "execution_count": 152,
   "id": "conditional-tribute",
   "metadata": {},
   "outputs": [
    {
     "name": "stdout",
     "output_type": "stream",
     "text": [
      "LGBMRegressor Modeli Test Hatası: 363.8712087611089\n",
      " \n",
      "SVR Modeli Test Hatası: 460.0032657244849\n",
      " \n",
      "XGBRegressor Modeli Test Hatası: 355.46515176059927\n",
      " \n",
      "GradientBoostingRegressor Modeli Test Hatası: 356.1741089520326\n",
      " \n",
      "RandomForestRegressor Modeli Test Hatası: 330.6475978565971\n",
      " \n",
      "KNeighborsRegressor Modeli Test Hatası: 426.6570764525201\n",
      " \n",
      "MLPRegressor Modeli Test Hatası: 439.13668142086175\n",
      " \n"
     ]
    }
   ],
   "source": [
    "for i in models:\n",
    "    compML(df,\"Salary\",i)\n",
    "    print(\" \")"
   ]
  },
  {
   "cell_type": "code",
   "execution_count": null,
   "id": "infectious-proportion",
   "metadata": {},
   "outputs": [],
   "source": []
  },
  {
   "cell_type": "code",
   "execution_count": null,
   "id": "irish-romance",
   "metadata": {},
   "outputs": [],
   "source": []
  }
 ],
 "metadata": {
  "kernelspec": {
   "display_name": "Python 3",
   "language": "python",
   "name": "python3"
  },
  "language_info": {
   "codemirror_mode": {
    "name": "ipython",
    "version": 3
   },
   "file_extension": ".py",
   "mimetype": "text/x-python",
   "name": "python",
   "nbconvert_exporter": "python",
   "pygments_lexer": "ipython3",
   "version": "3.6.12"
  }
 },
 "nbformat": 4,
 "nbformat_minor": 5
}
