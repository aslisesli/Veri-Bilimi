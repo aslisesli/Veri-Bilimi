{
 "cells": [
  {
   "cell_type": "code",
   "execution_count": 1,
   "id": "decreased-projection",
   "metadata": {},
   "outputs": [],
   "source": [
    "import matplotlib.pyplot as plt"
   ]
  },
  {
   "cell_type": "code",
   "execution_count": 3,
   "id": "dutch-softball",
   "metadata": {},
   "outputs": [],
   "source": [
    "import numpy as np\n",
    "import pandas as pd\n",
    "import seaborn as sns\n",
    "from sklearn.linear_model import LinearRegression"
   ]
  },
  {
   "cell_type": "code",
   "execution_count": 6,
   "id": "broken-missouri",
   "metadata": {},
   "outputs": [],
   "source": [
    "df = pd.read_csv(\"salary.txt\")  #calısma yılına göre maas belirleme"
   ]
  },
  {
   "cell_type": "code",
   "execution_count": 7,
   "id": "juvenile-appreciation",
   "metadata": {},
   "outputs": [
    {
     "data": {
      "text/html": [
       "<div>\n",
       "<style scoped>\n",
       "    .dataframe tbody tr th:only-of-type {\n",
       "        vertical-align: middle;\n",
       "    }\n",
       "\n",
       "    .dataframe tbody tr th {\n",
       "        vertical-align: top;\n",
       "    }\n",
       "\n",
       "    .dataframe thead th {\n",
       "        text-align: right;\n",
       "    }\n",
       "</style>\n",
       "<table border=\"1\" class=\"dataframe\">\n",
       "  <thead>\n",
       "    <tr style=\"text-align: right;\">\n",
       "      <th></th>\n",
       "      <th>YearsExperience</th>\n",
       "      <th>Salary</th>\n",
       "    </tr>\n",
       "  </thead>\n",
       "  <tbody>\n",
       "    <tr>\n",
       "      <th>0</th>\n",
       "      <td>1.1</td>\n",
       "      <td>39343</td>\n",
       "    </tr>\n",
       "    <tr>\n",
       "      <th>1</th>\n",
       "      <td>1.3</td>\n",
       "      <td>46205</td>\n",
       "    </tr>\n",
       "    <tr>\n",
       "      <th>2</th>\n",
       "      <td>1.5</td>\n",
       "      <td>37731</td>\n",
       "    </tr>\n",
       "    <tr>\n",
       "      <th>3</th>\n",
       "      <td>2.0</td>\n",
       "      <td>43525</td>\n",
       "    </tr>\n",
       "    <tr>\n",
       "      <th>4</th>\n",
       "      <td>2.2</td>\n",
       "      <td>39891</td>\n",
       "    </tr>\n",
       "  </tbody>\n",
       "</table>\n",
       "</div>"
      ],
      "text/plain": [
       "   YearsExperience  Salary\n",
       "0              1.1   39343\n",
       "1              1.3   46205\n",
       "2              1.5   37731\n",
       "3              2.0   43525\n",
       "4              2.2   39891"
      ]
     },
     "execution_count": 7,
     "metadata": {},
     "output_type": "execute_result"
    }
   ],
   "source": [
    "df.head()"
   ]
  },
  {
   "cell_type": "code",
   "execution_count": 8,
   "id": "scientific-frank",
   "metadata": {},
   "outputs": [],
   "source": [
    "X = df[[\"YearsExperience\"]]\n",
    "y = df[[\"Salary\"]]"
   ]
  },
  {
   "cell_type": "code",
   "execution_count": 9,
   "id": "pacific-blackberry",
   "metadata": {},
   "outputs": [
    {
     "data": {
      "image/png": "[encoded data removed]",
      "text/plain": [
       "<Figure size 432x288 with 1 Axes>"
      ]
     },
     "metadata": {
      "needs_background": "light"
     },
     "output_type": "display_data"
    }
   ],
   "source": [
    "\n",
    "plt.scatter(X, y)\n",
    "plt.xlabel(\"YearsExperience\")\n",
    "plt.ylabel(\"Salary\")\n",
    "plt.show()"
   ]
  },
  {
   "cell_type": "code",
   "execution_count": 10,
   "id": "animated-softball",
   "metadata": {},
   "outputs": [
    {
     "name": "stdout",
     "output_type": "stream",
     "text": [
      "β0:  25792.20019866871\n",
      "β1:  9449.962321455074\n"
     ]
    }
   ],
   "source": [
    "reg_model = LinearRegression().fit(X, y) # ŷ = β0 + β1x \n",
    "print(\"β0: \",reg_model.intercept_[0]) # β0 \n",
    "print(\"β1: \",reg_model.coef_[0][0]) # β1"
   ]
  },
  {
   "cell_type": "code",
   "execution_count": 11,
   "id": "possible-ceiling",
   "metadata": {},
   "outputs": [
    {
     "data": {
      "text/plain": [
       "82491.97412739915"
      ]
     },
     "execution_count": 11,
     "metadata": {},
     "output_type": "execute_result"
    }
   ],
   "source": [
    "reg_model.intercept_[0] + reg_model.coef_[0][0] * 6 "
   ]
  },
  {
   "cell_type": "code",
   "execution_count": 16,
   "id": "exposed-style",
   "metadata": {},
   "outputs": [
    {
     "data": {
      "image/png": "[encoded data removed]",
      "text/plain": [
       "<Figure size 432x288 with 1 Axes>"
      ]
     },
     "metadata": {
      "needs_background": "light"
     },
     "output_type": "display_data"
    }
   ],
   "source": [
    "g = sns.regplot(x=X, y=y, scatter_kws={'color': 'b', 's': 9},ci=False, color=\"r\")\n",
    "g.set_title(f\"Model Denklemi: Salery = {round(reg_model.intercept_[0], 2)} + {round(reg_model.coef_[0][0], 2)} * YearsExperience\")\n",
    "g.set_xlabel(\"YearsExperience\")\n",
    "g.set_ylabel(\"Salary\")\n",
    "plt.show()"
   ]
  },
  {
   "cell_type": "code",
   "execution_count": 17,
   "id": "active-rings",
   "metadata": {},
   "outputs": [],
   "source": [
    "#coklu dogrusal regresyon"
   ]
  },
  {
   "cell_type": "code",
   "execution_count": 18,
   "id": "driving-depression",
   "metadata": {},
   "outputs": [],
   "source": [
    "import numpy as np\n",
    "import pandas as pd\n",
    "import matplotlib.pyplot as plt\n",
    "import seaborn as sns\n",
    "from sklearn.linear_model import LinearRegression\n",
    "from sklearn.model_selection import train_test_split"
   ]
  },
  {
   "cell_type": "code",
   "execution_count": 20,
   "id": "voluntary-wallet",
   "metadata": {},
   "outputs": [],
   "source": [
    "df=pd.read_csv(\"Advertising.txt\")  #Medya kuruluşlarına ayrılan bütçeye göre satış tahmini"
   ]
  },
  {
   "cell_type": "code",
   "execution_count": 21,
   "id": "ordinary-bridal",
   "metadata": {},
   "outputs": [
    {
     "data": {
      "text/html": [
       "<div>\n",
       "<style scoped>\n",
       "    .dataframe tbody tr th:only-of-type {\n",
       "        vertical-align: middle;\n",
       "    }\n",
       "\n",
       "    .dataframe tbody tr th {\n",
       "        vertical-align: top;\n",
       "    }\n",
       "\n",
       "    .dataframe thead th {\n",
       "        text-align: right;\n",
       "    }\n",
       "</style>\n",
       "<table border=\"1\" class=\"dataframe\">\n",
       "  <thead>\n",
       "    <tr style=\"text-align: right;\">\n",
       "      <th></th>\n",
       "      <th>TV</th>\n",
       "      <th>radio</th>\n",
       "      <th>newspaper</th>\n",
       "      <th>sales</th>\n",
       "    </tr>\n",
       "  </thead>\n",
       "  <tbody>\n",
       "    <tr>\n",
       "      <th>0</th>\n",
       "      <td>230.1</td>\n",
       "      <td>37.8</td>\n",
       "      <td>69.2</td>\n",
       "      <td>22.1</td>\n",
       "    </tr>\n",
       "    <tr>\n",
       "      <th>1</th>\n",
       "      <td>44.5</td>\n",
       "      <td>39.3</td>\n",
       "      <td>45.1</td>\n",
       "      <td>10.4</td>\n",
       "    </tr>\n",
       "    <tr>\n",
       "      <th>2</th>\n",
       "      <td>17.2</td>\n",
       "      <td>45.9</td>\n",
       "      <td>69.3</td>\n",
       "      <td>9.3</td>\n",
       "    </tr>\n",
       "    <tr>\n",
       "      <th>3</th>\n",
       "      <td>151.5</td>\n",
       "      <td>41.3</td>\n",
       "      <td>58.5</td>\n",
       "      <td>18.5</td>\n",
       "    </tr>\n",
       "    <tr>\n",
       "      <th>4</th>\n",
       "      <td>180.8</td>\n",
       "      <td>10.8</td>\n",
       "      <td>58.4</td>\n",
       "      <td>12.9</td>\n",
       "    </tr>\n",
       "  </tbody>\n",
       "</table>\n",
       "</div>"
      ],
      "text/plain": [
       "      TV  radio  newspaper  sales\n",
       "0  230.1   37.8       69.2   22.1\n",
       "1   44.5   39.3       45.1   10.4\n",
       "2   17.2   45.9       69.3    9.3\n",
       "3  151.5   41.3       58.5   18.5\n",
       "4  180.8   10.8       58.4   12.9"
      ]
     },
     "execution_count": 21,
     "metadata": {},
     "output_type": "execute_result"
    }
   ],
   "source": [
    "df.head()"
   ]
  },
  {
   "cell_type": "code",
   "execution_count": 22,
   "id": "baking-commission",
   "metadata": {},
   "outputs": [
    {
     "data": {
      "text/html": [
       "<div>\n",
       "<style scoped>\n",
       "    .dataframe tbody tr th:only-of-type {\n",
       "        vertical-align: middle;\n",
       "    }\n",
       "\n",
       "    .dataframe tbody tr th {\n",
       "        vertical-align: top;\n",
       "    }\n",
       "\n",
       "    .dataframe thead th {\n",
       "        text-align: right;\n",
       "    }\n",
       "</style>\n",
       "<table border=\"1\" class=\"dataframe\">\n",
       "  <thead>\n",
       "    <tr style=\"text-align: right;\">\n",
       "      <th></th>\n",
       "      <th>TV</th>\n",
       "      <th>radio</th>\n",
       "      <th>newspaper</th>\n",
       "      <th>sales</th>\n",
       "    </tr>\n",
       "  </thead>\n",
       "  <tbody>\n",
       "    <tr>\n",
       "      <th>count</th>\n",
       "      <td>200.000000</td>\n",
       "      <td>200.000000</td>\n",
       "      <td>200.000000</td>\n",
       "      <td>200.000000</td>\n",
       "    </tr>\n",
       "    <tr>\n",
       "      <th>mean</th>\n",
       "      <td>147.042500</td>\n",
       "      <td>23.264000</td>\n",
       "      <td>30.554000</td>\n",
       "      <td>14.022500</td>\n",
       "    </tr>\n",
       "    <tr>\n",
       "      <th>std</th>\n",
       "      <td>85.854236</td>\n",
       "      <td>14.846809</td>\n",
       "      <td>21.778621</td>\n",
       "      <td>5.217457</td>\n",
       "    </tr>\n",
       "    <tr>\n",
       "      <th>min</th>\n",
       "      <td>0.700000</td>\n",
       "      <td>0.000000</td>\n",
       "      <td>0.300000</td>\n",
       "      <td>1.600000</td>\n",
       "    </tr>\n",
       "    <tr>\n",
       "      <th>25%</th>\n",
       "      <td>74.375000</td>\n",
       "      <td>9.975000</td>\n",
       "      <td>12.750000</td>\n",
       "      <td>10.375000</td>\n",
       "    </tr>\n",
       "    <tr>\n",
       "      <th>50%</th>\n",
       "      <td>149.750000</td>\n",
       "      <td>22.900000</td>\n",
       "      <td>25.750000</td>\n",
       "      <td>12.900000</td>\n",
       "    </tr>\n",
       "    <tr>\n",
       "      <th>75%</th>\n",
       "      <td>218.825000</td>\n",
       "      <td>36.525000</td>\n",
       "      <td>45.100000</td>\n",
       "      <td>17.400000</td>\n",
       "    </tr>\n",
       "    <tr>\n",
       "      <th>max</th>\n",
       "      <td>296.400000</td>\n",
       "      <td>49.600000</td>\n",
       "      <td>114.000000</td>\n",
       "      <td>27.000000</td>\n",
       "    </tr>\n",
       "  </tbody>\n",
       "</table>\n",
       "</div>"
      ],
      "text/plain": [
       "               TV       radio   newspaper       sales\n",
       "count  200.000000  200.000000  200.000000  200.000000\n",
       "mean   147.042500   23.264000   30.554000   14.022500\n",
       "std     85.854236   14.846809   21.778621    5.217457\n",
       "min      0.700000    0.000000    0.300000    1.600000\n",
       "25%     74.375000    9.975000   12.750000   10.375000\n",
       "50%    149.750000   22.900000   25.750000   12.900000\n",
       "75%    218.825000   36.525000   45.100000   17.400000\n",
       "max    296.400000   49.600000  114.000000   27.000000"
      ]
     },
     "execution_count": 22,
     "metadata": {},
     "output_type": "execute_result"
    }
   ],
   "source": [
    "df.describe()"
   ]
  },
  {
   "cell_type": "code",
   "execution_count": 23,
   "id": "functioning-accreditation",
   "metadata": {},
   "outputs": [],
   "source": [
    "X = df.drop('sales', axis=1)\n",
    "y = df[[\"sales\"]]"
   ]
  },
  {
   "cell_type": "code",
   "execution_count": 36,
   "id": "exceptional-birmingham",
   "metadata": {},
   "outputs": [
    {
     "data": {
      "text/plain": [
       "<AxesSubplot:xlabel='newspaper', ylabel='sales'>"
      ]
     },
     "execution_count": 36,
     "metadata": {},
     "output_type": "execute_result"
    },
    {
     "data": {
      "image/png": "[encoded data removed]",
      "text/plain": [
       "<Figure size 720x360 with 3 Axes>"
      ]
     },
     "metadata": {
      "needs_background": "light"
     },
     "output_type": "display_data"
    }
   ],
   "source": [
    "fig,axs= plt.subplots(1,3,sharey=True) # sharey : share same y axis across the plot\n",
    "df.plot(kind=\"scatter\",x='TV',y='sales',ax=axs[0],figsize=(10,5))\n",
    "df.plot(kind=\"scatter\",x='radio',y='sales',ax=axs[1],figsize=(10,5))\n",
    "df.plot(kind=\"scatter\",x='newspaper',y='sales',ax=axs[2],figsize=(10,5))"
   ]
  },
  {
   "cell_type": "code",
   "execution_count": 26,
   "id": "sunrise-familiar",
   "metadata": {
    "collapsed": true,
    "jupyter": {
     "outputs_hidden": true
    }
   },
   "outputs": [
    {
     "data": {
      "text/plain": [
       "\u001b[1;31mSignature:\u001b[0m      \u001b[0mdf\u001b[0m\u001b[1;33m.\u001b[0m\u001b[0mplot\u001b[0m\u001b[1;33m(\u001b[0m\u001b[1;33m*\u001b[0m\u001b[0margs\u001b[0m\u001b[1;33m,\u001b[0m \u001b[1;33m**\u001b[0m\u001b[0mkwargs\u001b[0m\u001b[1;33m)\u001b[0m\u001b[1;33m\u001b[0m\u001b[1;33m\u001b[0m\u001b[0m\n",
       "\u001b[1;31mType:\u001b[0m           PlotAccessor\n",
       "\u001b[1;31mString form:\u001b[0m    <pandas.plotting._core.PlotAccessor object at 0x0000024BF3E16240>\n",
       "\u001b[1;31mFile:\u001b[0m           c:\\users\\aslisesli\\anaconda3\\envs\\python\\lib\\site-packages\\pandas\\plotting\\_core.py\n",
       "\u001b[1;31mDocstring:\u001b[0m     \n",
       "Make plots of Series or DataFrame.\n",
       "\n",
       "Uses the backend specified by the\n",
       "option ``plotting.backend``. By default, matplotlib is used.\n",
       "\n",
       "Parameters\n",
       "----------\n",
       "data : Series or DataFrame\n",
       "    The object for which the method is called.\n",
       "x : label or position, default None\n",
       "    Only used if data is a DataFrame.\n",
       "y : label, position or list of label, positions, default None\n",
       "    Allows plotting of one column versus another. Only used if data is a\n",
       "    DataFrame.\n",
       "kind : str\n",
       "    The kind of plot to produce:\n",
       "\n",
       "    - 'line' : line plot (default)\n",
       "    - 'bar' : vertical bar plot\n",
       "    - 'barh' : horizontal bar plot\n",
       "    - 'hist' : histogram\n",
       "    - 'box' : boxplot\n",
       "    - 'kde' : Kernel Density Estimation plot\n",
       "    - 'density' : same as 'kde'\n",
       "    - 'area' : area plot\n",
       "    - 'pie' : pie plot\n",
       "    - 'scatter' : scatter plot\n",
       "    - 'hexbin' : hexbin plot.\n",
       "ax : matplotlib axes object, default None\n",
       "    An axes of the current figure.\n",
       "subplots : bool, default False\n",
       "    Make separate subplots for each column.\n",
       "sharex : bool, default True if ax is None else False\n",
       "    In case ``subplots=True``, share x axis and set some x axis labels\n",
       "    to invisible; defaults to True if ax is None otherwise False if\n",
       "    an ax is passed in; Be aware, that passing in both an ax and\n",
       "    ``sharex=True`` will alter all x axis labels for all axis in a figure.\n",
       "sharey : bool, default False\n",
       "    In case ``subplots=True``, share y axis and set some y axis labels to invisible.\n",
       "layout : tuple, optional\n",
       "    (rows, columns) for the layout of subplots.\n",
       "figsize : a tuple (width, height) in inches\n",
       "    Size of a figure object.\n",
       "use_index : bool, default True\n",
       "    Use index as ticks for x axis.\n",
       "title : str or list\n",
       "    Title to use for the plot. If a string is passed, print the string\n",
       "    at the top of the figure. If a list is passed and `subplots` is\n",
       "    True, print each item in the list above the corresponding subplot.\n",
       "grid : bool, default None (matlab style default)\n",
       "    Axis grid lines.\n",
       "legend : bool or {'reverse'}\n",
       "    Place legend on axis subplots.\n",
       "style : list or dict\n",
       "    The matplotlib line style per column.\n",
       "logx : bool or 'sym', default False\n",
       "    Use log scaling or symlog scaling on x axis.\n",
       "    .. versionchanged:: 0.25.0\n",
       "\n",
       "logy : bool or 'sym' default False\n",
       "    Use log scaling or symlog scaling on y axis.\n",
       "    .. versionchanged:: 0.25.0\n",
       "\n",
       "loglog : bool or 'sym', default False\n",
       "    Use log scaling or symlog scaling on both x and y axes.\n",
       "    .. versionchanged:: 0.25.0\n",
       "\n",
       "xticks : sequence\n",
       "    Values to use for the xticks.\n",
       "yticks : sequence\n",
       "    Values to use for the yticks.\n",
       "xlim : 2-tuple/list\n",
       "    Set the x limits of the current axes.\n",
       "ylim : 2-tuple/list\n",
       "    Set the y limits of the current axes.\n",
       "xlabel : label, optional\n",
       "    Name to use for the xlabel on x-axis. Default uses index name as xlabel.\n",
       "\n",
       "    .. versionadded:: 1.1.0\n",
       "\n",
       "ylabel : label, optional\n",
       "    Name to use for the ylabel on y-axis. Default will show no ylabel.\n",
       "\n",
       "    .. versionadded:: 1.1.0\n",
       "\n",
       "rot : int, default None\n",
       "    Rotation for ticks (xticks for vertical, yticks for horizontal\n",
       "    plots).\n",
       "fontsize : int, default None\n",
       "    Font size for xticks and yticks.\n",
       "colormap : str or matplotlib colormap object, default None\n",
       "    Colormap to select colors from. If string, load colormap with that\n",
       "    name from matplotlib.\n",
       "colorbar : bool, optional\n",
       "    If True, plot colorbar (only relevant for 'scatter' and 'hexbin'\n",
       "    plots).\n",
       "position : float\n",
       "    Specify relative alignments for bar plot layout.\n",
       "    From 0 (left/bottom-end) to 1 (right/top-end). Default is 0.5\n",
       "    (center).\n",
       "table : bool, Series or DataFrame, default False\n",
       "    If True, draw a table using the data in the DataFrame and the data\n",
       "    will be transposed to meet matplotlib's default layout.\n",
       "    If a Series or DataFrame is passed, use passed data to draw a\n",
       "    table.\n",
       "yerr : DataFrame, Series, array-like, dict and str\n",
       "    See :ref:`Plotting with Error Bars <visualization.errorbars>` for\n",
       "    detail.\n",
       "xerr : DataFrame, Series, array-like, dict and str\n",
       "    Equivalent to yerr.\n",
       "stacked : bool, default False in line and bar plots, and True in area plot\n",
       "    If True, create stacked plot.\n",
       "sort_columns : bool, default False\n",
       "    Sort column names to determine plot ordering.\n",
       "secondary_y : bool or sequence, default False\n",
       "    Whether to plot on the secondary y-axis if a list/tuple, which\n",
       "    columns to plot on secondary y-axis.\n",
       "mark_right : bool, default True\n",
       "    When using a secondary_y axis, automatically mark the column\n",
       "    labels with \"(right)\" in the legend.\n",
       "include_bool : bool, default is False\n",
       "    If True, boolean values can be plotted.\n",
       "backend : str, default None\n",
       "    Backend to use instead of the backend specified in the option\n",
       "    ``plotting.backend``. For instance, 'matplotlib'. Alternatively, to\n",
       "    specify the ``plotting.backend`` for the whole session, set\n",
       "    ``pd.options.plotting.backend``.\n",
       "\n",
       "    .. versionadded:: 1.0.0\n",
       "\n",
       "**kwargs\n",
       "    Options to pass to matplotlib plotting method.\n",
       "\n",
       "Returns\n",
       "-------\n",
       ":class:`matplotlib.axes.Axes` or numpy.ndarray of them\n",
       "    If the backend is not the default matplotlib one, the return value\n",
       "    will be the object returned by the backend.\n",
       "\n",
       "Notes\n",
       "-----\n",
       "- See matplotlib documentation online for more on this subject\n",
       "- If `kind` = 'bar' or 'barh', you can specify relative alignments\n",
       "  for bar plot layout by `position` keyword.\n",
       "  From 0 (left/bottom-end) to 1 (right/top-end). Default is 0.5\n",
       "  (center)\n",
       "\u001b[1;31mCall docstring:\u001b[0m\n",
       "Make plots of Series or DataFrame.\n",
       "\n",
       "Uses the backend specified by the\n",
       "option ``plotting.backend``. By default, matplotlib is used.\n",
       "\n",
       "Parameters\n",
       "----------\n",
       "data : Series or DataFrame\n",
       "    The object for which the method is called.\n",
       "x : label or position, default None\n",
       "    Only used if data is a DataFrame.\n",
       "y : label, position or list of label, positions, default None\n",
       "    Allows plotting of one column versus another. Only used if data is a\n",
       "    DataFrame.\n",
       "kind : str\n",
       "    The kind of plot to produce:\n",
       "\n",
       "    - 'line' : line plot (default)\n",
       "    - 'bar' : vertical bar plot\n",
       "    - 'barh' : horizontal bar plot\n",
       "    - 'hist' : histogram\n",
       "    - 'box' : boxplot\n",
       "    - 'kde' : Kernel Density Estimation plot\n",
       "    - 'density' : same as 'kde'\n",
       "    - 'area' : area plot\n",
       "    - 'pie' : pie plot\n",
       "    - 'scatter' : scatter plot\n",
       "    - 'hexbin' : hexbin plot.\n",
       "ax : matplotlib axes object, default None\n",
       "    An axes of the current figure.\n",
       "subplots : bool, default False\n",
       "    Make separate subplots for each column.\n",
       "sharex : bool, default True if ax is None else False\n",
       "    In case ``subplots=True``, share x axis and set some x axis labels\n",
       "    to invisible; defaults to True if ax is None otherwise False if\n",
       "    an ax is passed in; Be aware, that passing in both an ax and\n",
       "    ``sharex=True`` will alter all x axis labels for all axis in a figure.\n",
       "sharey : bool, default False\n",
       "    In case ``subplots=True``, share y axis and set some y axis labels to invisible.\n",
       "layout : tuple, optional\n",
       "    (rows, columns) for the layout of subplots.\n",
       "figsize : a tuple (width, height) in inches\n",
       "    Size of a figure object.\n",
       "use_index : bool, default True\n",
       "    Use index as ticks for x axis.\n",
       "title : str or list\n",
       "    Title to use for the plot. If a string is passed, print the string\n",
       "    at the top of the figure. If a list is passed and `subplots` is\n",
       "    True, print each item in the list above the corresponding subplot.\n",
       "grid : bool, default None (matlab style default)\n",
       "    Axis grid lines.\n",
       "legend : bool or {'reverse'}\n",
       "    Place legend on axis subplots.\n",
       "style : list or dict\n",
       "    The matplotlib line style per column.\n",
       "logx : bool or 'sym', default False\n",
       "    Use log scaling or symlog scaling on x axis.\n",
       "    .. versionchanged:: 0.25.0\n",
       "\n",
       "logy : bool or 'sym' default False\n",
       "    Use log scaling or symlog scaling on y axis.\n",
       "    .. versionchanged:: 0.25.0\n",
       "\n",
       "loglog : bool or 'sym', default False\n",
       "    Use log scaling or symlog scaling on both x and y axes.\n",
       "    .. versionchanged:: 0.25.0\n",
       "\n",
       "xticks : sequence\n",
       "    Values to use for the xticks.\n",
       "yticks : sequence\n",
       "    Values to use for the yticks.\n",
       "xlim : 2-tuple/list\n",
       "    Set the x limits of the current axes.\n",
       "ylim : 2-tuple/list\n",
       "    Set the y limits of the current axes.\n",
       "xlabel : label, optional\n",
       "    Name to use for the xlabel on x-axis. Default uses index name as xlabel.\n",
       "\n",
       "    .. versionadded:: 1.1.0\n",
       "\n",
       "ylabel : label, optional\n",
       "    Name to use for the ylabel on y-axis. Default will show no ylabel.\n",
       "\n",
       "    .. versionadded:: 1.1.0\n",
       "\n",
       "rot : int, default None\n",
       "    Rotation for ticks (xticks for vertical, yticks for horizontal\n",
       "    plots).\n",
       "fontsize : int, default None\n",
       "    Font size for xticks and yticks.\n",
       "colormap : str or matplotlib colormap object, default None\n",
       "    Colormap to select colors from. If string, load colormap with that\n",
       "    name from matplotlib.\n",
       "colorbar : bool, optional\n",
       "    If True, plot colorbar (only relevant for 'scatter' and 'hexbin'\n",
       "    plots).\n",
       "position : float\n",
       "    Specify relative alignments for bar plot layout.\n",
       "    From 0 (left/bottom-end) to 1 (right/top-end). Default is 0.5\n",
       "    (center).\n",
       "table : bool, Series or DataFrame, default False\n",
       "    If True, draw a table using the data in the DataFrame and the data\n",
       "    will be transposed to meet matplotlib's default layout.\n",
       "    If a Series or DataFrame is passed, use passed data to draw a\n",
       "    table.\n",
       "yerr : DataFrame, Series, array-like, dict and str\n",
       "    See :ref:`Plotting with Error Bars <visualization.errorbars>` for\n",
       "    detail.\n",
       "xerr : DataFrame, Series, array-like, dict and str\n",
       "    Equivalent to yerr.\n",
       "stacked : bool, default False in line and bar plots, and True in area plot\n",
       "    If True, create stacked plot.\n",
       "sort_columns : bool, default False\n",
       "    Sort column names to determine plot ordering.\n",
       "secondary_y : bool or sequence, default False\n",
       "    Whether to plot on the secondary y-axis if a list/tuple, which\n",
       "    columns to plot on secondary y-axis.\n",
       "mark_right : bool, default True\n",
       "    When using a secondary_y axis, automatically mark the column\n",
       "    labels with \"(right)\" in the legend.\n",
       "include_bool : bool, default is False\n",
       "    If True, boolean values can be plotted.\n",
       "backend : str, default None\n",
       "    Backend to use instead of the backend specified in the option\n",
       "    ``plotting.backend``. For instance, 'matplotlib'. Alternatively, to\n",
       "    specify the ``plotting.backend`` for the whole session, set\n",
       "    ``pd.options.plotting.backend``.\n",
       "\n",
       "    .. versionadded:: 1.0.0\n",
       "\n",
       "**kwargs\n",
       "    Options to pass to matplotlib plotting method.\n",
       "\n",
       "Returns\n",
       "-------\n",
       ":class:`matplotlib.axes.Axes` or numpy.ndarray of them\n",
       "    If the backend is not the default matplotlib one, the return value\n",
       "    will be the object returned by the backend.\n",
       "\n",
       "Notes\n",
       "-----\n",
       "- See matplotlib documentation online for more on this subject\n",
       "- If `kind` = 'bar' or 'barh', you can specify relative alignments\n",
       "  for bar plot layout by `position` keyword.\n",
       "  From 0 (left/bottom-end) to 1 (right/top-end). Default is 0.5\n",
       "  (center)\n"
      ]
     },
     "metadata": {},
     "output_type": "display_data"
    }
   ],
   "source": [
    "?df.plot"
   ]
  },
  {
   "cell_type": "code",
   "execution_count": 32,
   "id": "clinical-amendment",
   "metadata": {},
   "outputs": [
    {
     "name": "stdout",
     "output_type": "stream",
     "text": [
      "[2.90794702]\n",
      "[[0.0468431  0.17854434 0.00258619]]\n"
     ]
    }
   ],
   "source": [
    "X_train, X_test, y_train, y_test = train_test_split(X,\n",
    "                                                    y,\n",
    "                                                    test_size=0.20, random_state=1)\n",
    "reg_model = LinearRegression()\n",
    "reg_model.fit(X_train, y_train)\n",
    "print(reg_model.intercept_)\n",
    "print(reg_model.coef_)"
   ]
  },
  {
   "cell_type": "code",
   "execution_count": 33,
   "id": "upper-james",
   "metadata": {},
   "outputs": [
    {
     "data": {
      "text/plain": [
       "0.8959372632325174"
      ]
     },
     "execution_count": 33,
     "metadata": {},
     "output_type": "execute_result"
    }
   ],
   "source": [
    "from sklearn.metrics import mean_squared_error, r2_score, mean_absolute_error\n",
    "\n",
    "reg_model.score(X_train, y_train)"
   ]
  },
  {
   "cell_type": "code",
   "execution_count": 34,
   "id": "cognitive-nickel",
   "metadata": {},
   "outputs": [
    {
     "name": "stdout",
     "output_type": "stream",
     "text": [
      "mse:  1.9918855518287877\n",
      "rmse:  1.4113417558581578\n",
      "mae:  1.0402154012924711\n"
     ]
    }
   ],
   "source": [
    "y_pred = reg_model.predict(X_test)\n",
    "print(\"mse: \", mean_squared_error(y_test, y_pred))\n",
    "print(\"rmse: \", np.sqrt(mean_squared_error(y_test, y_pred)))\n",
    "print(\"mae: \",  mean_absolute_error(y_test, y_pred))"
   ]
  },
  {
   "cell_type": "code",
   "execution_count": 6,
   "id": "promotional-discussion",
   "metadata": {},
   "outputs": [
    {
     "name": "stdout",
     "output_type": "stream",
     "text": [
      "0\n",
      "1\n",
      "1\n",
      "2\n",
      "3\n",
      "5\n",
      "8\n",
      "13\n"
     ]
    }
   ],
   "source": [
    "\n",
    "\n",
    "    \n",
    "    "
   ]
  },
  {
   "cell_type": "code",
   "execution_count": null,
   "id": "pursuant-transparency",
   "metadata": {},
   "outputs": [],
   "source": []
  }
 ],
 "metadata": {
  "kernelspec": {
   "display_name": "Python 3",
   "language": "python",
   "name": "python3"
  },
  "language_info": {
   "codemirror_mode": {
    "name": "ipython",
    "version": 3
   },
   "file_extension": ".py",
   "mimetype": "text/x-python",
   "name": "python",
   "nbconvert_exporter": "python",
   "pygments_lexer": "ipython3",
   "version": "3.6.12"
  }
 },
 "nbformat": 4,
 "nbformat_minor": 5
}
