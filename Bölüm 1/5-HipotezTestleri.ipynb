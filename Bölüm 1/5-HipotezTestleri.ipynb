{
 "cells": [
  {
   "cell_type": "code",
   "execution_count": 17,
   "id": "prescription-custody",
   "metadata": {},
   "outputs": [],
   "source": [
    "import pandas as pd"
   ]
  },
  {
   "cell_type": "code",
   "execution_count": 1,
   "id": "voluntary-bones",
   "metadata": {},
   "outputs": [],
   "source": [
    "import numpy as np"
   ]
  },
  {
   "cell_type": "code",
   "execution_count": 2,
   "id": "sapphire-highland",
   "metadata": {},
   "outputs": [],
   "source": [
    "# t örneklem t testi"
   ]
  },
  {
   "cell_type": "code",
   "execution_count": 3,
   "id": "catholic-tractor",
   "metadata": {},
   "outputs": [],
   "source": [
    "#web sitesinde geçirilen süre"
   ]
  },
  {
   "cell_type": "code",
   "execution_count": 9,
   "id": "exposed-grain",
   "metadata": {},
   "outputs": [],
   "source": [
    "olcumler=np.array([17,160,234,149,145,107,197,75,201,225,211,119,157,145,127,244,163,114,145,65,112,185,202,146,203,224,203,\n",
    "                  114,156,188,187,154,177,95,165,50,110,216,138,151,166,135,155,84,251,173,131,207,121,120])"
   ]
  },
  {
   "cell_type": "code",
   "execution_count": 10,
   "id": "alpine-crawford",
   "metadata": {},
   "outputs": [
    {
     "data": {
      "text/plain": [
       "array([ 17, 160, 234, 149, 145, 107, 197,  75, 201, 225])"
      ]
     },
     "execution_count": 10,
     "metadata": {},
     "output_type": "execute_result"
    }
   ],
   "source": [
    "olcumler[:10]"
   ]
  },
  {
   "cell_type": "code",
   "execution_count": 23,
   "id": "accompanied-latin",
   "metadata": {},
   "outputs": [],
   "source": [
    "###tek örneklem t testi varsayım kontrolü"
   ]
  },
  {
   "cell_type": "code",
   "execution_count": 11,
   "id": "animated-volume",
   "metadata": {},
   "outputs": [],
   "source": [
    "import scipy.stats as stats"
   ]
  },
  {
   "cell_type": "code",
   "execution_count": 12,
   "id": "thermal-airline",
   "metadata": {},
   "outputs": [
    {
     "data": {
      "text/plain": [
       "DescribeResult(nobs=50, minmax=(17, 251), mean=154.38, variance=2578.0363265306123, skewness=-0.32398897278694483, kurtosis=-0.05849823498415985)"
      ]
     },
     "execution_count": 12,
     "metadata": {},
     "output_type": "execute_result"
    }
   ],
   "source": [
    "stats.describe(olcumler)"
   ]
  },
  {
   "cell_type": "code",
   "execution_count": 18,
   "id": "surrounded-luxembourg",
   "metadata": {},
   "outputs": [
    {
     "data": {
      "image/png": "[encoded data removed]",
      "text/plain": [
       "<Figure size 432x288 with 1 Axes>"
      ]
     },
     "metadata": {
      "needs_background": "light"
     },
     "output_type": "display_data"
    }
   ],
   "source": [
    "#histogram\n",
    "pd.DataFrame(olcumler).plot.hist();"
   ]
  },
  {
   "cell_type": "code",
   "execution_count": 19,
   "id": "extensive-stupid",
   "metadata": {},
   "outputs": [
    {
     "data": {
      "image/png": "[encoded data removed]",
      "text/plain": [
       "<Figure size 432x288 with 1 Axes>"
      ]
     },
     "metadata": {
      "needs_background": "light"
     },
     "output_type": "display_data"
    }
   ],
   "source": [
    "#qqplot\n",
    "import pylab\n",
    "stats.probplot(olcumler,dist=\"norm\",plot=pylab)\n",
    "pylab.show()"
   ]
  },
  {
   "cell_type": "code",
   "execution_count": 20,
   "id": "increasing-distance",
   "metadata": {},
   "outputs": [],
   "source": [
    "#shapiro-wilks testi    /////#varsayım kontrolü"
   ]
  },
  {
   "cell_type": "code",
   "execution_count": 21,
   "id": "solved-adolescent",
   "metadata": {},
   "outputs": [],
   "source": [
    "from scipy.stats import shapiro"
   ]
  },
  {
   "cell_type": "code",
   "execution_count": 22,
   "id": "wooden-literacy",
   "metadata": {},
   "outputs": [
    {
     "data": {
      "text/plain": [
       "ShapiroResult(statistic=0.9853105545043945, pvalue=0.7848747968673706)"
      ]
     },
     "execution_count": 22,
     "metadata": {},
     "output_type": "execute_result"
    }
   ],
   "source": [
    "shapiro(olcumler) #pvalue degeri 0.05 den büyük oldugu için H0 reddedilemez "
   ]
  },
  {
   "cell_type": "code",
   "execution_count": 24,
   "id": "marine-asbestos",
   "metadata": {},
   "outputs": [],
   "source": [
    "#tek örneklem t testi UYGULAMASI"
   ]
  },
  {
   "cell_type": "code",
   "execution_count": 26,
   "id": "worthy-mortgage",
   "metadata": {},
   "outputs": [
    {
     "data": {
      "text/plain": [
       "Ttest_1sampResult(statistic=-2.1753117985877966, pvalue=0.034460415195071446)"
      ]
     },
     "execution_count": 26,
     "metadata": {},
     "output_type": "execute_result"
    }
   ],
   "source": [
    "stats.ttest_1samp(olcumler , popmean=170) # pvalue degeri 0.05den küçük oldugu için H0 reddedilir yani \n",
    "                                          #web sitesinde geçirilen süre 170 saniye değildir"
   ]
  },
  {
   "cell_type": "code",
   "execution_count": 27,
   "id": "central-neighbor",
   "metadata": {},
   "outputs": [],
   "source": [
    "#nonparametrik tek örneklem testi"
   ]
  },
  {
   "cell_type": "code",
   "execution_count": 28,
   "id": "worthy-excitement",
   "metadata": {},
   "outputs": [],
   "source": [
    "from statsmodels.stats.descriptivestats import sign_test"
   ]
  },
  {
   "cell_type": "code",
   "execution_count": 29,
   "id": "solid-happening",
   "metadata": {},
   "outputs": [
    {
     "data": {
      "text/plain": [
       "(-7.0, 0.06490864707227219)"
      ]
     },
     "execution_count": 29,
     "metadata": {},
     "output_type": "execute_result"
    }
   ],
   "source": [
    "sign_test(olcumler,170)"
   ]
  },
  {
   "cell_type": "code",
   "execution_count": 30,
   "id": "universal-ambassador",
   "metadata": {},
   "outputs": [],
   "source": [
    "#tek örneklem oran testi"
   ]
  },
  {
   "cell_type": "code",
   "execution_count": 31,
   "id": "complicated-athletics",
   "metadata": {},
   "outputs": [],
   "source": [
    "from statsmodels.stats.proportion import proportions_ztest"
   ]
  },
  {
   "cell_type": "code",
   "execution_count": 32,
   "id": "other-determination",
   "metadata": {},
   "outputs": [],
   "source": [
    "count=40        #500 kişiden 40 kişi dönüş yapmıs\n",
    "nobs=500     \n",
    "value=0.125     #dönusum oranı 0.125"
   ]
  },
  {
   "cell_type": "code",
   "execution_count": 33,
   "id": "compliant-rider",
   "metadata": {},
   "outputs": [
    {
     "data": {
      "text/plain": [
       "(-3.7090151628513017, 0.0002080669689845979)"
      ]
     },
     "execution_count": 33,
     "metadata": {},
     "output_type": "execute_result"
    }
   ],
   "source": [
    "proportions_ztest(count,nobs,value)   #H0 0.05 den küçük oldugu için reddedilir yani dönusum oranı 0.125 degildir"
   ]
  },
  {
   "cell_type": "code",
   "execution_count": 34,
   "id": "coated-background",
   "metadata": {},
   "outputs": [],
   "source": [
    "#bagımsız iki örneklem t testi"
   ]
  },
  {
   "cell_type": "code",
   "execution_count": 45,
   "id": "humanitarian-nevada",
   "metadata": {},
   "outputs": [
    {
     "data": {
      "text/plain": [
       "0    30\n",
       "dtype: int64"
      ]
     },
     "execution_count": 45,
     "metadata": {},
     "output_type": "execute_result"
    }
   ],
   "source": [
    "A=pd.DataFrame([30,27,21,27,29,30,20,20,27,32,35,22,23,24,25,27,23,27,23,25,21,18,24,26,33,26,27,28,19,25])\n",
    "B=pd.DataFrame([37,39,31,31,34,38,30,36,29,28,38,28,37,37,30,32,31,31,27,32,33,33,33,31,32,33,26,32,33,29])\n",
    "A_B=pd.concat([A,B] , axis=1)\n",
    "A_B.columns= [\"A\",\"B\"]\n",
    "A_B.head()\n"
   ]
  },
  {
   "cell_type": "code",
   "execution_count": 36,
   "id": "alternate-environment",
   "metadata": {},
   "outputs": [],
   "source": []
  },
  {
   "cell_type": "code",
   "execution_count": 46,
   "id": "occupational-audit",
   "metadata": {},
   "outputs": [
    {
     "name": "stdout",
     "output_type": "stream",
     "text": [
      "   GELİR GRUP\n",
      "0     30    A\n",
      "1     27    A\n",
      "2     21    A\n",
      "3     27    A\n",
      "4     29    A\n",
      "    GELİR GRUP\n",
      "25     33    B\n",
      "26     26    B\n",
      "27     32    B\n",
      "28     33    B\n",
      "29     29    B\n"
     ]
    }
   ],
   "source": [
    "# A ve A nın grubu\n",
    "GRUP_A=np.arange(len(A))\n",
    "GRUP_A=pd.DataFrame(GRUP_A)\n",
    "GRUP_A[:]=\"A\"\n",
    "A = pd.concat([A,GRUP_A],axis=1)\n",
    "\n",
    "#B Ve B nin grubu\n",
    "GRUP_B=np.arange(len(B))\n",
    "GRUP_B=pd.DataFrame(GRUP_B)\n",
    "GRUP_B[:]=\"B\"\n",
    "B = pd.concat([B,GRUP_B],axis=1)\n",
    "\n",
    "#tüm veri\n",
    "AB = pd.concat([A,B])\n",
    "AB.columns=[\"GELİR\",\"GRUP\"]\n",
    "print(AB.head())\n",
    "print(AB.tail())"
   ]
  },
  {
   "cell_type": "code",
   "execution_count": 47,
   "id": "adapted-publisher",
   "metadata": {},
   "outputs": [],
   "source": [
    "import seaborn as sns"
   ]
  },
  {
   "cell_type": "code",
   "execution_count": 50,
   "id": "demanding-fleet",
   "metadata": {},
   "outputs": [
    {
     "data": {
      "image/png": "[encoded data removed]",
      "text/plain": [
       "<Figure size 432x288 with 1 Axes>"
      ]
     },
     "metadata": {
      "needs_background": "light"
     },
     "output_type": "display_data"
    }
   ],
   "source": [
    "sns.boxplot(x=\"GRUP\",y=\"GELİR\",data=AB);"
   ]
  },
  {
   "cell_type": "code",
   "execution_count": 51,
   "id": "fifteen-aggregate",
   "metadata": {},
   "outputs": [
    {
     "data": {
      "text/plain": [
       "ShapiroResult(statistic=0.9789242148399353, pvalue=0.7962799668312073)"
      ]
     },
     "execution_count": 51,
     "metadata": {},
     "output_type": "execute_result"
    }
   ],
   "source": [
    "shapiro(A_B.A)  #normallık varsayımı H0 hipotezi=örnek dağılımı ile teorik normal dağılım arasında fark yoktur diyor\n",
    "                #H1 fark vardır diyor\n",
    "                # p value degeri 0.05den büyük olduğu için reddemiyoruz buyuzden , \n",
    "                #örnek dağılımı ile teorik normal dağılım arasında fark yoktur"
   ]
  },
  {
   "cell_type": "code",
   "execution_count": 52,
   "id": "smooth-veteran",
   "metadata": {},
   "outputs": [
    {
     "data": {
      "text/plain": [
       "ShapiroResult(statistic=0.9561260342597961, pvalue=0.24584221839904785)"
      ]
     },
     "execution_count": 52,
     "metadata": {},
     "output_type": "execute_result"
    }
   ],
   "source": [
    "shapiro(A_B.B)   #normallık varsayımı H0 hipotezi=örnek dağılımı ile teorik normal dağılım arasında fark yoktur diyor\n",
    "                #H1 fark vardır diyor\n",
    "                # p value degeri 0.05den büyük olduğu için reddemiyoruz buyuzden , \n",
    "                #örnek dağılımı ile teorik normal dağılım arasında fark yoktur"
   ]
  },
  {
   "cell_type": "code",
   "execution_count": 53,
   "id": "killing-blackberry",
   "metadata": {},
   "outputs": [],
   "source": [
    "# varyans homojenliği varsayımı"
   ]
  },
  {
   "cell_type": "markdown",
   "id": "refined-disease",
   "metadata": {},
   "source": [
    "H0:Varyanslar homojendir\n",
    "\n",
    "H1:Varyanslar homojen değildir"
   ]
  },
  {
   "cell_type": "code",
   "execution_count": 55,
   "id": "similar-protocol",
   "metadata": {},
   "outputs": [
    {
     "data": {
      "text/plain": [
       "LeveneResult(statistic=1.1101802757158004, pvalue=0.2964124900636569)"
      ]
     },
     "execution_count": 55,
     "metadata": {},
     "output_type": "execute_result"
    }
   ],
   "source": [
    "stats.levene(A_B.A,A_B.B)   #p value değeri büyük oldugu için reddedilemez buyuzden homojendir"
   ]
  },
  {
   "cell_type": "code",
   "execution_count": null,
   "id": "unexpected-injection",
   "metadata": {},
   "outputs": [],
   "source": [
    "#bagımsız iki örneklem t testi (hipotez testi)"
   ]
  },
  {
   "cell_type": "code",
   "execution_count": 56,
   "id": "focused-poultry",
   "metadata": {},
   "outputs": [
    {
     "data": {
      "text/plain": [
       "Ttest_indResult(statistic=-7.028690967745927, pvalue=2.6233215605475075e-09)"
      ]
     },
     "execution_count": 56,
     "metadata": {},
     "output_type": "execute_result"
    }
   ],
   "source": [
    "stats.ttest_ind(A_B[\"A\"],A_B[\"B\"],equal_var=True)  #pvalue degeri 0.05den küçük oldugu için reddedilir yani m1=m2 değildir"
   ]
  },
  {
   "cell_type": "code",
   "execution_count": 59,
   "id": "purple-marathon",
   "metadata": {},
   "outputs": [
    {
     "name": "stdout",
     "output_type": "stream",
     "text": [
      "Test istatistiği = -7.0287 , pdegeri=0.0000\n"
     ]
    }
   ],
   "source": [
    "test_istatistigi, pvalue=stats.ttest_ind(A_B[\"A\"],A_B[\"B\"],equal_var=True)      \n",
    "print(\"Test istatistiği = %.4f , pdegeri=%.4f\" % (test_istatistigi, pvalue))"
   ]
  },
  {
   "cell_type": "code",
   "execution_count": 60,
   "id": "prepared-bobby",
   "metadata": {},
   "outputs": [],
   "source": [
    "#nonparametrik bagımsız iki örneklem testi"
   ]
  },
  {
   "cell_type": "code",
   "execution_count": null,
   "id": "elegant-category",
   "metadata": {},
   "outputs": [],
   "source": [
    "#eğer normallik varsayımı ve hipotez testi sağlamasaydı nınparametrik ile yaparız"
   ]
  },
  {
   "cell_type": "code",
   "execution_count": 62,
   "id": "approved-warehouse",
   "metadata": {},
   "outputs": [
    {
     "data": {
      "text/plain": [
       "MannwhitneyuResult(statistic=89.5, pvalue=4.778975189306267e-08)"
      ]
     },
     "execution_count": 62,
     "metadata": {},
     "output_type": "execute_result"
    }
   ],
   "source": [
    "stats.mannwhitneyu(A_B[\"A\"],A_B[\"B\"])  #pvalue degeri küçüktür"
   ]
  },
  {
   "cell_type": "code",
   "execution_count": 65,
   "id": "successful-light",
   "metadata": {},
   "outputs": [
    {
     "name": "stdout",
     "output_type": "stream",
     "text": [
      "Test istatistiği = 89.5000 , pdegeri=0.0000\n"
     ]
    }
   ],
   "source": [
    "test_istatistigi, pvalue=stats.mannwhitneyu(A_B[\"A\"],A_B[\"B\"])      \n",
    "print(\"Test istatistiği = %.4f , pdegeri=%.4f\" % (test_istatistigi, pvalue))"
   ]
  },
  {
   "cell_type": "code",
   "execution_count": null,
   "id": "super-playback",
   "metadata": {},
   "outputs": [],
   "source": []
  },
  {
   "cell_type": "code",
   "execution_count": null,
   "id": "adolescent-characteristic",
   "metadata": {},
   "outputs": [],
   "source": []
  }
 ],
 "metadata": {
  "kernelspec": {
   "display_name": "Python 3",
   "language": "python",
   "name": "python3"
  },
  "language_info": {
   "codemirror_mode": {
    "name": "ipython",
    "version": 3
   },
   "file_extension": ".py",
   "mimetype": "text/x-python",
   "name": "python",
   "nbconvert_exporter": "python",
   "pygments_lexer": "ipython3",
   "version": "3.6.12"
  }
 },
 "nbformat": 4,
 "nbformat_minor": 5
}
