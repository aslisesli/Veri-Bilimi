{
 "cells": [
  {
   "cell_type": "code",
   "execution_count": 1,
   "id": "interpreted-street",
   "metadata": {},
   "outputs": [],
   "source": [
    "#kütüphaneleri içe aktarma\n",
    "import cv2"
   ]
  },
  {
   "cell_type": "code",
   "execution_count": 2,
   "id": "associate-blade",
   "metadata": {},
   "outputs": [],
   "source": [
    "#yüz ve gözleri algılamak için opencv kitaplığının yüz ve göz xml'ini alma.\n",
    "\n",
    "face_cascade = cv2.CascadeClassifier(cv2.data.haarcascades + \"haarcascade_frontalface_default.xml\")\n",
    "eyes_cascade = cv2.CascadeClassifier(cv2.data.haarcascades + \"haarcascade_eye_tree_eyeglasses.xml\")\n"
   ]
  },
  {
   "cell_type": "code",
   "execution_count": 3,
   "id": "interior-coral",
   "metadata": {},
   "outputs": [],
   "source": [
    "first_read = True\n",
    "\n",
    "# Web kamerası açarak Video Yakalama\n",
    "cap = cv2.VideoCapture(0)\n",
    "\n",
    "# Yakalamanın ilk örneğini kontrol etmek için True ve görüntü döndürür\n",
    "ret, image = cap.read()\n",
    "\n",
    "while ret:\n",
    "# bu, web kamerasının çalışmasını ve her döngü için görüntüyü yakalamasını sağlar\n",
    "    ret, image = cap.read()\n",
    "# Kaydedilen görüntüyü gri tonlamaya dönüştürür\n",
    "    gray_scale = cv2.cvtColor(image, cv2.COLOR_BGR2GRAY)\n",
    "# Gürültü gidermek için filtre uygulama\n",
    "    gray_scale = cv2.bilateralFilter(gray_scale, 5, 1, 1)\n",
    "# yüz algılama   \n",
    "    faces = face_cascade.detectMultiScale(gray_scale, 1.3, 5, minSize=(200, 200))\n",
    "    if len(faces) > 0:\n",
    "        for (x, y, w, h) in faces:\n",
    "            #algılanan yüzü bounding box içine alma\n",
    "            image = cv2.rectangle(image, (x, y), (x + w, y + h), (0, 255, 0), 2)\n",
    "            \n",
    "            eye_face = gray_scale[y:y + h, x:x + w]\n",
    "           \n",
    "            eye_face_clr = image[y:y + h, x:x + w]\n",
    "            #göz algılama\n",
    "            eyes = eyes_cascade.detectMultiScale(eye_face, 1.3, 5, minSize=(50, 50))\n",
    "            #iki göz algılanıyorsa dikkatli oldugunu yazdır\n",
    "            if len(eyes) >= 2:\n",
    "                if first_read:\n",
    "                    cv2.putText(image, \"Dikkatli\", (70, 70), cv2.FONT_HERSHEY_SIMPLEX,\n",
    "                                1, (0, 255, 0), 2)\n",
    "            \n",
    "            else:\n",
    "                if first_read:\n",
    "                    cv2.putText(image, \"Dikkatsiz!\", (70, 70), cv2.FONT_HERSHEY_SIMPLEX,\n",
    "                                1, (255, 255, 255), 2)\n",
    "            \n",
    "    else:\n",
    "        cv2.putText(image, \"Yuz Algilanamadi.\", (70, 70), cv2.FONT_HERSHEY_SIMPLEX,\n",
    "                    1, (0, 255, 0), 2)\n",
    "    cv2.imshow('image', image)\n",
    "    a = cv2.waitKey(1)\n",
    "    if a == ord('q'):\n",
    "        break\n",
    "    \n",
    "\n",
    "cap.release()\n",
    "cv2.destroyAllWindows()"
   ]
  },
  {
   "cell_type": "code",
   "execution_count": null,
   "id": "honey-diploma",
   "metadata": {},
   "outputs": [],
   "source": []
  }
 ],
 "metadata": {
  "kernelspec": {
   "display_name": "Python 3",
   "language": "python",
   "name": "python3"
  },
  "language_info": {
   "codemirror_mode": {
    "name": "ipython",
    "version": 3
   },
   "file_extension": ".py",
   "mimetype": "text/x-python",
   "name": "python",
   "nbconvert_exporter": "python",
   "pygments_lexer": "ipython3",
   "version": "3.6.12"
  }
 },
 "nbformat": 4,
 "nbformat_minor": 5
}
