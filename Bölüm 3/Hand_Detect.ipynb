{
 "cells": [
  {
   "cell_type": "code",
   "execution_count": 1,
   "id": "civilian-feeling",
   "metadata": {},
   "outputs": [],
   "source": [
    "#kütüphaneleri içe aktarma\n",
    "import cv2\n",
    "import numpy as np"
   ]
  },
  {
   "cell_type": "code",
   "execution_count": 2,
   "id": "instrumental-group",
   "metadata": {},
   "outputs": [],
   "source": [
    "#opencv kitaplığından avuç içini tanımak ve el tanımak için xml'lerini alma\n",
    "rpalm_cascade = cv2.CascadeClassifier(\"rpalm.xml\")\n",
    "hand_cascade = cv2.CascadeClassifier(\"hand_cascde.xml\")"
   ]
  },
  {
   "cell_type": "code",
   "execution_count": 3,
   "id": "radical-morning",
   "metadata": {},
   "outputs": [],
   "source": [
    "#el tanıma gerçekleştirip, boundig box çizdirip ekrana \"palm\" ve \"hand\" yazısı çıkarma\n",
    "def detect(gray, frame):\n",
    "    hands = hand_cascade.detectMultiScale(gray, 1.3, 5)\n",
    "    rpalm = rpalm_cascade.detectMultiScale(gray, 1.3, 5)\n",
    "    \n",
    "    for (x, y, w, h) in hands:\n",
    "        cv2.putText(frame, 'Hand', (x, y), cv2.FONT_ITALIC, 1, (0, 255, 0), 2)\n",
    "        cv2.rectangle(frame, (x, y), (x + w, y + h), (0, 255, 0), 2)\n",
    "  \n",
    "    for (x, y, w, h) in rpalm:\n",
    "        cv2.putText(frame, 'Palm', (x, y), cv2.FONT_ITALIC, 1, (255, 255, 255), 2)\n",
    "        cv2.rectangle(frame, (x, y), (x + w, y + h), (100, 100, 100), 2)\n",
    "        \n",
    "    return frame"
   ]
  },
  {
   "cell_type": "code",
   "execution_count": 4,
   "id": "reliable-blast",
   "metadata": {},
   "outputs": [],
   "source": [
    "#gercek zamanlı tespit için web kamerasını açıp video yakalama\n",
    "video_capture = cv2.VideoCapture(0)\n",
    "while True:\n",
    "     # web kamerasının çalışması ve her döngü için görüntüyü yakalama\n",
    "    _, frame = video_capture.read()\n",
    "    # Kaydedilen görüntüyü gri tonlamaya dönüştürme\n",
    "    gray = cv2.cvtColor(frame, cv2.COLOR_BGR2GRAY)\n",
    "\n",
    "    detected = detect(gray, frame)\n",
    "    cv2.imshow('Video', detected)\n",
    "\n",
    "    # Döngüyü kırma (\"q\" ile)\n",
    "    if cv2.waitKey(1) & 0xFF == ord('q'):\n",
    "        break\n",
    "#video kapatma\n",
    "video_capture.release()\n",
    "cv2.destroyAllWindows()\n"
   ]
  },
  {
   "cell_type": "code",
   "execution_count": null,
   "id": "private-democracy",
   "metadata": {},
   "outputs": [],
   "source": []
  }
 ],
 "metadata": {
  "kernelspec": {
   "display_name": "Python 3",
   "language": "python",
   "name": "python3"
  },
  "language_info": {
   "codemirror_mode": {
    "name": "ipython",
    "version": 3
   },
   "file_extension": ".py",
   "mimetype": "text/x-python",
   "name": "python",
   "nbconvert_exporter": "python",
   "pygments_lexer": "ipython3",
   "version": "3.6.12"
  }
 },
 "nbformat": 4,
 "nbformat_minor": 5
}
