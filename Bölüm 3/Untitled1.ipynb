{
 "cells": [
  {
   "cell_type": "code",
   "execution_count": 2,
   "id": "temporal-intelligence",
   "metadata": {},
   "outputs": [],
   "source": [
    "import cv2\n",
    "import numpy as np"
   ]
  },
  {
   "cell_type": "code",
   "execution_count": 3,
   "id": "sweet-jersey",
   "metadata": {},
   "outputs": [],
   "source": [
    "img = cv2.imread(\"people.jpg\")\n",
    "# print(img)\n",
    "\n",
    "img_width = img.shape[1]\n",
    "img_height = img.shape[0]\n",
    "\n",
    "img_blob = cv2.dnn.blobFromImage(img, 1/255, (416,416), swapRB=True, crop=False)\n",
    "\n",
    "labels = [\"person\",\"bicycle\",\"car\",\"motorcycle\",\"airplane\",\"bus\",\"train\",\"truck\",\"boat\",\n",
    "         \"trafficlight\",\"firehydrant\",\"stopsign\",\"parkingmeter\",\"bench\",\"bird\",\"cat\",\n",
    "         \"dog\",\"horse\",\"sheep\",\"cow\",\"elephant\",\"bear\",\"zebra\",\"giraffe\",\"backpack\",\n",
    "         \"umbrella\",\"handbag\",\"tie\",\"suitcase\",\"frisbee\",\"skis\",\"snowboard\",\"sportsball\",\n",
    "         \"kite\",\"baseballbat\",\"baseballglove\",\"skateboard\",\"surfboard\",\"tennisracket\",\n",
    "         \"bottle\",\"wineglass\",\"cup\",\"fork\",\"knife\",\"spoon\",\"bowl\",\"banana\",\"apple\",\n",
    "         \"sandwich\",\"orange\",\"broccoli\",\"carrot\",\"hotdog\",\"pizza\",\"donut\",\"cake\",\"chair\",\n",
    "         \"sofa\",\"pottedplant\",\"bed\",\"diningtable\",\"toilet\",\"tvmonitor\",\"laptop\",\"mouse\",\n",
    "         \"remote\",\"keyboard\",\"cellphone\",\"microwave\",\"oven\",\"toaster\",\"sink\",\"refrigerator\",\n",
    "         \"book\",\"clock\",\"vase\",\"scissors\",\"teddybear\",\"hairdrier\",\"toothbrush\"]\n",
    "\n",
    "\n",
    "colors = [\"0,255,255\",\"0,0,255\",\"255,0,0\",\"255,255,0\",\"0,255,0\"]\n",
    "colors = [np.array(color.split(\",\")).astype(\"int\") for color in colors]\n",
    "colors = np.array(colors)\n",
    "colors = np.tile(colors,(18,1))"
   ]
  },
  {
   "cell_type": "code",
   "execution_count": 4,
   "id": "boring-payday",
   "metadata": {},
   "outputs": [],
   "source": [
    "\n",
    "model = cv2.dnn.readNetFromDarknet(\"yolov3.cfg\",\"yolov3.weights\")\n",
    "\n",
    "layers = model.getLayerNames()\n",
    "output_layer = [layers[layer[0]-1] for layer in model.getUnconnectedOutLayers()]\n",
    "\n",
    "model.setInput(img_blob)\n",
    "\n",
    "detection_layers = model.forward(output_layer)\n",
    "\n",
    "############## NON-MAXIMUM SUPPRESSION - OPERATION 1 ###################\n",
    "\n",
    "ids_list = []\n",
    "boxes_list = []\n",
    "confidences_list = []\n",
    "\n",
    "############################ END OF OPERATION 1 ########################"
   ]
  },
  {
   "cell_type": "code",
   "execution_count": 6,
   "id": "changing-upset",
   "metadata": {},
   "outputs": [],
   "source": [
    "for detection_layer in detection_layers:\n",
    "    for object_detection in detection_layer:\n",
    "        \n",
    "        scores = object_detection[5:]\n",
    "        predicted_id = np.argmax(scores)\n",
    "        confidence = scores[predicted_id]\n",
    "        \n",
    "        if confidence > 0.20:\n",
    "            \n",
    "            label = labels[predicted_id]\n",
    "            bounding_box = object_detection[0:4] * np.array([img_width,img_height,img_width,img_height])\n",
    "            (box_center_x, box_center_y, box_width, box_height) = bounding_box.astype(\"int\")\n",
    "            \n",
    "            start_x = int(box_center_x - (box_width/2))\n",
    "            start_y = int(box_center_y - (box_height/2))\n",
    "            \n",
    "            \n",
    "            ############## NON-MAXIMUM SUPPRESSION - OPERATION 2 ###################\n",
    "            \n",
    "            ids_list.append(predicted_id)\n",
    "            confidences_list.append(float(confidence))\n",
    "            boxes_list.append([start_x, start_y, int(box_width), int(box_height)])\n",
    "            \n",
    "            ############################ END OF OPERATION 2 ########################"
   ]
  },
  {
   "cell_type": "code",
   "execution_count": 7,
   "id": "traditional-shooting",
   "metadata": {},
   "outputs": [
    {
     "name": "stdout",
     "output_type": "stream",
     "text": [
      "predicted object person: 99.96%\n",
      "predicted object person: 99.16%\n",
      "predicted object laptop: 92.42%\n",
      "predicted object person: 83.74%\n"
     ]
    },
    {
     "data": {
      "text/plain": [
       "-1"
      ]
     },
     "execution_count": 7,
     "metadata": {},
     "output_type": "execute_result"
    }
   ],
   "source": [
    "############## NON-MAXIMUM SUPPRESSION - OPERATION 3 ###################\n",
    "            \n",
    "max_ids = cv2.dnn.NMSBoxes(boxes_list, confidences_list, 0.5, 0.4)\n",
    "     \n",
    "for max_id in max_ids:\n",
    "    \n",
    "    max_class_id = max_id[0]\n",
    "    box = boxes_list[max_class_id]\n",
    "    \n",
    "    start_x = box[0] \n",
    "    start_y = box[1] \n",
    "    box_width = box[2] \n",
    "    box_height = box[3] \n",
    "     \n",
    "    predicted_id = ids_list[max_class_id]\n",
    "    label = labels[predicted_id]\n",
    "    confidence = confidences_list[max_class_id]\n",
    "  \n",
    " ############################ END OF OPERATION 3 ########################\n",
    "            \n",
    "    end_x = start_x + box_width\n",
    "    end_y = start_y + box_height\n",
    "            \n",
    "    box_color = colors[predicted_id]\n",
    "    box_color = [int(each) for each in box_color]\n",
    "            \n",
    "            \n",
    "    label = \"{}: {:.2f}%\".format(label, confidence*100)\n",
    "    print(\"predicted object {}\".format(label))\n",
    "     \n",
    "            \n",
    "    cv2.rectangle(img, (start_x,start_y),(end_x,end_y),box_color,1)\n",
    "    cv2.putText(img,label,(start_x,start_y-10), cv2.FONT_HERSHEY_SIMPLEX, 0.5, box_color, 1)\n",
    "\n",
    "\n",
    "cv2.imshow(\"Detection Window\", img)     \n",
    "cv2.waitKey(0)"
   ]
  },
  {
   "cell_type": "code",
   "execution_count": null,
   "id": "alleged-tuesday",
   "metadata": {},
   "outputs": [],
   "source": []
  }
 ],
 "metadata": {
  "kernelspec": {
   "display_name": "Python 3",
   "language": "python",
   "name": "python3"
  },
  "language_info": {
   "codemirror_mode": {
    "name": "ipython",
    "version": 3
   },
   "file_extension": ".py",
   "mimetype": "text/x-python",
   "name": "python",
   "nbconvert_exporter": "python",
   "pygments_lexer": "ipython3",
   "version": "3.6.12"
  }
 },
 "nbformat": 4,
 "nbformat_minor": 5
}
